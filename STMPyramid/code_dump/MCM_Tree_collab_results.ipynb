{
  "cells": [
    {
      "cell_type": "code",
      "source": [
        "!pip install mnist\n",
        "!pip install tensorly\n",
        "!pip install cvxpy"
      ],
      "metadata": {
        "colab": {
          "base_uri": "https://localhost:8080/"
        },
        "id": "ev1IgvWnPw8p",
        "outputId": "c40f0398-c619-42c7-cedb-8f55649039b5"
      },
      "execution_count": 1,
      "outputs": [
        {
          "output_type": "stream",
          "name": "stdout",
          "text": [
            "Collecting mnist\n",
            "  Downloading mnist-0.2.2-py2.py3-none-any.whl (3.5 kB)\n",
            "Requirement already satisfied: numpy in /usr/local/lib/python3.7/dist-packages (from mnist) (1.19.5)\n",
            "Installing collected packages: mnist\n",
            "Successfully installed mnist-0.2.2\n",
            "Collecting tensorly\n",
            "  Downloading tensorly-0.7.0-py3-none-any.whl (198 kB)\n",
            "\u001b[K     |████████████████████████████████| 198 kB 7.5 MB/s \n",
            "\u001b[?25hRequirement already satisfied: numpy in /usr/local/lib/python3.7/dist-packages (from tensorly) (1.19.5)\n",
            "Collecting nose\n",
            "  Downloading nose-1.3.7-py3-none-any.whl (154 kB)\n",
            "\u001b[K     |████████████████████████████████| 154 kB 61.7 MB/s \n",
            "\u001b[?25hRequirement already satisfied: scipy in /usr/local/lib/python3.7/dist-packages (from tensorly) (1.4.1)\n",
            "Installing collected packages: nose, tensorly\n",
            "Successfully installed nose-1.3.7 tensorly-0.7.0\n",
            "Requirement already satisfied: cvxpy in /usr/local/lib/python3.7/dist-packages (1.0.31)\n",
            "Requirement already satisfied: osqp>=0.4.1 in /usr/local/lib/python3.7/dist-packages (from cvxpy) (0.6.2.post0)\n",
            "Requirement already satisfied: ecos>=2 in /usr/local/lib/python3.7/dist-packages (from cvxpy) (2.0.7.post1)\n",
            "Requirement already satisfied: numpy>=1.15 in /usr/local/lib/python3.7/dist-packages (from cvxpy) (1.19.5)\n",
            "Requirement already satisfied: multiprocess in /usr/local/lib/python3.7/dist-packages (from cvxpy) (0.70.12.2)\n",
            "Requirement already satisfied: scipy>=1.1.0 in /usr/local/lib/python3.7/dist-packages (from cvxpy) (1.4.1)\n",
            "Requirement already satisfied: scs>=1.1.3 in /usr/local/lib/python3.7/dist-packages (from cvxpy) (2.1.4)\n",
            "Requirement already satisfied: qdldl in /usr/local/lib/python3.7/dist-packages (from osqp>=0.4.1->cvxpy) (0.1.5.post0)\n",
            "Requirement already satisfied: dill>=0.3.4 in /usr/local/lib/python3.7/dist-packages (from multiprocess->cvxpy) (0.3.4)\n"
          ]
        }
      ]
    },
    {
      "cell_type": "code",
      "execution_count": 2,
      "metadata": {
        "id": "bQkKMTstPYMv"
      },
      "outputs": [],
      "source": [
        "import numpy as np\n",
        "import pandas as pd\n",
        "from scipy.optimize import linprog \n",
        "from sklearn.metrics import accuracy_score\n",
        "import random\n",
        "import sys\n",
        "import matplotlib.pyplot as plt\n",
        "from scipy.io import loadmat\n",
        "from sklearn.model_selection import train_test_split\n",
        "from pprint import pprint\n",
        "from sklearn.svm import SVC\n",
        "import math\n",
        "from sklearn.preprocessing import StandardScaler\n",
        "import cvxpy as cp\n",
        "import sys\n",
        "from random import seed\n",
        "np.random.seed(1)\n",
        "seed(1)\n",
        "import time\n",
        "import numpy as np\n",
        "import scipy as sp\n",
        "import matplotlib.pyplot as plt\n",
        "from scipy.optimize import linprog\n",
        "from sklearn import svm\n",
        "import math\n",
        "import cvxopt\n",
        "import mnist\n",
        "from matplotlib import pyplot as plt\n",
        "import tensorly as tl\n",
        "import tensorly.decomposition as decomp"
      ]
    },
    {
      "cell_type": "code",
      "execution_count": 3,
      "metadata": {
        "id": "9OclqdYdPYM4"
      },
      "outputs": [],
      "source": [
        "def centroid(points):\n",
        "    c = np.zeros(points.shape[1:])\n",
        "    for i in range(points.shape[0]):\n",
        "        c = c + points[i]\n",
        "    return c/points.shape[0]\n",
        "\n",
        "\n",
        "def visualise(w,shape):\n",
        "    wsq=w.copy()\n",
        "    wsq=np.reshape(wsq,shape)\n",
        "    plt.imshow(wsq, interpolation='nearest',cmap='gray')\n",
        "    plt.show()\n",
        "    "
      ]
    },
    {
      "cell_type": "code",
      "execution_count": 4,
      "metadata": {
        "id": "hmNXqdbKPYM5"
      },
      "outputs": [],
      "source": [
        "def inner_mat(A, B, M = None):\n",
        "    assert(A.shape==B.shape)\n",
        "    M = A.shape[0] if M is None else M\n",
        "    M = min(M, A.shape[0])\n",
        "    mat = np.ones((M,M))\n",
        "    for i in range(M):\n",
        "        for j in range(M):\n",
        "            xi = A[i]\n",
        "            xj = B[j]\n",
        "            mat[i,j] = np.sum(xi*xj)\n",
        "    return mat\n",
        "def inner_prod_cp(w,x):\n",
        "    return cp.sum(cp.multiply(w,x))\n",
        "def inner_prod(A, B):\n",
        "    if A.shape == B.shape:\n",
        "        return np.sum(A*B)\n",
        "    if A.shape == B.shape[1:]:\n",
        "        ans = []\n",
        "        for b in B:\n",
        "            ans.append(np.sum(A*b))\n",
        "        return ans"
      ]
    },
    {
      "cell_type": "code",
      "execution_count": 5,
      "metadata": {
        "id": "piPrKDgnPYM6"
      },
      "outputs": [],
      "source": [
        "def predict(X, w, b):\n",
        "  return np.sign(inner_prod(w, X)+b).reshape(-1,1)\n",
        "def accuracy(a,b):\n",
        "  n=0\n",
        "  for i in range(len(a)):\n",
        "    if(a[i]==b[i]):\n",
        "      n=n+1\n",
        "  return n/len(a)\n",
        "def getHyperPlaneFromTwoPoints(x1, x2):\n",
        "  assert(x1.shape[0]==x2.shape[0])\n",
        "  d = x1.shape[0]\n",
        "  w = (2 + 1e-8) * (x2 - x1) / (np.linalg.norm(x1 - x2) ** 2)\n",
        "  #b = - np.dot(w , (0.5 * (x1 + x2)))\n",
        "  b = inner_prod(w,(0.5 * (x1 + x2)))  \n",
        "  return w, b"
      ]
    },
    {
      "cell_type": "code",
      "execution_count": 6,
      "metadata": {
        "id": "o75ffGRnPYM6"
      },
      "outputs": [],
      "source": [
        "def solver(X, y, C = 1, method='MCM_STM', r = None, flag = True, xa = None, xb = None, methodw = 'L2', methodq = 'L1'):\n",
        "    method = 'STM'\n",
        "    y = y.reshape(-1,1)\n",
        "    assert(X.shape[0]==y.shape[0])\n",
        "    if flag==False or len(X.shape)==2:\n",
        "        if method == 'STM' or method == 'SHTM' or method == 'MCM_STM':\n",
        "            w = np.ones(X.shape[1:])\n",
        "            b = np.ones(y.shape[1:])\n",
        "            M = X.shape[0]\n",
        "            if method == 'STM':\n",
        "                H = np.dot(y,y.T)*inner_mat(X,X)*1.0\n",
        "            elif method == 'SHTM':\n",
        "                r = r if r is not None else 1\n",
        "                H = np.dot(y,y.T)*inner_mat(X, X, r, method='SHTM')*1.0\n",
        "            P_ = cvxopt.matrix(H)\n",
        "            q_ = cvxopt.matrix(-np.ones((M,1)))\n",
        "            G_ = cvxopt.matrix(np.vstack((np.eye(M)*-1,np.eye(M))))\n",
        "            h_ = cvxopt.matrix(np.hstack((np.zeros(M), np.ones(M)*C)))\n",
        "            A_ = cvxopt.matrix(y.reshape(1,-1).astype('float'))\n",
        "            b_ = cvxopt.matrix(np.zeros(1)) \n",
        "            sol = cvxopt.solvers.qp(P_, q_, G_, h_, A_, b_, options={'show_progress': False})\n",
        "            alphas = np.array(sol['x'])\n",
        "            w = np.tensordot((y*alphas).T, X, axes = ((1),(0))).reshape(X.shape[1:]) \n",
        "            b = -0.5*(max(inner_prod(w, X[(y==-1).reshape(-1)])) + min(inner_prod(w, X[(y==1).reshape(-1)])))\n",
        "            return w, b\n",
        "    else:\n",
        "        #only works for greyscale right now\n",
        "        xa = xa if xa is not None else np.zeros(X.shape[0])\n",
        "        xb = xb if xb is not None else np.zeros(X.shape[0])\n",
        "        assert(xa is not None)\n",
        "        assert(xb is not None)\n",
        "        assert(len(X.shape)<=3)\n",
        "        if len(X.shape)==3:\n",
        "            if method == 'MCM_STM':\n",
        "                w = cp.Variable(X.shape[1:])\n",
        "                b = cp.Variable((1,1))\n",
        "                wa = cp.Variable((1,1))\n",
        "                wb = cp.Variable((1,1))\n",
        "                qi = cp.Variable(y.shape)\n",
        "                h = cp.Variable((1,1))\n",
        "                if methodq == 'L1':\n",
        "                    term2 = cp.sum(qi)*C\n",
        "                elif methodq == 'L0':\n",
        "                    term2 = 0\n",
        "                    for i in range(y.shape[0]):\n",
        "                        term2 += cp.maximum(0,cp.sign(qi[i]))*C\n",
        "                objfun = cp.Minimize(h + term2)\n",
        "                constraints = []\n",
        "                maxes = np.max(X, axis=0)\n",
        "                mines = np.min(X, axis= 0)\n",
        "                for i in range(X.shape[1]):\n",
        "                    for j in range(X.shape[2]):\n",
        "                        constraints+=[w[i][j]<=maxes[i][j], mines[i][j]<=w[i][j]]\n",
        "                for i in range(X.shape[0]):\n",
        "                    constraints+=[cp.multiply(y[i],(inner_prod_cp(w,X[i]) + b + cp.multiply(wa,xa[i]) + cp.multiply(wb,xb[i])))+qi[i] >= 1.0, \\\n",
        "                        cp.multiply(y[i],(inner_prod_cp(w,X[i]) + b + cp.multiply(wa,xa[i]) + cp.multiply(wb,xb[i])))+qi[i] <= h, qi[i]>=0]\n",
        "                problem = cp.Problem(objfun,constraints)\n",
        "                problem.solve(verbose=False)\n",
        "                return w.value, b.value, wa.value, wb.value\n",
        "            if method == 'STM' or method == 'SHTM':\n",
        "                w = cp.Variable(X.shape[1:])\n",
        "                b = cp.Variable((1,1))\n",
        "                wa = cp.Variable((1,1))\n",
        "                wb = cp.Variable((1,1))\n",
        "                qi = cp.Variable(y.shape)\n",
        "                if methodq == 'L1':\n",
        "                    term2 = cp.sum(qi)*C\n",
        "                elif methodq == 'L0':\n",
        "                    term2 = 0\n",
        "                    for i in range(y.shape[0]):\n",
        "                        term2 += cp.maximum(0,cp.sign(qi[i]))*C\n",
        "                if methodw == 'L2':\n",
        "                    term1 = 1/2*cp.norm2(w)\n",
        "                    term3 = 1/2*(cp.square(wa)+cp.square(wb))\n",
        "                elif methodw == 'L1':\n",
        "                    term1 = cp.norm1(w)\n",
        "                    term3 = cp.abs(wa)+cp.abs(wb)\n",
        "                elif methodw == 'L0':\n",
        "                    term1 = 0\n",
        "                    for i in range(X.shape[1]):\n",
        "                        for j in range(X.shape[2]):\n",
        "                            term1 += cp.maximum(0,cp.sign(w[i][j]))\n",
        "                    term3 = cp.maximum(0,cp.sign(wa))+cp.maximum(0,cp.sign(wb))\n",
        "                objfun = cp.Minimize(term1+term2+term3)\n",
        "                constraints = []\n",
        "                #constraints = y*(inner_prod_cp(w,X) + b + wa*xa + wb*xb) + qi >= 1\n",
        "                #constraints += qi>=0\n",
        "                maxes = np.max(X, axis=0)\n",
        "                mines = np.min(X, axis= 0)\n",
        "                for i in range(X.shape[1]):\n",
        "                    for j in range(X.shape[2]):\n",
        "                        constraints+=[w[i][j]<=maxes[i][j], mines[i][j]<=w[i][j]]\n",
        "                for i in range(X.shape[0]):\n",
        "                    constraints+=[cp.multiply(y[i],(inner_prod_cp(w,X[i]) + b + cp.multiply(wa,xa[i]) + cp.multiply(wb,xb[i])))+qi[i]>=1, qi[i]>=0]\n",
        "                problem = cp.Problem(objfun,constraints)\n",
        "                problem.solve()\n",
        "                return w.value, b.value, wa.value, wb.value"
      ]
    },
    {
      "cell_type": "code",
      "execution_count": 11,
      "metadata": {
        "id": "WSZg6o1WPYM8"
      },
      "outputs": [],
      "source": [
        "class Node:\n",
        "  def __init__(self,inp_dimensions):\n",
        "    self.weight = np.zeros(inp_dimensions)\n",
        "    self.bias = 0\n",
        "    self.A = None\n",
        "    self.B = None\n",
        "    self.wA = 0\n",
        "    self.wB = 0\n",
        "    self.dim = inp_dimensions\n",
        "    self.C1=[]\n",
        "    self.C2=[]\n",
        "    self.C3=[]\n",
        "    self.C4=[]\n",
        "    self.labels = []\n",
        "    self.X = []\n",
        "    self.height = 0\n",
        "  def insert(self,neuron_type, weight=0, bias=0, w=0):     \n",
        "    if neuron_type == 'A':\n",
        "      self.A = Node(self.dim)\n",
        "      self.A.weight = weight\n",
        "      self.A.bias = bias\n",
        "      self.A.height = self.height+1\n",
        "      return self.A\n",
        "    else:\n",
        "      self.B = Node(self.dim)\n",
        "      self.B.weight = weight\n",
        "      self.B.bias = bias\n",
        "      self.B.height = self.height+1\n",
        "      return self.B\n",
        "  def update_weights_and_bias(self,weight, bias, wA = 0, wB = 0):  \n",
        "    self.weight = weight\n",
        "    self.bias = bias\n",
        "    self.wA = wA\n",
        "    self.wB = wB\n",
        "  def update_classes(self,ypred,ytrue):\n",
        "    ypred=ypred.copy()\n",
        "    ypred=np.reshape(ypred,(ypred.shape[0],1))    \n",
        "    yf  = np.add(2*ypred, ytrue)\n",
        "    self.C1 = np.argwhere(yf>2)[:,0] #1,1              #In order: predicted, true\n",
        "    self.C2 = np.argwhere(yf<-2)[:,0] #-1,-1\n",
        "    self.C3 = np.where((yf<2) & (yf>0))[0]   #1,-1\n",
        "    self.C4 = np.where((yf<0) & (yf>-2))[0] #-1,1\n",
        "  def forward(self, X): \n",
        "    \n",
        "    y=[]\n",
        "    X=X.copy()\n",
        "    w = self.weight \n",
        "    b = self.bias\n",
        "    wA = np.asarray([self.wA]).copy()\n",
        "    wB=np.asarray([self.wB]).copy()\n",
        "\n",
        "    if(self==None):\n",
        "      return [] \n",
        "    if(self.A==None and self.B==None):\n",
        "\n",
        "      y = np.sign(np.array(inner_prod(w, X))+np.array(b)).reshape(-1,1)\n",
        "    if(self.A==None):\n",
        "      xA = np.zeros((X.shape[0],1))\n",
        "    else:\n",
        "      xA = self.A.forward(X)\n",
        "      xA=np.reshape(xA,(xA.shape[0],1))\n",
        "    if(self.B==None):\n",
        "      xB = np.zeros((X.shape[0],1)) \n",
        "    else:\n",
        "      xB = self.B.forward(X)\n",
        "      xB=np.reshape(xB,(xB.shape[0],1))\n",
        "    if(self.A!=None and self.B!=None):\n",
        "\n",
        "      wA = np.asarray([(wA.item())])\n",
        "      wB = np.asarray([(wB.item())])\n",
        "\n",
        "      y = np.sign(np.asarray(inner_prod(w, X))+np.asarray(inner_prod(wA, xA))+np.asarray(inner_prod(wB, xB))+np.asarray(b)).reshape(-1,1)\n",
        "    if(self.A!=None and self.B==None):\n",
        "\n",
        "      wA = np.asarray([(wA.item())])\n",
        "      y = np.sign(np.asarray(inner_prod(w, X))+np.asarray(inner_prod(wA, xA))+np.asarray(b)).reshape(-1,1)\n",
        "    if(self.A==None and self.B!=None):\n",
        "\n",
        "      wB = np.asarray([(wB.item())])\n",
        "      y = np.sign(np.asarray(inner_prod(w, X))+np.asarray(inner_prod(wB, xB))+np.asarray(b)).reshape(-1,1)\n",
        "\n",
        "    return y\n",
        "    \n",
        "  def fine_tune_weights(self,C, methodw, methodq):\n",
        "    #print(\"fine tune used\")\n",
        "    l=self.labels.copy()\n",
        "    X = self.X.copy()\n",
        "    xA = np.zeros((X.shape[0],1))\n",
        "    xB = np.zeros((X.shape[0],1))\n",
        "    if(self==None):\n",
        "      return   \n",
        "    if(self.A!=None):\n",
        "      self.A.fine_tune_weights(C, methodw=methodw, methodq=methodq)  \n",
        "      xA = self.A.forward(X)\n",
        "      xA=np.reshape(xA,(xA.shape[0],1))\n",
        "\n",
        "    if(self.B!=None):\n",
        "      self.B.fine_tune_weights(C, methodw=methodw, methodq=methodq) \n",
        "      xB = self.B.forward(X)\n",
        "      xB=np.reshape(xB,(xB.shape[0],1))\n",
        "    weight, bias, wA, wB = solver(X,l,C,'MCM_STM',None,True,xA,xB, methodw=methodw, methodq=methodq)\n",
        "    print(self.height)\n",
        "    visualise(weight,(X.shape[1],X.shape[2]))##THis is hard coded assuming Grayscale Images\n",
        "\n",
        "    self.update_weights_and_bias(weight, bias,wA,wB)\n",
        "\n",
        "\n",
        "  def recursive(self, X,labels, h,C, methodw, methodq):\n",
        "    self.X = X\n",
        "    self.labels = labels\n",
        "    labels=labels.copy()\n",
        "    X=X.copy()\n",
        "    weight, bias, _, _1_ = solver(X,labels,C, methodw=methodw, methodq=methodq)\n",
        "    self.update_weights_and_bias(weight, bias)\n",
        "    ypred=self.forward(X)\n",
        "    self.update_classes(ypred,labels)\n",
        "    C1=self.C1\n",
        "    C2=self.C2\n",
        "    C3=self.C3\n",
        "    C4=self.C4\n",
        "    if(len(C3)==0 and len(C4)==0):\n",
        "      return\n",
        "    if(self.height>h-1):\n",
        "      return\n",
        "    if(len(C1)==0 or len(C2)==0):\n",
        "      if(len(C1)!=0):\n",
        "        X_positive=np.take(X,np.hstack((C1,C4)),axis=0) \n",
        "        X_negative=np.take(X,np.hstack((C3)),axis=0)\n",
        "        #x1=X[C1[0]]\n",
        "        #x2=X[C3[0]]\n",
        "      elif(len(C2)!=0):\n",
        "        X_positive=np.take(X,np.hstack((C4)),axis=0)  \n",
        "        X_negative=np.take(X,np.hstack((C2,C3)),axis=0)\n",
        "        #x1=X[C2[0]]\n",
        "        #x2=X[C4[0]]\n",
        "      else:\n",
        "        #x1=X[C3[0]]\n",
        "        #x2=X[C4[0]]\n",
        "        X_positive=np.take(X,np.hstack((C4)),axis=0)  \n",
        "        X_negative=np.take(X,np.hstack((C3)),axis=0)\n",
        "      x1 = centroid(X_positive)\n",
        "      x2 = centroid(X_negative)\n",
        "      weight, bias = getHyperPlaneFromTwoPoints(x1, x2)\n",
        "      self.update_weights_and_bias(weight, bias)\n",
        "      ypred = self.forward(X)\n",
        "      self.update_classes(ypred,labels)\n",
        "      C1=self.C1\n",
        "      C2=self.C2\n",
        "      C3=self.C3\n",
        "      C4=self.C4\n",
        "\n",
        "    if(len(C3)!=0):\n",
        "      X_new=np.take(X,np.hstack((C1,C3,C4)),axis=0)\n",
        "      labels[C1]=-1\n",
        "      labels[C3]=1\n",
        "      labels[C4]=-1\n",
        "      y_new=np.take(labels,np.hstack((C1,C3,C4)),axis=0)\n",
        "      NodeA = self.insert('A')\n",
        "      NodeA.recursive(X_new,y_new,h,C, methodw=methodw, methodq=methodq)\n",
        "    if(len(C4) != 0):\n",
        "      X_new=np.take(X,np.hstack((C2,C3,C4)),axis=0)\n",
        "      labels[C2]=-1\n",
        "      labels[C3]=-1\n",
        "      labels[C4]=1\n",
        "      y_new=np.take(labels,np.hstack((C2,C3,C4)),axis=0)\n",
        "      NodeB = self.insert('B')\n",
        "      NodeB.recursive(X_new,y_new,h,C, methodw=methodw, methodq=methodq)\n"
      ]
    },
    {
      "cell_type": "code",
      "execution_count": 8,
      "metadata": {
        "id": "gKtncq7oPYM9"
      },
      "outputs": [],
      "source": [
        "def train(X,y,height = 1000,C=1000000, methodw = 'L2', methodq = 'L1'):\n",
        "  print(\"Start\")\n",
        "  Tree = Node(X.shape[1:])\n",
        "\n",
        "  Tree.recursive(X,y,height,C, methodw=methodw, methodq=methodq)\n",
        "  print(\"Recursion Done\")\n",
        "\n",
        "  Tree.fine_tune_weights(C, methodw=methodw, methodq=methodq)\n",
        "  print(\"End\")\n",
        "\n",
        "  ypred=Tree.forward(X)\n",
        "  print(\"Train accuracy:\")\n",
        "  print(accuracy(y,ypred))\n",
        "  return Tree"
      ]
    },
    {
      "cell_type": "code",
      "execution_count": 9,
      "metadata": {
        "id": "KqGVoLUdPYM-"
      },
      "outputs": [],
      "source": [
        "XALL = mnist.train_images()[:]/255\n",
        "yALL = mnist.train_labels().reshape(-1,1)[:].astype(np.int8)\n",
        "y0 = (yALL == 3)\n",
        "y2 = (yALL == 8)\n",
        "ytot = y0 + y2\n",
        "Xtrain = XALL[ytot.reshape(-1)]\n",
        "ytrain = (yALL[ytot.reshape(-1)] -5.5)/2.5"
      ]
    },
    {
      "cell_type": "code",
      "execution_count": 19,
      "metadata": {
        "colab": {
          "base_uri": "https://localhost:8080/",
          "height": 1000
        },
        "id": "HNi6cG08PYM_",
        "outputId": "4915877c-552b-4cd7-b297-e39bb1b43887"
      },
      "outputs": [
        {
          "metadata": {
            "tags": null
          },
          "name": "stdout",
          "output_type": "stream",
          "text": [
            "0 fold\n",
            "Start\n",
            "Recursion Done\n",
            "3\n"
          ]
        },
        {
          "data": {
            "image/png": "[encoded data removed]",
            "text/plain": [
              "<Figure size 432x288 with 1 Axes>"
            ]
          },
          "metadata": {},
          "output_type": "display_data"
        },
        {
          "metadata": {
            "tags": null
          },
          "name": "stdout",
          "output_type": "stream",
          "text": [
            "2\n"
          ]
        },
        {
          "data": {
            "image/png": "[encoded data removed]",
            "text/plain": [
              "<Figure size 432x288 with 1 Axes>"
            ]
          },
          "metadata": {},
          "output_type": "display_data"
        },
        {
          "metadata": {
            "tags": null
          },
          "name": "stdout",
          "output_type": "stream",
          "text": [
            "3\n"
          ]
        },
        {
          "data": {
            "image/png": "[encoded data removed]",
            "text/plain": [
              "<Figure size 432x288 with 1 Axes>"
            ]
          },
          "metadata": {},
          "output_type": "display_data"
        },
        {
          "metadata": {
            "tags": null
          },
          "name": "stdout",
          "output_type": "stream",
          "text": [
            "3\n"
          ]
        },
        {
          "data": {
            "image/png": "[encoded data removed]",
            "text/plain": [
              "<Figure size 432x288 with 1 Axes>"
            ]
          },
          "metadata": {},
          "output_type": "display_data"
        },
        {
          "metadata": {
            "tags": null
          },
          "name": "stdout",
          "output_type": "stream",
          "text": [
            "2\n"
          ]
        },
        {
          "data": {
            "image/png": "[encoded data removed]",
            "text/plain": [
              "<Figure size 432x288 with 1 Axes>"
            ]
          },
          "metadata": {},
          "output_type": "display_data"
        },
        {
          "metadata": {
            "tags": null
          },
          "name": "stdout",
          "output_type": "stream",
          "text": [
            "1\n"
          ]
        },
        {
          "data": {
            "image/png": "[encoded data removed]",
            "text/plain": [
              "<Figure size 432x288 with 1 Axes>"
            ]
          },
          "metadata": {},
          "output_type": "display_data"
        },
        {
          "metadata": {
            "tags": null
          },
          "name": "stdout",
          "output_type": "stream",
          "text": [
            "3\n"
          ]
        },
        {
          "data": {
            "image/png": "[encoded data removed]",
            "text/plain": [
              "<Figure size 432x288 with 1 Axes>"
            ]
          },
          "metadata": {},
          "output_type": "display_data"
        },
        {
          "metadata": {
            "tags": null
          },
          "name": "stdout",
          "output_type": "stream",
          "text": [
            "3\n"
          ]
        },
        {
          "data": {
            "image/png": "[encoded data removed]",
            "text/plain": [
              "<Figure size 432x288 with 1 Axes>"
            ]
          },
          "metadata": {},
          "output_type": "display_data"
        },
        {
          "metadata": {
            "tags": null
          },
          "name": "stdout",
          "output_type": "stream",
          "text": [
            "2\n"
          ]
        },
        {
          "data": {
            "image/png": "[encoded data removed]",
            "text/plain": [
              "<Figure size 432x288 with 1 Axes>"
            ]
          },
          "metadata": {},
          "output_type": "display_data"
        },
        {
          "output_type": "stream",
          "name": "stdout",
          "text": [
            "1\n"
          ]
        },
        {
          "output_type": "display_data",
          "data": {
            "image/png": "[encoded data removed]",
            "text/plain": [
              "<Figure size 432x288 with 1 Axes>"
            ]
          },
          "metadata": {
            "needs_background": "light"
          }
        },
        {
          "output_type": "stream",
          "name": "stdout",
          "text": [
            "0\n"
          ]
        },
        {
          "output_type": "display_data",
          "data": {
            "image/png": "[encoded data removed]",
            "text/plain": [
              "<Figure size 432x288 with 1 Axes>"
            ]
          },
          "metadata": {
            "needs_background": "light"
          }
        },
        {
          "output_type": "stream",
          "name": "stdout",
          "text": [
            "End\n",
            "Train accuracy:\n",
            "0.9599415814729815\n",
            "Test Accuracy:\n",
            "0.9524207011686143\n",
            "\n",
            "\n",
            "total test accuracy=0.9524207011686143\n",
            "\n",
            "\n"
          ]
        }
      ],
      "source": [
        "n = Xtrain.shape[0]\n",
        "i = 0\n",
        "k = 1\n",
        "r = int(n/5)\n",
        "total_correct = 0\n",
        "total_total = 0\n",
        "total_accuracy = 0\n",
        "while(i < k):\n",
        "    print(f\"{i} fold\")\n",
        "    if ((i+1)*r>n):\n",
        "        print(\"lower the test %\")\n",
        "        break\n",
        "    Xtra1 = Xtrain[0 : r*i]\n",
        "    Ytra1 = ytrain[0 : r*i]\n",
        "    Xtra2 = Xtrain[r*(i+1) : ]\n",
        "    Ytra2 = ytrain[r*(i+1) : ]\n",
        "    Xtra = np.concatenate((Xtra1, Xtra2), axis=0)\n",
        "    Ytra = np.concatenate((Ytra1, Ytra2), axis=0)\n",
        "    Xtest = Xtrain[r*i : r*(i+1)]\n",
        "    Ytest = ytrain[r*i : r*(i+1)]\n",
        "    model = train(Xtra,Ytra,3,100,'L1','L1')\n",
        "    ypred = model.forward(Xtest)\n",
        "    acc = accuracy(ypred,Ytest)\n",
        "    total_accuracy += acc\n",
        "    print('Test Accuracy:')\n",
        "    print(acc)\n",
        "    i+=1\n",
        "    print('\\n')\n",
        "print(f\"total test accuracy={total_accuracy/k}\\n\\n\")"
      ]
    },
    {
      "cell_type": "code",
      "execution_count": 20,
      "metadata": {
        "colab": {
          "base_uri": "https://localhost:8080/",
          "height": 1000
        },
        "id": "WzVZ6hIRPYNA",
        "outputId": "fe9f4acd-f0e2-46be-8967-dd8f05abca35"
      },
      "outputs": [
        {
          "metadata": {
            "tags": null
          },
          "name": "stdout",
          "output_type": "stream",
          "text": [
            "0 fold\n",
            "Start\n",
            "Recursion Done\n",
            "4\n"
          ]
        },
        {
          "data": {
            "image/png": "[encoded data removed]",
            "text/plain": [
              "<Figure size 432x288 with 1 Axes>"
            ]
          },
          "metadata": {},
          "output_type": "display_data"
        },
        {
          "metadata": {
            "tags": null
          },
          "name": "stdout",
          "output_type": "stream",
          "text": [
            "3\n"
          ]
        },
        {
          "data": {
            "image/png": "[encoded data removed]",
            "text/plain": [
              "<Figure size 432x288 with 1 Axes>"
            ]
          },
          "metadata": {},
          "output_type": "display_data"
        },
        {
          "metadata": {
            "tags": null
          },
          "name": "stdout",
          "output_type": "stream",
          "text": [
            "2\n"
          ]
        },
        {
          "data": {
            "image/png": "[encoded data removed]",
            "text/plain": [
              "<Figure size 432x288 with 1 Axes>"
            ]
          },
          "metadata": {},
          "output_type": "display_data"
        },
        {
          "metadata": {
            "tags": null
          },
          "name": "stdout",
          "output_type": "stream",
          "text": [
            "4\n"
          ]
        },
        {
          "data": {
            "image/png": "[encoded data removed]",
            "text/plain": [
              "<Figure size 432x288 with 1 Axes>"
            ]
          },
          "metadata": {},
          "output_type": "display_data"
        },
        {
          "metadata": {
            "tags": null
          },
          "name": "stdout",
          "output_type": "stream",
          "text": [
            "4\n"
          ]
        },
        {
          "data": {
            "image/png": "[encoded data removed]",
            "text/plain": [
              "<Figure size 432x288 with 1 Axes>"
            ]
          },
          "metadata": {},
          "output_type": "display_data"
        },
        {
          "metadata": {
            "tags": null
          },
          "name": "stdout",
          "output_type": "stream",
          "text": [
            "3\n"
          ]
        },
        {
          "data": {
            "image/png": "[encoded data removed]",
            "text/plain": [
              "<Figure size 432x288 with 1 Axes>"
            ]
          },
          "metadata": {},
          "output_type": "display_data"
        },
        {
          "metadata": {
            "tags": null
          },
          "name": "stdout",
          "output_type": "stream",
          "text": [
            "4\n"
          ]
        },
        {
          "data": {
            "image/png": "[encoded data removed]",
            "text/plain": [
              "<Figure size 432x288 with 1 Axes>"
            ]
          },
          "metadata": {},
          "output_type": "display_data"
        },
        {
          "metadata": {
            "tags": null
          },
          "name": "stdout",
          "output_type": "stream",
          "text": [
            "4\n"
          ]
        },
        {
          "data": {
            "image/png": "[encoded data removed]",
            "text/plain": [
              "<Figure size 432x288 with 1 Axes>"
            ]
          },
          "metadata": {},
          "output_type": "display_data"
        },
        {
          "metadata": {
            "tags": null
          },
          "name": "stdout",
          "output_type": "stream",
          "text": [
            "3\n"
          ]
        },
        {
          "data": {
            "image/png": "[encoded data removed]",
            "text/plain": [
              "<Figure size 432x288 with 1 Axes>"
            ]
          },
          "metadata": {},
          "output_type": "display_data"
        },
        {
          "metadata": {
            "tags": null
          },
          "name": "stdout",
          "output_type": "stream",
          "text": [
            "2\n"
          ]
        },
        {
          "data": {
            "image/png": "[encoded data removed]",
            "text/plain": [
              "<Figure size 432x288 with 1 Axes>"
            ]
          },
          "metadata": {},
          "output_type": "display_data"
        },
        {
          "metadata": {
            "tags": null
          },
          "name": "stdout",
          "output_type": "stream",
          "text": [
            "1\n"
          ]
        },
        {
          "data": {
            "image/png": "[encoded data removed]",
            "text/plain": [
              "<Figure size 432x288 with 1 Axes>"
            ]
          },
          "metadata": {},
          "output_type": "display_data"
        },
        {
          "output_type": "stream",
          "name": "stdout",
          "text": [
            "4\n"
          ]
        },
        {
          "output_type": "display_data",
          "data": {
            "image/png": "[encoded data removed]",
            "text/plain": [
              "<Figure size 432x288 with 1 Axes>"
            ]
          },
          "metadata": {
            "needs_background": "light"
          }
        },
        {
          "output_type": "stream",
          "name": "stdout",
          "text": [
            "3\n"
          ]
        },
        {
          "output_type": "display_data",
          "data": {
            "image/png": "[encoded data removed]",
            "text/plain": [
              "<Figure size 432x288 with 1 Axes>"
            ]
          },
          "metadata": {
            "needs_background": "light"
          }
        },
        {
          "output_type": "stream",
          "name": "stdout",
          "text": [
            "3\n"
          ]
        },
        {
          "output_type": "display_data",
          "data": {
            "image/png": "[encoded data removed]",
            "text/plain": [
              "<Figure size 432x288 with 1 Axes>"
            ]
          },
          "metadata": {
            "needs_background": "light"
          }
        },
        {
          "output_type": "stream",
          "name": "stdout",
          "text": [
            "2\n"
          ]
        },
        {
          "output_type": "display_data",
          "data": {
            "image/png": "[encoded data removed]",
            "text/plain": [
              "<Figure size 432x288 with 1 Axes>"
            ]
          },
          "metadata": {
            "needs_background": "light"
          }
        },
        {
          "output_type": "stream",
          "name": "stdout",
          "text": [
            "1\n"
          ]
        },
        {
          "output_type": "display_data",
          "data": {
            "image/png": "[encoded data removed]",
            "text/plain": [
              "<Figure size 432x288 with 1 Axes>"
            ]
          },
          "metadata": {
            "needs_background": "light"
          }
        },
        {
          "output_type": "stream",
          "name": "stdout",
          "text": [
            "0\n"
          ]
        },
        {
          "output_type": "display_data",
          "data": {
            "image/png": "[encoded data removed]",
            "text/plain": [
              "<Figure size 432x288 with 1 Axes>"
            ]
          },
          "metadata": {
            "needs_background": "light"
          }
        },
        {
          "output_type": "stream",
          "name": "stdout",
          "text": [
            "End\n",
            "Train accuracy:\n",
            "0.9649488837888588\n",
            "Test Accuracy:\n",
            "0.9557595993322203\n",
            "\n",
            "\n",
            "total test accuracy=0.9557595993322203\n",
            "\n",
            "\n"
          ]
        }
      ],
      "source": [
        "n = Xtrain.shape[0]\n",
        "i = 0\n",
        "k = 1\n",
        "r = int(n/5)\n",
        "total_correct = 0\n",
        "total_total = 0\n",
        "total_accuracy = 0\n",
        "while(i < k):\n",
        "    print(f\"{i} fold\")\n",
        "    if ((i+1)*r>n):\n",
        "        print(\"lower the test %\")\n",
        "        break\n",
        "    Xtra1 = Xtrain[0 : r*i]\n",
        "    Ytra1 = ytrain[0 : r*i]\n",
        "    Xtra2 = Xtrain[r*(i+1) : ]\n",
        "    Ytra2 = ytrain[r*(i+1) : ]\n",
        "    Xtra = np.concatenate((Xtra1, Xtra2), axis=0)\n",
        "    Ytra = np.concatenate((Ytra1, Ytra2), axis=0)\n",
        "    Xtest = Xtrain[r*i : r*(i+1)]\n",
        "    Ytest = ytrain[r*i : r*(i+1)]\n",
        "    model = train(Xtra,Ytra,4,100,'L1','L1')\n",
        "    ypred = model.forward(Xtest)\n",
        "    acc = accuracy(ypred,Ytest)\n",
        "    total_accuracy += acc\n",
        "    print('Test Accuracy:')\n",
        "    print(acc)\n",
        "    i+=1\n",
        "    print('\\n')\n",
        "print(f\"total test accuracy={total_accuracy/k}\\n\\n\")"
      ]
    },
    {
      "cell_type": "code",
      "source": [
        "n = Xtrain.shape[0]\n",
        "i = 0\n",
        "k = 1\n",
        "r = int(n/5)\n",
        "total_correct = 0\n",
        "total_total = 0\n",
        "total_accuracy = 0\n",
        "while(i < k):\n",
        "    print(f\"{i} fold\")\n",
        "    if ((i+1)*r>n):\n",
        "        print(\"lower the test %\")\n",
        "        break\n",
        "    Xtra1 = Xtrain[0 : r*i]\n",
        "    Ytra1 = ytrain[0 : r*i]\n",
        "    Xtra2 = Xtrain[r*(i+1) : ]\n",
        "    Ytra2 = ytrain[r*(i+1) : ]\n",
        "    Xtra = np.concatenate((Xtra1, Xtra2), axis=0)\n",
        "    Ytra = np.concatenate((Ytra1, Ytra2), axis=0)\n",
        "    Xtest = Xtrain[r*i : r*(i+1)]\n",
        "    Ytest = ytrain[r*i : r*(i+1)]\n",
        "    model = train(Xtra,Ytra,5,10,'L1','L1')\n",
        "    ypred = model.forward(Xtest)\n",
        "    acc = accuracy(ypred,Ytest)\n",
        "    total_accuracy += acc\n",
        "    print('Test Accuracy:')\n",
        "    print(acc)\n",
        "    i+=1\n",
        "    print('\\n')\n",
        "print(f\"total test accuracy={total_accuracy/k}\\n\\n\")"
      ],
      "metadata": {
        "colab": {
          "base_uri": "https://localhost:8080/",
          "height": 1000
        },
        "id": "3DrUAK5peEiq",
        "outputId": "0857f1cf-ea84-4513-f6ad-a04fb17a3738"
      },
      "execution_count": 21,
      "outputs": [
        {
          "output_type": "stream",
          "name": "stdout",
          "text": [
            "0 fold\n",
            "Start\n",
            "Recursion Done\n",
            "3\n"
          ]
        },
        {
          "output_type": "display_data",
          "data": {
            "image/png": "[encoded data removed]",
            "text/plain": [
              "<Figure size 432x288 with 1 Axes>"
            ]
          },
          "metadata": {
            "needs_background": "light"
          }
        },
        {
          "output_type": "stream",
          "name": "stdout",
          "text": [
            "4\n"
          ]
        },
        {
          "output_type": "display_data",
          "data": {
            "image/png": "[encoded data removed]",
            "text/plain": [
              "<Figure size 432x288 with 1 Axes>"
            ]
          },
          "metadata": {
            "needs_background": "light"
          }
        },
        {
          "output_type": "stream",
          "name": "stdout",
          "text": [
            "3\n"
          ]
        },
        {
          "output_type": "display_data",
          "data": {
            "image/png": "[encoded data removed]",
            "text/plain": [
              "<Figure size 432x288 with 1 Axes>"
            ]
          },
          "metadata": {
            "needs_background": "light"
          }
        },
        {
          "output_type": "stream",
          "name": "stdout",
          "text": [
            "2\n"
          ]
        },
        {
          "output_type": "display_data",
          "data": {
            "image/png": "[encoded data removed]",
            "text/plain": [
              "<Figure size 432x288 with 1 Axes>"
            ]
          },
          "metadata": {
            "needs_background": "light"
          }
        },
        {
          "output_type": "stream",
          "name": "stdout",
          "text": [
            "5\n"
          ]
        },
        {
          "output_type": "display_data",
          "data": {
            "image/png": "[encoded data removed]",
            "text/plain": [
              "<Figure size 432x288 with 1 Axes>"
            ]
          },
          "metadata": {
            "needs_background": "light"
          }
        },
        {
          "output_type": "stream",
          "name": "stdout",
          "text": [
            "4\n"
          ]
        },
        {
          "output_type": "display_data",
          "data": {
            "image/png": "[encoded data removed]",
            "text/plain": [
              "<Figure size 432x288 with 1 Axes>"
            ]
          },
          "metadata": {
            "needs_background": "light"
          }
        },
        {
          "output_type": "stream",
          "name": "stdout",
          "text": [
            "5\n"
          ]
        },
        {
          "output_type": "display_data",
          "data": {
            "image/png": "[encoded data removed]",
            "text/plain": [
              "<Figure size 432x288 with 1 Axes>"
            ]
          },
          "metadata": {
            "needs_background": "light"
          }
        },
        {
          "output_type": "stream",
          "name": "stdout",
          "text": [
            "4\n"
          ]
        },
        {
          "output_type": "display_data",
          "data": {
            "image/png": "[encoded data removed]",
            "text/plain": [
              "<Figure size 432x288 with 1 Axes>"
            ]
          },
          "metadata": {
            "needs_background": "light"
          }
        },
        {
          "output_type": "stream",
          "name": "stdout",
          "text": [
            "3\n"
          ]
        },
        {
          "output_type": "display_data",
          "data": {
            "image/png": "[encoded data removed]",
            "text/plain": [
              "<Figure size 432x288 with 1 Axes>"
            ]
          },
          "metadata": {
            "needs_background": "light"
          }
        },
        {
          "output_type": "stream",
          "name": "stdout",
          "text": [
            "5\n"
          ]
        },
        {
          "output_type": "display_data",
          "data": {
            "image/png": "[encoded data removed]",
            "text/plain": [
              "<Figure size 432x288 with 1 Axes>"
            ]
          },
          "metadata": {
            "needs_background": "light"
          }
        },
        {
          "output_type": "stream",
          "name": "stdout",
          "text": [
            "5\n"
          ]
        },
        {
          "output_type": "display_data",
          "data": {
            "image/png": "[encoded data removed]",
            "text/plain": [
              "<Figure size 432x288 with 1 Axes>"
            ]
          },
          "metadata": {
            "needs_background": "light"
          }
        },
        {
          "output_type": "stream",
          "name": "stdout",
          "text": [
            "4\n"
          ]
        },
        {
          "output_type": "display_data",
          "data": {
            "image/png": "[encoded data removed]",
            "text/plain": [
              "<Figure size 432x288 with 1 Axes>"
            ]
          },
          "metadata": {
            "needs_background": "light"
          }
        },
        {
          "output_type": "stream",
          "name": "stdout",
          "text": [
            "5\n"
          ]
        },
        {
          "output_type": "display_data",
          "data": {
            "image/png": "[encoded data removed]",
            "text/plain": [
              "<Figure size 432x288 with 1 Axes>"
            ]
          },
          "metadata": {
            "needs_background": "light"
          }
        },
        {
          "output_type": "stream",
          "name": "stdout",
          "text": [
            "5\n"
          ]
        },
        {
          "output_type": "display_data",
          "data": {
            "image/png": "[encoded data removed]",
            "text/plain": [
              "<Figure size 432x288 with 1 Axes>"
            ]
          },
          "metadata": {
            "needs_background": "light"
          }
        },
        {
          "output_type": "stream",
          "name": "stdout",
          "text": [
            "4\n"
          ]
        },
        {
          "output_type": "display_data",
          "data": {
            "image/png": "[encoded data removed]",
            "text/plain": [
              "<Figure size 432x288 with 1 Axes>"
            ]
          },
          "metadata": {
            "needs_background": "light"
          }
        },
        {
          "output_type": "stream",
          "name": "stdout",
          "text": [
            "3\n"
          ]
        },
        {
          "output_type": "display_data",
          "data": {
            "image/png": "[encoded data removed]",
            "text/plain": [
              "<Figure size 432x288 with 1 Axes>"
            ]
          },
          "metadata": {
            "needs_background": "light"
          }
        },
        {
          "output_type": "stream",
          "name": "stdout",
          "text": [
            "2\n"
          ]
        },
        {
          "output_type": "display_data",
          "data": {
            "image/png": "[encoded data removed]",
            "text/plain": [
              "<Figure size 432x288 with 1 Axes>"
            ]
          },
          "metadata": {
            "needs_background": "light"
          }
        },
        {
          "output_type": "stream",
          "name": "stdout",
          "text": [
            "1\n"
          ]
        },
        {
          "output_type": "display_data",
          "data": {
            "image/png": "[encoded data removed]",
            "text/plain": [
              "<Figure size 432x288 with 1 Axes>"
            ]
          },
          "metadata": {
            "needs_background": "light"
          }
        },
        {
          "output_type": "stream",
          "name": "stdout",
          "text": [
            "5\n"
          ]
        },
        {
          "output_type": "display_data",
          "data": {
            "image/png": "[encoded data removed]",
            "text/plain": [
              "<Figure size 432x288 with 1 Axes>"
            ]
          },
          "metadata": {
            "needs_background": "light"
          }
        },
        {
          "output_type": "stream",
          "name": "stdout",
          "text": [
            "4\n"
          ]
        },
        {
          "output_type": "display_data",
          "data": {
            "image/png": "[encoded data removed]",
            "text/plain": [
              "<Figure size 432x288 with 1 Axes>"
            ]
          },
          "metadata": {
            "needs_background": "light"
          }
        },
        {
          "output_type": "stream",
          "name": "stdout",
          "text": [
            "3\n"
          ]
        },
        {
          "output_type": "display_data",
          "data": {
            "image/png": "[encoded data removed]",
            "text/plain": [
              "<Figure size 432x288 with 1 Axes>"
            ]
          },
          "metadata": {
            "needs_background": "light"
          }
        },
        {
          "output_type": "stream",
          "name": "stdout",
          "text": [
            "3\n"
          ]
        },
        {
          "output_type": "display_data",
          "data": {
            "image/png": "[encoded data removed]",
            "text/plain": [
              "<Figure size 432x288 with 1 Axes>"
            ]
          },
          "metadata": {
            "needs_background": "light"
          }
        },
        {
          "output_type": "stream",
          "name": "stdout",
          "text": [
            "2\n"
          ]
        },
        {
          "output_type": "display_data",
          "data": {
            "image/png": "[encoded data removed]",
            "text/plain": [
              "<Figure size 432x288 with 1 Axes>"
            ]
          },
          "metadata": {
            "needs_background": "light"
          }
        },
        {
          "output_type": "stream",
          "name": "stdout",
          "text": [
            "1\n"
          ]
        },
        {
          "output_type": "display_data",
          "data": {
            "image/png": "[encoded data removed]",
            "text/plain": [
              "<Figure size 432x288 with 1 Axes>"
            ]
          },
          "metadata": {
            "needs_background": "light"
          }
        },
        {
          "output_type": "stream",
          "name": "stdout",
          "text": [
            "0\n"
          ]
        },
        {
          "output_type": "display_data",
          "data": {
            "image/png": "[encoded data removed]",
            "text/plain": [
              "<Figure size 432x288 with 1 Axes>"
            ]
          },
          "metadata": {
            "needs_background": "light"
          }
        },
        {
          "output_type": "stream",
          "name": "stdout",
          "text": [
            "End\n",
            "Train accuracy:\n",
            "0.9640100146046318\n",
            "Test Accuracy:\n",
            "0.9528380634390651\n",
            "\n",
            "\n",
            "total test accuracy=0.9528380634390651\n",
            "\n",
            "\n"
          ]
        }
      ]
    },
    {
      "cell_type": "code",
      "source": [
        "n = Xtrain.shape[0]\n",
        "i = 0\n",
        "k = 1\n",
        "r = int(n/5)\n",
        "total_correct = 0\n",
        "total_total = 0\n",
        "total_accuracy = 0\n",
        "while(i < k):\n",
        "    print(f\"{i} fold\")\n",
        "    if ((i+1)*r>n):\n",
        "        print(\"lower the test %\")\n",
        "        break\n",
        "    Xtra1 = Xtrain[0 : r*i]\n",
        "    Ytra1 = ytrain[0 : r*i]\n",
        "    Xtra2 = Xtrain[r*(i+1) : ]\n",
        "    Ytra2 = ytrain[r*(i+1) : ]\n",
        "    Xtra = np.concatenate((Xtra1, Xtra2), axis=0)\n",
        "    Ytra = np.concatenate((Ytra1, Ytra2), axis=0)\n",
        "    Xtest = Xtrain[r*i : r*(i+1)]\n",
        "    Ytest = ytrain[r*i : r*(i+1)]\n",
        "    model = train(Xtra,Ytra,4,100,'L1','L1')\n",
        "    ypred = model.forward(Xtest)\n",
        "    acc = accuracy(ypred,Ytest)\n",
        "    total_accuracy += acc\n",
        "    print('Test Accuracy:')\n",
        "    print(acc)\n",
        "    i+=1\n",
        "    print('\\n')\n",
        "print(f\"total test accuracy={total_accuracy/k}\\n\\n\")\n",
        "\n",
        "#STM"
      ],
      "metadata": {
        "colab": {
          "base_uri": "https://localhost:8080/",
          "height": 1000
        },
        "id": "yRL_0QP-yecD",
        "outputId": "f4270d52-96d3-4d1b-c546-2a2efc9bf4bf"
      },
      "execution_count": 12,
      "outputs": [
        {
          "output_type": "stream",
          "name": "stdout",
          "text": [
            "0 fold\n",
            "Start\n",
            "Recursion Done\n",
            "3\n"
          ]
        },
        {
          "output_type": "display_data",
          "data": {
            "image/png": "[encoded data removed]",
            "text/plain": [
              "<Figure size 432x288 with 1 Axes>"
            ]
          },
          "metadata": {
            "needs_background": "light"
          }
        },
        {
          "output_type": "stream",
          "name": "stdout",
          "text": [
            "4\n"
          ]
        },
        {
          "output_type": "display_data",
          "data": {
            "image/png": "[encoded data removed]",
            "text/plain": [
              "<Figure size 432x288 with 1 Axes>"
            ]
          },
          "metadata": {
            "needs_background": "light"
          }
        },
        {
          "output_type": "stream",
          "name": "stdout",
          "text": [
            "3\n"
          ]
        },
        {
          "output_type": "display_data",
          "data": {
            "image/png": "[encoded data removed]",
            "text/plain": [
              "<Figure size 432x288 with 1 Axes>"
            ]
          },
          "metadata": {
            "needs_background": "light"
          }
        },
        {
          "output_type": "stream",
          "name": "stdout",
          "text": [
            "2\n"
          ]
        },
        {
          "output_type": "display_data",
          "data": {
            "image/png": "[encoded data removed]",
            "text/plain": [
              "<Figure size 432x288 with 1 Axes>"
            ]
          },
          "metadata": {
            "needs_background": "light"
          }
        },
        {
          "output_type": "stream",
          "name": "stdout",
          "text": [
            "4\n"
          ]
        },
        {
          "output_type": "display_data",
          "data": {
            "image/png": "[encoded data removed]",
            "text/plain": [
              "<Figure size 432x288 with 1 Axes>"
            ]
          },
          "metadata": {
            "needs_background": "light"
          }
        },
        {
          "output_type": "stream",
          "name": "stdout",
          "text": [
            "4\n"
          ]
        },
        {
          "output_type": "display_data",
          "data": {
            "image/png": "[encoded data removed]",
            "text/plain": [
              "<Figure size 432x288 with 1 Axes>"
            ]
          },
          "metadata": {
            "needs_background": "light"
          }
        },
        {
          "output_type": "stream",
          "name": "stdout",
          "text": [
            "3\n"
          ]
        },
        {
          "output_type": "display_data",
          "data": {
            "image/png": "[encoded data removed]",
            "text/plain": [
              "<Figure size 432x288 with 1 Axes>"
            ]
          },
          "metadata": {
            "needs_background": "light"
          }
        },
        {
          "output_type": "stream",
          "name": "stdout",
          "text": [
            "4\n"
          ]
        },
        {
          "output_type": "display_data",
          "data": {
            "image/png": "[encoded data removed]",
            "text/plain": [
              "<Figure size 432x288 with 1 Axes>"
            ]
          },
          "metadata": {
            "needs_background": "light"
          }
        },
        {
          "output_type": "stream",
          "name": "stdout",
          "text": [
            "4\n"
          ]
        },
        {
          "output_type": "display_data",
          "data": {
            "image/png": "[encoded data removed]",
            "text/plain": [
              "<Figure size 432x288 with 1 Axes>"
            ]
          },
          "metadata": {
            "needs_background": "light"
          }
        },
        {
          "output_type": "stream",
          "name": "stdout",
          "text": [
            "3\n"
          ]
        },
        {
          "output_type": "display_data",
          "data": {
            "image/png": "[encoded data removed]",
            "text/plain": [
              "<Figure size 432x288 with 1 Axes>"
            ]
          },
          "metadata": {
            "needs_background": "light"
          }
        },
        {
          "output_type": "stream",
          "name": "stdout",
          "text": [
            "2\n"
          ]
        },
        {
          "output_type": "display_data",
          "data": {
            "image/png": "[encoded data removed]",
            "text/plain": [
              "<Figure size 432x288 with 1 Axes>"
            ]
          },
          "metadata": {
            "needs_background": "light"
          }
        },
        {
          "output_type": "stream",
          "name": "stdout",
          "text": [
            "1\n"
          ]
        },
        {
          "output_type": "display_data",
          "data": {
            "image/png": "[encoded data removed]",
            "text/plain": [
              "<Figure size 432x288 with 1 Axes>"
            ]
          },
          "metadata": {
            "needs_background": "light"
          }
        },
        {
          "output_type": "stream",
          "name": "stdout",
          "text": [
            "4\n"
          ]
        },
        {
          "output_type": "display_data",
          "data": {
            "image/png": "[encoded data removed]",
            "text/plain": [
              "<Figure size 432x288 with 1 Axes>"
            ]
          },
          "metadata": {
            "needs_background": "light"
          }
        },
        {
          "output_type": "stream",
          "name": "stdout",
          "text": [
            "3\n"
          ]
        },
        {
          "output_type": "display_data",
          "data": {
            "image/png": "[encoded data removed]",
            "text/plain": [
              "<Figure size 432x288 with 1 Axes>"
            ]
          },
          "metadata": {
            "needs_background": "light"
          }
        },
        {
          "output_type": "stream",
          "name": "stdout",
          "text": [
            "3\n"
          ]
        },
        {
          "output_type": "display_data",
          "data": {
            "image/png": "[encoded data removed]",
            "text/plain": [
              "<Figure size 432x288 with 1 Axes>"
            ]
          },
          "metadata": {
            "needs_background": "light"
          }
        },
        {
          "output_type": "stream",
          "name": "stdout",
          "text": [
            "2\n"
          ]
        },
        {
          "output_type": "display_data",
          "data": {
            "image/png": "[encoded data removed]",
            "text/plain": [
              "<Figure size 432x288 with 1 Axes>"
            ]
          },
          "metadata": {
            "needs_background": "light"
          }
        },
        {
          "output_type": "stream",
          "name": "stdout",
          "text": [
            "1\n"
          ]
        },
        {
          "output_type": "display_data",
          "data": {
            "image/png": "[encoded data removed]",
            "text/plain": [
              "<Figure size 432x288 with 1 Axes>"
            ]
          },
          "metadata": {
            "needs_background": "light"
          }
        },
        {
          "output_type": "stream",
          "name": "stdout",
          "text": [
            "0\n"
          ]
        },
        {
          "output_type": "display_data",
          "data": {
            "image/png": "[encoded data removed]",
            "text/plain": [
              "<Figure size 432x288 with 1 Axes>"
            ]
          },
          "metadata": {
            "needs_background": "light"
          }
        },
        {
          "output_type": "stream",
          "name": "stdout",
          "text": [
            "End\n",
            "Train accuracy:\n",
            "0.962653870227415\n",
            "Test Accuracy:\n",
            "0.9553422370617696\n",
            "\n",
            "\n",
            "total test accuracy=0.9553422370617696\n",
            "\n",
            "\n"
          ]
        }
      ]
    },
    {
      "cell_type": "code",
      "source": [
        "n = Xtrain.shape[0]\n",
        "i = 0\n",
        "k = 1\n",
        "r = int(n/5)\n",
        "total_correct = 0\n",
        "total_total = 0\n",
        "total_accuracy = 0\n",
        "while(i < k):\n",
        "    print(f\"{i} fold\")\n",
        "    if ((i+1)*r>n):\n",
        "        print(\"lower the test %\")\n",
        "        break\n",
        "    Xtra1 = Xtrain[0 : r*i]\n",
        "    Ytra1 = ytrain[0 : r*i]\n",
        "    Xtra2 = Xtrain[r*(i+1) : ]\n",
        "    Ytra2 = ytrain[r*(i+1) : ]\n",
        "    Xtra = np.concatenate((Xtra1, Xtra2), axis=0)\n",
        "    Ytra = np.concatenate((Ytra1, Ytra2), axis=0)\n",
        "    Xtest = Xtrain[r*i : r*(i+1)]\n",
        "    Ytest = ytrain[r*i : r*(i+1)]\n",
        "    model = train(Xtra,Ytra,5,10,'L1','L1')\n",
        "    ypred = model.forward(Xtest)\n",
        "    acc = accuracy(ypred,Ytest)\n",
        "    total_accuracy += acc\n",
        "    print('Test Accuracy:')\n",
        "    print(acc)\n",
        "    i+=1\n",
        "    print('\\n')\n",
        "print(f\"total test accuracy={total_accuracy/k}\\n\\n\")\n",
        "\n",
        "#STM"
      ],
      "metadata": {
        "colab": {
          "base_uri": "https://localhost:8080/",
          "height": 1000
        },
        "id": "cTiNj9LpJC6i",
        "outputId": "3d41bf01-312f-41fb-8bc6-f198aa8676f2"
      },
      "execution_count": 13,
      "outputs": [
        {
          "metadata": {
            "tags": null
          },
          "name": "stdout",
          "output_type": "stream",
          "text": [
            "0 fold\n",
            "Start\n",
            "Recursion Done\n",
            "4\n"
          ]
        },
        {
          "data": {
            "image/png": "[encoded data removed]",
            "text/plain": [
              "<Figure size 432x288 with 1 Axes>"
            ]
          },
          "metadata": {},
          "output_type": "display_data"
        },
        {
          "metadata": {
            "tags": null
          },
          "name": "stdout",
          "output_type": "stream",
          "text": [
            "3\n"
          ]
        },
        {
          "data": {
            "image/png": "[encoded data removed]",
            "text/plain": [
              "<Figure size 432x288 with 1 Axes>"
            ]
          },
          "metadata": {},
          "output_type": "display_data"
        },
        {
          "metadata": {
            "tags": null
          },
          "name": "stdout",
          "output_type": "stream",
          "text": [
            "2\n"
          ]
        },
        {
          "data": {
            "image/png": "[encoded data removed]",
            "text/plain": [
              "<Figure size 432x288 with 1 Axes>"
            ]
          },
          "metadata": {},
          "output_type": "display_data"
        },
        {
          "metadata": {
            "tags": null
          },
          "name": "stdout",
          "output_type": "stream",
          "text": [
            "5\n"
          ]
        },
        {
          "data": {
            "image/png": "[encoded data removed]",
            "text/plain": [
              "<Figure size 432x288 with 1 Axes>"
            ]
          },
          "metadata": {},
          "output_type": "display_data"
        },
        {
          "metadata": {
            "tags": null
          },
          "name": "stdout",
          "output_type": "stream",
          "text": [
            "4\n"
          ]
        },
        {
          "data": {
            "image/png": "[encoded data removed]",
            "text/plain": [
              "<Figure size 432x288 with 1 Axes>"
            ]
          },
          "metadata": {},
          "output_type": "display_data"
        },
        {
          "metadata": {
            "tags": null
          },
          "name": "stdout",
          "output_type": "stream",
          "text": [
            "5\n"
          ]
        },
        {
          "data": {
            "image/png": "[encoded data removed]",
            "text/plain": [
              "<Figure size 432x288 with 1 Axes>"
            ]
          },
          "metadata": {},
          "output_type": "display_data"
        },
        {
          "metadata": {
            "tags": null
          },
          "name": "stdout",
          "output_type": "stream",
          "text": [
            "4\n"
          ]
        },
        {
          "data": {
            "image/png": "[encoded data removed]",
            "text/plain": [
              "<Figure size 432x288 with 1 Axes>"
            ]
          },
          "metadata": {},
          "output_type": "display_data"
        },
        {
          "metadata": {
            "tags": null
          },
          "name": "stdout",
          "output_type": "stream",
          "text": [
            "3\n"
          ]
        },
        {
          "data": {
            "image/png": "[encoded data removed]",
            "text/plain": [
              "<Figure size 432x288 with 1 Axes>"
            ]
          },
          "metadata": {},
          "output_type": "display_data"
        },
        {
          "metadata": {
            "tags": null
          },
          "name": "stdout",
          "output_type": "stream",
          "text": [
            "5\n"
          ]
        },
        {
          "data": {
            "image/png": "[encoded data removed]",
            "text/plain": [
              "<Figure size 432x288 with 1 Axes>"
            ]
          },
          "metadata": {},
          "output_type": "display_data"
        },
        {
          "metadata": {
            "tags": null
          },
          "name": "stdout",
          "output_type": "stream",
          "text": [
            "5\n"
          ]
        },
        {
          "data": {
            "image/png": "[encoded data removed]",
            "text/plain": [
              "<Figure size 432x288 with 1 Axes>"
            ]
          },
          "metadata": {},
          "output_type": "display_data"
        },
        {
          "metadata": {
            "tags": null
          },
          "name": "stdout",
          "output_type": "stream",
          "text": [
            "4\n"
          ]
        },
        {
          "data": {
            "image/png": "[encoded data removed]",
            "text/plain": [
              "<Figure size 432x288 with 1 Axes>"
            ]
          },
          "metadata": {},
          "output_type": "display_data"
        },
        {
          "metadata": {
            "tags": null
          },
          "name": "stdout",
          "output_type": "stream",
          "text": [
            "5\n"
          ]
        },
        {
          "data": {
            "image/png": "[encoded data removed]",
            "text/plain": [
              "<Figure size 432x288 with 1 Axes>"
            ]
          },
          "metadata": {},
          "output_type": "display_data"
        },
        {
          "metadata": {
            "tags": null
          },
          "name": "stdout",
          "output_type": "stream",
          "text": [
            "5\n"
          ]
        },
        {
          "data": {
            "image/png": "[encoded data removed]",
            "text/plain": [
              "<Figure size 432x288 with 1 Axes>"
            ]
          },
          "metadata": {},
          "output_type": "display_data"
        },
        {
          "metadata": {
            "tags": null
          },
          "name": "stdout",
          "output_type": "stream",
          "text": [
            "4\n"
          ]
        },
        {
          "data": {
            "image/png": "[encoded data removed]",
            "text/plain": [
              "<Figure size 432x288 with 1 Axes>"
            ]
          },
          "metadata": {},
          "output_type": "display_data"
        },
        {
          "metadata": {
            "tags": null
          },
          "name": "stdout",
          "output_type": "stream",
          "text": [
            "3\n"
          ]
        },
        {
          "data": {
            "image/png": "[encoded data removed]",
            "text/plain": [
              "<Figure size 432x288 with 1 Axes>"
            ]
          },
          "metadata": {},
          "output_type": "display_data"
        },
        {
          "metadata": {
            "tags": null
          },
          "name": "stdout",
          "output_type": "stream",
          "text": [
            "2\n"
          ]
        },
        {
          "data": {
            "image/png": "[encoded data removed]",
            "text/plain": [
              "<Figure size 432x288 with 1 Axes>"
            ]
          },
          "metadata": {},
          "output_type": "display_data"
        },
        {
          "metadata": {
            "tags": null
          },
          "name": "stdout",
          "output_type": "stream",
          "text": [
            "1\n"
          ]
        },
        {
          "data": {
            "image/png": "[encoded data removed]",
            "text/plain": [
              "<Figure size 432x288 with 1 Axes>"
            ]
          },
          "metadata": {},
          "output_type": "display_data"
        },
        {
          "metadata": {
            "tags": null
          },
          "name": "stdout",
          "output_type": "stream",
          "text": [
            "5\n"
          ]
        },
        {
          "data": {
            "image/png": "[encoded data removed]",
            "text/plain": [
              "<Figure size 432x288 with 1 Axes>"
            ]
          },
          "metadata": {},
          "output_type": "display_data"
        },
        {
          "metadata": {
            "tags": null
          },
          "name": "stdout",
          "output_type": "stream",
          "text": [
            "4\n"
          ]
        },
        {
          "data": {
            "image/png": "[encoded data removed]",
            "text/plain": [
              "<Figure size 432x288 with 1 Axes>"
            ]
          },
          "metadata": {},
          "output_type": "display_data"
        },
        {
          "metadata": {
            "tags": null
          },
          "name": "stdout",
          "output_type": "stream",
          "text": [
            "3\n"
          ]
        },
        {
          "data": {
            "image/png": "[encoded data removed]",
            "text/plain": [
              "<Figure size 432x288 with 1 Axes>"
            ]
          },
          "metadata": {},
          "output_type": "display_data"
        },
        {
          "output_type": "stream",
          "name": "stdout",
          "text": [
            "2\n"
          ]
        },
        {
          "output_type": "display_data",
          "data": {
            "image/png": "[encoded data removed]",
            "text/plain": [
              "<Figure size 432x288 with 1 Axes>"
            ]
          },
          "metadata": {
            "needs_background": "light"
          }
        },
        {
          "output_type": "stream",
          "name": "stdout",
          "text": [
            "1\n"
          ]
        },
        {
          "output_type": "display_data",
          "data": {
            "image/png": "[encoded data removed]",
            "text/plain": [
              "<Figure size 432x288 with 1 Axes>"
            ]
          },
          "metadata": {
            "needs_background": "light"
          }
        },
        {
          "output_type": "stream",
          "name": "stdout",
          "text": [
            "0\n"
          ]
        },
        {
          "output_type": "display_data",
          "data": {
            "image/png": "[encoded data removed]",
            "text/plain": [
              "<Figure size 432x288 with 1 Axes>"
            ]
          },
          "metadata": {
            "needs_background": "light"
          }
        },
        {
          "output_type": "stream",
          "name": "stdout",
          "text": [
            "End\n",
            "Train accuracy:\n",
            "0.9634884206133946\n",
            "Test Accuracy:\n",
            "0.9586811352253757\n",
            "\n",
            "\n",
            "total test accuracy=0.9586811352253757\n",
            "\n",
            "\n"
          ]
        }
      ]
    },
    {
      "cell_type": "code",
      "source": [
        "def solver(X, y, C = 1, method='MCM_STM', r = None, flag = True, xa = None, xb = None, methodw = 'L2', methodq = 'L1'):\n",
        "    method = 'MCM_STM'\n",
        "    y = y.reshape(-1,1)\n",
        "    assert(X.shape[0]==y.shape[0])\n",
        "    if flag==False or len(X.shape)==2:\n",
        "        if method == 'STM' or method == 'SHTM' or method == 'MCM_STM':\n",
        "            w = np.ones(X.shape[1:])\n",
        "            b = np.ones(y.shape[1:])\n",
        "            M = X.shape[0]\n",
        "            if method == 'STM':\n",
        "                H = np.dot(y,y.T)*inner_mat(X,X)*1.0\n",
        "            elif method == 'SHTM':\n",
        "                r = r if r is not None else 1\n",
        "                H = np.dot(y,y.T)*inner_mat(X, X, r, method='SHTM')*1.0\n",
        "            P_ = cvxopt.matrix(H)\n",
        "            q_ = cvxopt.matrix(-np.ones((M,1)))\n",
        "            G_ = cvxopt.matrix(np.vstack((np.eye(M)*-1,np.eye(M))))\n",
        "            h_ = cvxopt.matrix(np.hstack((np.zeros(M), np.ones(M)*C)))\n",
        "            A_ = cvxopt.matrix(y.reshape(1,-1).astype('float'))\n",
        "            b_ = cvxopt.matrix(np.zeros(1)) \n",
        "            sol = cvxopt.solvers.qp(P_, q_, G_, h_, A_, b_, options={'show_progress': False})\n",
        "            alphas = np.array(sol['x'])\n",
        "            w = np.tensordot((y*alphas).T, X, axes = ((1),(0))).reshape(X.shape[1:]) \n",
        "            b = -0.5*(max(inner_prod(w, X[(y==-1).reshape(-1)])) + min(inner_prod(w, X[(y==1).reshape(-1)])))\n",
        "            return w, b\n",
        "    else:\n",
        "        #only works for greyscale right now\n",
        "        xa = xa if xa is not None else np.zeros(X.shape[0])\n",
        "        xb = xb if xb is not None else np.zeros(X.shape[0])\n",
        "        assert(xa is not None)\n",
        "        assert(xb is not None)\n",
        "        assert(len(X.shape)<=3)\n",
        "        if len(X.shape)==3:\n",
        "            if method == 'MCM_STM':\n",
        "                w = cp.Variable(X.shape[1:])\n",
        "                b = cp.Variable((1,1))\n",
        "                wa = cp.Variable((1,1))\n",
        "                wb = cp.Variable((1,1))\n",
        "                qi = cp.Variable(y.shape)\n",
        "                h = cp.Variable((1,1))\n",
        "                if methodq == 'L1':\n",
        "                    term2 = cp.sum(qi)*C\n",
        "                elif methodq == 'L0':\n",
        "                    term2 = 0\n",
        "                    for i in range(y.shape[0]):\n",
        "                        term2 += cp.maximum(0,cp.sign(qi[i]))*C\n",
        "                objfun = cp.Minimize(h + term2)\n",
        "                constraints = []\n",
        "                maxes = np.max(X, axis=0)\n",
        "                mines = np.min(X, axis= 0)\n",
        "                #for i in range(X.shape[1]):\n",
        "                #    for j in range(X.shape[2]):\n",
        "                #        constraints+=[w[i][j]<=maxes[i][j], mines[i][j]<=w[i][j]]\n",
        "                for i in range(X.shape[0]):\n",
        "                    constraints+=[cp.multiply(y[i],(inner_prod_cp(w,X[i]) + b + cp.multiply(wa,xa[i]) + cp.multiply(wb,xb[i])))+qi[i] >= 1.0, \\\n",
        "                        cp.multiply(y[i],(inner_prod_cp(w,X[i]) + b + cp.multiply(wa,xa[i]) + cp.multiply(wb,xb[i])))+qi[i] <= h, qi[i]>=0]\n",
        "                problem = cp.Problem(objfun,constraints)\n",
        "                problem.solve(verbose=False)\n",
        "                return w.value, b.value, wa.value, wb.value\n",
        "            if method == 'STM' or method == 'SHTM':\n",
        "                w = cp.Variable(X.shape[1:])\n",
        "                b = cp.Variable((1,1))\n",
        "                wa = cp.Variable((1,1))\n",
        "                wb = cp.Variable((1,1))\n",
        "                qi = cp.Variable(y.shape)\n",
        "                if methodq == 'L1':\n",
        "                    term2 = cp.sum(qi)*C\n",
        "                elif methodq == 'L0':\n",
        "                    term2 = 0\n",
        "                    for i in range(y.shape[0]):\n",
        "                        term2 += cp.maximum(0,cp.sign(qi[i]))*C\n",
        "                if methodw == 'L2':\n",
        "                    term1 = 1/2*cp.norm2(w)\n",
        "                    term3 = 1/2*(cp.square(wa)+cp.square(wb))\n",
        "                elif methodw == 'L1':\n",
        "                    term1 = cp.norm1(w)\n",
        "                    term3 = cp.abs(wa)+cp.abs(wb)\n",
        "                elif methodw == 'L0':\n",
        "                    term1 = 0\n",
        "                    for i in range(X.shape[1]):\n",
        "                        for j in range(X.shape[2]):\n",
        "                            term1 += cp.maximum(0,cp.sign(w[i][j]))\n",
        "                    term3 = cp.maximum(0,cp.sign(wa))+cp.maximum(0,cp.sign(wb))\n",
        "                objfun = cp.Minimize(term1+term2+term3)\n",
        "                constraints = []\n",
        "                #constraints = y*(inner_prod_cp(w,X) + b + wa*xa + wb*xb) + qi >= 1\n",
        "                #constraints += qi>=0\n",
        "                maxes = np.max(X, axis=0)\n",
        "                mines = np.min(X, axis= 0)\n",
        "                for i in range(X.shape[1]):\n",
        "                    for j in range(X.shape[2]):\n",
        "                        constraints+=[w[i][j]<=maxes[i][j], mines[i][j]<=w[i][j]]\n",
        "                for i in range(X.shape[0]):\n",
        "                    constraints+=[cp.multiply(y[i],(inner_prod_cp(w,X[i]) + b + cp.multiply(wa,xa[i]) + cp.multiply(wb,xb[i])))+qi[i]>=1, qi[i]>=0]\n",
        "                problem = cp.Problem(objfun,constraints)\n",
        "                problem.solve()\n",
        "                return w.value, b.value, wa.value, wb.value"
      ],
      "metadata": {
        "id": "LCvUqAl2TGlx"
      },
      "execution_count": 10,
      "outputs": []
    },
    {
      "cell_type": "code",
      "source": [
        "n = Xtrain.shape[0]\n",
        "i = 0\n",
        "k = 1\n",
        "r = int(n/5)\n",
        "total_correct = 0\n",
        "total_total = 0\n",
        "total_accuracy = 0\n",
        "while(i < k):\n",
        "    print(f\"{i} fold\")\n",
        "    if ((i+1)*r>n):\n",
        "        print(\"lower the test %\")\n",
        "        break\n",
        "    Xtra1 = Xtrain[0 : r*i]\n",
        "    Ytra1 = ytrain[0 : r*i]\n",
        "    Xtra2 = Xtrain[r*(i+1) : ]\n",
        "    Ytra2 = ytrain[r*(i+1) : ]\n",
        "    Xtra = np.concatenate((Xtra1, Xtra2), axis=0)\n",
        "    Ytra = np.concatenate((Ytra1, Ytra2), axis=0)\n",
        "    Xtest = Xtrain[r*i : r*(i+1)]\n",
        "    Ytest = ytrain[r*i : r*(i+1)]\n",
        "    model = train(Xtra,Ytra,3,100,'L1','L1')\n",
        "    ypred = model.forward(Xtest)\n",
        "    acc = accuracy(ypred,Ytest)\n",
        "    total_accuracy += acc\n",
        "    print('Test Accuracy:')\n",
        "    print(acc)\n",
        "    i+=1\n",
        "    print('\\n')\n",
        "print(f\"total test accuracy={total_accuracy/k}\\n\\n\")\n",
        "\n",
        "#MCM with no weight constraint"
      ],
      "metadata": {
        "colab": {
          "base_uri": "https://localhost:8080/",
          "height": 1000
        },
        "id": "Z4rBLFRGVSG0",
        "outputId": "d5a96c38-e991-4b1f-8045-a22c6821e503"
      },
      "execution_count": 12,
      "outputs": [
        {
          "output_type": "stream",
          "name": "stdout",
          "text": [
            "0 fold\n",
            "Start\n",
            "Recursion Done\n",
            "1\n"
          ]
        },
        {
          "output_type": "display_data",
          "data": {
            "image/png": "[encoded data removed]",
            "text/plain": [
              "<Figure size 432x288 with 1 Axes>"
            ]
          },
          "metadata": {
            "needs_background": "light"
          }
        },
        {
          "output_type": "stream",
          "name": "stdout",
          "text": [
            "1\n"
          ]
        },
        {
          "output_type": "display_data",
          "data": {
            "image/png": "[encoded data removed]",
            "text/plain": [
              "<Figure size 432x288 with 1 Axes>"
            ]
          },
          "metadata": {
            "needs_background": "light"
          }
        },
        {
          "output_type": "stream",
          "name": "stdout",
          "text": [
            "0\n"
          ]
        },
        {
          "output_type": "display_data",
          "data": {
            "image/png": "[encoded data removed]",
            "text/plain": [
              "<Figure size 432x288 with 1 Axes>"
            ]
          },
          "metadata": {
            "needs_background": "light"
          }
        },
        {
          "output_type": "stream",
          "name": "stdout",
          "text": [
            "End\n",
            "Train accuracy:\n",
            "1.0\n",
            "Test Accuracy:\n",
            "0.9432387312186978\n",
            "\n",
            "\n",
            "total test accuracy=0.9432387312186978\n",
            "\n",
            "\n"
          ]
        }
      ]
    },
    {
      "cell_type": "code",
      "source": [
        "n = Xtrain.shape[0]\n",
        "i = 0\n",
        "k = 1\n",
        "r = int(n/5)\n",
        "total_correct = 0\n",
        "total_total = 0\n",
        "total_accuracy = 0\n",
        "while(i < k):\n",
        "    print(f\"{i} fold\")\n",
        "    if ((i+1)*r>n):\n",
        "        print(\"lower the test %\")\n",
        "        break\n",
        "    Xtra1 = Xtrain[0 : r*i]\n",
        "    Ytra1 = ytrain[0 : r*i]\n",
        "    Xtra2 = Xtrain[r*(i+1) : ]\n",
        "    Ytra2 = ytrain[r*(i+1) : ]\n",
        "    Xtra = np.concatenate((Xtra1, Xtra2), axis=0)\n",
        "    Ytra = np.concatenate((Ytra1, Ytra2), axis=0)\n",
        "    Xtest = Xtrain[r*i : r*(i+1)]\n",
        "    Ytest = ytrain[r*i : r*(i+1)]\n",
        "    model = train(Xtra,Ytra,3,1,'L1','L1')\n",
        "    ypred = model.forward(Xtest)\n",
        "    acc = accuracy(ypred,Ytest)\n",
        "    total_accuracy += acc\n",
        "    print('Test Accuracy:')\n",
        "    print(acc)\n",
        "    i+=1\n",
        "    print('\\n')\n",
        "print(f\"total test accuracy={total_accuracy/k}\\n\\n\")\n",
        "\n",
        "#MCM with no weight constraint"
      ],
      "metadata": {
        "colab": {
          "base_uri": "https://localhost:8080/",
          "height": 1000
        },
        "id": "bl1ReiF6VcFC",
        "outputId": "280ca529-e27d-42af-dfec-4d926ab3cd36"
      },
      "execution_count": 13,
      "outputs": [
        {
          "output_type": "stream",
          "name": "stdout",
          "text": [
            "0 fold\n",
            "Start\n",
            "Recursion Done\n",
            "1\n"
          ]
        },
        {
          "output_type": "display_data",
          "data": {
            "image/png": "[encoded data removed]",
            "text/plain": [
              "<Figure size 432x288 with 1 Axes>"
            ]
          },
          "metadata": {
            "needs_background": "light"
          }
        },
        {
          "output_type": "stream",
          "name": "stdout",
          "text": [
            "1\n"
          ]
        },
        {
          "output_type": "display_data",
          "data": {
            "image/png": "[encoded data removed]",
            "text/plain": [
              "<Figure size 432x288 with 1 Axes>"
            ]
          },
          "metadata": {
            "needs_background": "light"
          }
        },
        {
          "output_type": "stream",
          "name": "stdout",
          "text": [
            "0\n"
          ]
        },
        {
          "output_type": "display_data",
          "data": {
            "image/png": "[encoded data removed]",
            "text/plain": [
              "<Figure size 432x288 with 1 Axes>"
            ]
          },
          "metadata": {
            "needs_background": "light"
          }
        },
        {
          "output_type": "stream",
          "name": "stdout",
          "text": [
            "End\n",
            "Train accuracy:\n",
            "1.0\n",
            "Test Accuracy:\n",
            "0.9432387312186978\n",
            "\n",
            "\n",
            "total test accuracy=0.9432387312186978\n",
            "\n",
            "\n"
          ]
        }
      ]
    },
    {
      "cell_type": "code",
      "source": [
        "n = Xtrain.shape[0]\n",
        "i = 0\n",
        "k = 1\n",
        "r = int(n/5)\n",
        "total_correct = 0\n",
        "total_total = 0\n",
        "total_accuracy = 0\n",
        "while(i < k):\n",
        "    print(f\"{i} fold\")\n",
        "    if ((i+1)*r>n):\n",
        "        print(\"lower the test %\")\n",
        "        break\n",
        "    Xtra1 = Xtrain[0 : r*i]\n",
        "    Ytra1 = ytrain[0 : r*i]\n",
        "    Xtra2 = Xtrain[r*(i+1) : ]\n",
        "    Ytra2 = ytrain[r*(i+1) : ]\n",
        "    Xtra = np.concatenate((Xtra1, Xtra2), axis=0)\n",
        "    Ytra = np.concatenate((Ytra1, Ytra2), axis=0)\n",
        "    Xtest = Xtrain[r*i : r*(i+1)]\n",
        "    Ytest = ytrain[r*i : r*(i+1)]\n",
        "    model = train(Xtra,Ytra,0,100,'L1','L1')\n",
        "    ypred = model.forward(Xtest)\n",
        "    acc = accuracy(ypred,Ytest)\n",
        "    total_accuracy += acc\n",
        "    print('Test Accuracy:')\n",
        "    print(acc)\n",
        "    i+=1\n",
        "    print('\\n')\n",
        "print(f\"total test accuracy={total_accuracy/k}\\n\\n\")\n",
        "\n",
        "#MCM with no weight constraint"
      ],
      "metadata": {
        "colab": {
          "base_uri": "https://localhost:8080/",
          "height": 508
        },
        "id": "XMs2HtYlfSVY",
        "outputId": "0689b1dd-2e65-49fa-9d03-8c627af3d6dc"
      },
      "execution_count": 14,
      "outputs": [
        {
          "output_type": "stream",
          "name": "stdout",
          "text": [
            "0 fold\n",
            "Start\n",
            "Recursion Done\n",
            "0\n"
          ]
        },
        {
          "output_type": "display_data",
          "data": {
            "image/png": "[encoded data removed]",
            "text/plain": [
              "<Figure size 432x288 with 1 Axes>"
            ]
          },
          "metadata": {
            "needs_background": "light"
          }
        },
        {
          "output_type": "stream",
          "name": "stdout",
          "text": [
            "End\n",
            "Train accuracy:\n",
            "0.9863342374295848\n",
            "Test Accuracy:\n",
            "0.9557595993322203\n",
            "\n",
            "\n",
            "total test accuracy=0.9557595993322203\n",
            "\n",
            "\n"
          ]
        }
      ]
    },
    {
      "cell_type": "code",
      "source": [
        ""
      ],
      "metadata": {
        "id": "MC5-VcmgfYcE"
      },
      "execution_count": null,
      "outputs": []
    }
  ],
  "metadata": {
    "interpreter": {
      "hash": "d32307ab60c186a8047d52516f214c86ffc4fca0a07f2d9b7e263da528082b42"
    },
    "kernelspec": {
      "display_name": "Python 3.8.2 64-bit ('shims': pyenv)",
      "language": "python",
      "name": "python3"
    },
    "language_info": {
      "codemirror_mode": {
        "name": "ipython",
        "version": 3
      },
      "file_extension": ".py",
      "mimetype": "text/x-python",
      "name": "python",
      "nbconvert_exporter": "python",
      "pygments_lexer": "ipython3",
      "version": "3.8.2"
    },
    "orig_nbformat": 4,
    "colab": {
      "name": "MCM_Tree.ipynb",
      "provenance": [],
      "collapsed_sections": []
    }
  },
  "nbformat": 4,
  "nbformat_minor": 0
}