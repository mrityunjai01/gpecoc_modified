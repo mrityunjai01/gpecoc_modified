{
  "cells": [
    {
      "cell_type": "code",
      "execution_count": 2,
      "metadata": {
        "id": "O0lSfZrYP7ze"
      },
      "outputs": [],
      "source": [
        "import numpy as np\n",
        "import pandas as pd\n",
        "from scipy.optimize import linprog \n",
        "from sklearn.metrics import accuracy_score\n",
        "import random\n",
        "import sys\n",
        "import matplotlib.pyplot as plt\n",
        "from scipy.io import loadmat\n",
        "from sklearn.model_selection import train_test_split\n",
        "from pprint import pprint\n",
        "from sklearn.svm import SVC\n",
        "import math\n",
        "from sklearn.preprocessing import StandardScaler\n",
        "import cvxpy as cp\n",
        "import sys\n",
        "from random import seed\n",
        "np.random.seed(1)\n",
        "seed(1)"
      ]
    },
    {
      "cell_type": "code",
      "execution_count": 3,
      "metadata": {
        "id": "iIkH4pzqaWqq"
      },
      "outputs": [],
      "source": [
        "def optimize_QMCM(xTrain,yTrain,C=10,C_weights='default',with_q=1,with_b=1,with_z=1):\n",
        "    if C_weights == 'default':\n",
        "      C_weights = np.ones((xTrain.shape[0],1))\n",
        "    yTrain1 = np.where(yTrain==0,-1,yTrain)  \n",
        "    #xTrain--->(N,D)\n",
        "    #yTrain--->(N,1)\n",
        "    N = xTrain.shape[0]\n",
        "    D = xTrain.shape[1]\n",
        " \n",
        "    if with_q==1:\n",
        "        w = cp.Variable((D,1))\n",
        "        b = cp.Variable((1,1))\n",
        "        qi = cp.Variable((N,1))\n",
        "        z = cp.Variable((D,1))\n",
        "        if with_z==1:\n",
        "          lterm = cp.sum(z) +C*(C_weights.T)@qi #h + C*cp.sum(Ciqi)\n",
        "        else:\n",
        "          lterm = C*(C_weights.T)@qi\n",
        "        objective = cp.Minimize(lterm)   \n",
        "\n",
        "        constraints = []\n",
        "        if with_b==1:\n",
        "            for i in range(N):\n",
        "                constraints += [\n",
        "                    yTrain1[i]*(np.matrix(xTrain[i])@w + b) + qi[i] >= 1,\\\n",
        "                    qi[i] >=0\n",
        "                  ]\n",
        "        else:\n",
        "            for i in range(N):\n",
        "                constraints += [\n",
        "                    yTrain1[i]*(np.matrix(xTrain[i])@w) + qi[i] >= 1,\\\n",
        "                    qi[i] >=0\n",
        "                  ]\n",
        "        if with_z==1:\n",
        "          for i in range(D):\n",
        "              constraints += [\n",
        "                  z[i] >= w[i],\\\n",
        "                  z[i] >= -w[i]\n",
        "                ]\n",
        " \n",
        "        prob = cp.Problem(objective,constraints)\n",
        "        try:\n",
        "          prob.solve()\n",
        "        except:\n",
        "          prob.solve(solver=cp.SCS,verbose=True)\n",
        "        try:\n",
        "          _w = w.value\n",
        "          _b = b.value\n",
        "          _qi = qi.value\n",
        "          _z = z.value\n",
        "        except:\n",
        "          sys.exit('Not solved')\n",
        "    else:\n",
        "        w = cp.Variable((D,1))\n",
        "        b = cp.Variable((1,1))\n",
        "        qi = cp.Variable((N,1))\n",
        "        z = cp.Variable((D,1))\n",
        "        lterm = cp.sum(z)\n",
        "        objective = cp.Minimize(lterm)   \n",
        " \n",
        "        constraints = []\n",
        "        if with_b==1:\n",
        "            for i in range(N):\n",
        "                constraints += [\n",
        "                    yTrain1[i]*(np.matrix(xTrain[i])@w + b) >= 1\n",
        "                  ]\n",
        "        else:\n",
        "            for i in range(N):\n",
        "                constraints += [\n",
        "                    yTrain1[i]*(np.matrix(xTrain[i])@w) >= 1\n",
        "                  ]\n",
        " \n",
        "        if with_z==1:\n",
        "          for i in range(D):\n",
        "              constraints += [\n",
        "                  z[i] >= w[i],\\\n",
        "                  z[i] >= -w[i]\n",
        "                ]\n",
        " \n",
        " \n",
        "        prob = cp.Problem(objective,constraints)\n",
        "        try:\n",
        "          prob.solve()\n",
        "        except:\n",
        "          prob.solve(solver=cp.SCS,verbose=True)\n",
        "        try:\n",
        "          _w = w.value\n",
        "          _b = b.value\n",
        "          _qi = qi.value\n",
        "          _z = z.value\n",
        "        except:\n",
        "          sys.exit('Not solved')\n",
        " \n",
        "    yPred = np.zeros((N))\n",
        "    wtx = np.zeros((N))\n",
        "    for i in range(N):\n",
        "        if with_b==1:\n",
        "          _sum = (np.matrix(xTrain[i,:]))@_w + _b[0][0]\n",
        "        else:\n",
        "          _sum = (np.matrix(xTrain[i,:]))@_w\n",
        "        wtx[i]=_sum\n",
        "        if _sum>=0:\n",
        "          yPred[i]=1\n",
        "        else:\n",
        "          yPred[i]=-1\n",
        " \n",
        "    trainAcc=accuracy_score(yTrain1, yPred)\n",
        " \n",
        "    if with_b==1:\n",
        "      W = np.hstack((_b[0],_w.reshape(-1)))\n",
        "    else:\n",
        "      W = np.hstack((_b[0]*0,_w.reshape(-1)))\n",
        " \n",
        "    try:\n",
        "      qi_next = np.abs(_qi.reshape(-1))\n",
        "    except:\n",
        "      if _qi==None:\n",
        "        qi_next = np.ones((N))\n",
        "    return np.matrix(W),np.where(yPred==-1,0,yPred),trainAcc,qi_next"
      ]
    },
    {
      "cell_type": "code",
      "execution_count": 4,
      "metadata": {
        "id": "rsE2x8_5QG1N"
      },
      "outputs": [],
      "source": [
        "def classes(y,y_res):\n",
        "    C1 = []\n",
        "    C2 = []\n",
        "    C3 = []\n",
        "    C4 = []\n",
        "    y = y.astype(int)\n",
        "    y_res = y_res.astype(int)\n",
        "    for i in range(len(y_res)): \n",
        "        if y[i] == 0 and y_res[i] == 0:\n",
        "            C1.append(i)\n",
        "        if y[i] == 1 and y_res[i] == 1:\n",
        "            C2.append(i)\n",
        "        if y[i] == 1 and y_res[i] == 0:\n",
        "            C3.append(i)\n",
        "        if y[i] == 0 and y_res[i] == 1:\n",
        "            C4.append(i)\n",
        "    return C1, C2, C3, C4"
      ]
    },
    {
      "cell_type": "code",
      "execution_count": 5,
      "metadata": {
        "id": "Hn6d1mL4QPN-"
      },
      "outputs": [],
      "source": [
        "def quantize(inp,weig,scaler):\n",
        "    inp_copy = inp\n",
        "    if (inp.shape[1] < weig.shape[1]): \n",
        "        inp = np.hstack((inp,np.zeros((inp.shape[0],weig.shape[1]-inp.shape[1]))))\n",
        "    inp_sc = scaler.transform(inp[:,1:])\n",
        "    inp = np.hstack((np.ones((inp.shape[0],1)),inp_sc))\n",
        "    for i in range(inp.shape[0]):\n",
        "      for j in range(weig.shape[1]-inp_copy.shape[1]):\n",
        "        inp[i,inp.shape[1]-j-1] = 0\n",
        "    res = np.dot(inp,weig.T)\n",
        "    res1 = np.dot(inp,weig.T)\n",
        "    for j in range(res.shape[0]):\n",
        "        if(res1[j][0] >= -0.00001):\n",
        "            res[j][0] = 1\n",
        "        if(res1[j][0] <= +0.00001):\n",
        "            res[j][0] = 0\n",
        "    return res"
      ]
    },
    {
      "cell_type": "code",
      "execution_count": 6,
      "metadata": {
        "id": "tR3FQv310nlW"
      },
      "outputs": [],
      "source": [
        "def choose_required_samples(XX,Xab,yab):\n",
        "    return_index = list()\n",
        "    for i in range(Xab.shape[0]):\n",
        "        for j in range(XX.shape[0]):\n",
        "            if np.array_equal(XX[j],Xab[i]):\n",
        "                return_index.append(j)\n",
        "    return return_index"
      ]
    },
    {
      "cell_type": "code",
      "execution_count": 7,
      "metadata": {
        "id": "OeS7KQmMQSfW"
      },
      "outputs": [],
      "source": [
        "class Neuron:\n",
        "    def __init__(self,n):\n",
        "        self.X = np.zeros((1,n)) #[bias weight, feature weights, weight from node A, weight from node B]\n",
        "        self.inp = n #number of features\n",
        "        self.A = None #node A\n",
        "        self.B = None #node B\n",
        "        self.Xab = np.zeros((1,n)) \n",
        "        self.yab = np.zeros((1))\n",
        "        self.weight = 0 \n",
        "        self.sc = 0 #scaler parameters stored in each node\n",
        "  \n",
        "    def insert(self,neuron_type, weight, Xab, yab): #insering child neurons    \n",
        "        if neuron_type == 'A':\n",
        "            self.A = Neuron(self.inp)\n",
        "            self.A.Xab = Xab\n",
        "            self.A.yab = yab\n",
        "            self.A.weight = weight\n",
        "            self.X = np.hstack((self.X, np.array([[weight]])))\n",
        "        else:\n",
        "            self.B = Neuron(self.inp)\n",
        "            self.B.Xab = Xab\n",
        "            self.B.yab = yab\n",
        "            self.B.weight = weight\n",
        "            self.X = np.hstack((self.X, np.array([[weight]])))\n",
        "            \n",
        "    def optimize_bottom_up(self,XX,bias_XX): #optimize the margin starting from the leaf nodes\n",
        "        if self.A != None and self.B != None:\n",
        "            # print(\"AB\")\n",
        "            y_1 = self.A.optimize_bottom_up(XX,bias_XX)\n",
        "            y_2 = self.B.optimize_bottom_up(XX,bias_XX)\n",
        "            inp_to_neuron = np.hstack((XX, y_1, y_2))\n",
        "            training_inputs = inp_to_neuron[choose_required_samples(bias_XX,self.Xab,self.yab)]\n",
        "            sc_ = StandardScaler().fit(training_inputs)\n",
        "            training_inputs_sc = sc_.transform(training_inputs)\n",
        "            self.sc = sc_\n",
        "            W,yp,trAcc,qi = optimize_QMCM(training_inputs_sc,self.yab,C=100,with_q=0,with_b=1)\n",
        "            self.X = W\n",
        "            self.A.weight = W[0,-1]\n",
        "            self.B.weight = W[0,-2]\n",
        "            res = quantize(np.hstack((bias_XX, y_1, y_2)),self.X,self.sc)\n",
        "            return res\n",
        "        elif self.A != None:\n",
        "            # print(\"A\")\n",
        "            y_1 = self.A.optimize_bottom_up(XX,bias_XX)\n",
        "            inp_to_neuron = np.hstack((XX, y_1))\n",
        "            training_inputs = inp_to_neuron[choose_required_samples(bias_XX,self.Xab,self.yab)]\n",
        "            sc_ = StandardScaler().fit(training_inputs)\n",
        "            training_inputs_sc = sc_.transform(training_inputs)\n",
        "            self.sc = sc_\n",
        "            W,yp,trAcc,qi = optimize_QMCM(training_inputs_sc,self.yab,C=100,with_q=0,with_b=1)\n",
        "            self.X = W\n",
        "            self.A.weight = W[0,-1]\n",
        "            res = quantize(np.hstack((bias_XX, y_1)),self.X,self.sc)\n",
        "            return res\n",
        "        elif self.B != None:\n",
        "            # print(\"B\")\n",
        "            y_2 = self.B.optimize_bottom_up(XX,bias_XX)\n",
        "            inp_to_neuron = np.hstack((XX, y_2))\n",
        "            training_inputs = inp_to_neuron[choose_required_samples(bias_XX,self.Xab,self.yab)]\n",
        "            sc_ = StandardScaler().fit(training_inputs)\n",
        "            training_inputs_sc = sc_.transform(training_inputs)\n",
        "            self.sc = sc_\n",
        "            W,yp,trAcc,qi = optimize_QMCM(training_inputs_sc,self.yab,C=100,with_q=0,with_b=1)\n",
        "            self.X = W\n",
        "            self.B.weight = W[0,-1]\n",
        "            res = quantize(np.hstack((bias_XX, y_2)),self.X,self.sc)\n",
        "            return res\n",
        "        else:\n",
        "            # print(\"no child node\")\n",
        "            inp_to_neuron = XX\n",
        "            training_inputs = inp_to_neuron[choose_required_samples(bias_XX,self.Xab,self.yab)]\n",
        "            sc_ = StandardScaler().fit(training_inputs)\n",
        "            training_inputs_sc = sc_.transform(training_inputs)\n",
        "            self.sc = sc_\n",
        "            W,yp,trAcc,qi = optimize_QMCM(training_inputs_sc,self.yab,C=100,with_q=0,with_b=1)\n",
        "            self.X = W\n",
        "            res = quantize(bias_XX,self.X,self.sc)\n",
        "            return res\n",
        "\n",
        "    def calculate_till_depth_d(self,XX,bias_XX,d,count_depth): #for predicting with the neurons belonging to certain max depth\n",
        "        count_depth = count_depth + 1\n",
        "        if (count_depth == d): #stop calculation at this layer\n",
        "            stop_cal = 1\n",
        "        else:\n",
        "            stop_cal = 0\n",
        "        if (stop_cal == 0):\n",
        "            if self.A != None and self.B != None:\n",
        "                # print(\"AB\")\n",
        "                y_1 = self.A.calculate_till_depth_d(XX,bias_XX,d,count_depth)\n",
        "                y_2 = self.B.calculate_till_depth_d(XX,bias_XX,d,count_depth)\n",
        "#                 print(\"y_1:\"+str(y_1))\n",
        "#                 print(\"y_2:\"+str(y_2))\n",
        "                res = quantize(np.hstack((bias_XX, y_1, y_2)),self.X,self.sc)\n",
        "                return res\n",
        "            elif self.A != None:\n",
        "                # print(\"A\")\n",
        "                y_1 = self.A.calculate_till_depth_d(XX,bias_XX,d,count_depth)\n",
        "#                 print(\"y_1:\"+str(y_1))\n",
        "                res = quantize(np.hstack((bias_XX, y_1)),self.X,self.sc)\n",
        "                return res\n",
        "            elif self.B != None:\n",
        "                # print(\"B\")\n",
        "                y_2 = self.B.calculate_till_depth_d(XX,bias_XX,d,count_depth)\n",
        "#                 print(\"y_2:\"+str(y_2))\n",
        "                res = quantize(np.hstack((bias_XX, y_2)),self.X,self.sc)\n",
        "                return res\n",
        "            else:\n",
        "                # print(\"no child node\")\n",
        "                res = quantize(bias_XX,self.X,self.sc)\n",
        "                return res\n",
        "        else:\n",
        "            # print(\"we have stopped calculating\")\n",
        "            res = quantize(bias_XX,self.X,self.sc)\n",
        "            return res"
      ]
    },
    {
      "cell_type": "code",
      "execution_count": 8,
      "metadata": {
        "id": "D55YQZ4AQhrl"
      },
      "outputs": [],
      "source": [
        "def accuracy(y_pred, y):\n",
        "    count = 0\n",
        "    if(len(y_pred) == len(y)):\n",
        "        l = len(y)\n",
        "        for i in range(l):\n",
        "            if (y_pred[i] == y[i]):\n",
        "                count+=1\n",
        "        return count/l        \n",
        "    else:\n",
        "        print(\"Unequal lenghts of arrays!!\")"
      ]
    },
    {
      "cell_type": "code",
      "execution_count": 9,
      "metadata": {
        "id": "h5qy57YQkakZ"
      },
      "outputs": [],
      "source": [
        "def neuron_A(X,y,C1,C3,C4): # data set for neuron A\n",
        "    n = X.shape[1]\n",
        "    m = len(C1) + len(C3) + len(C4)\n",
        "    y_A = np.zeros((m))\n",
        "    X_A = np.zeros((m, n))\n",
        "    for i in range(len(C1)):\n",
        "        X_A[i] = X[C1[i]]\n",
        "        y_A[i] = 0\n",
        "    for i in range(len(C3)):\n",
        "        X_A[i + len(C1)] = X[C3[i]]\n",
        "        y_A[i + len(C1)] = 1\n",
        "    for i in range(len(C4)):\n",
        "        X_A[i + len(C1)+ len(C3)] = X[C4[i]]\n",
        "        y_A[i + len(C1)+ len(C3)] = 0\n",
        "    # print(\"X_A:\")\n",
        "    # print(X_A)\n",
        "    # print(\"y_A:\")\n",
        "    # print(y_A)\n",
        "    return X_A,y_A\n",
        "def neuron_B(X,y,C2,C3,C4): # data set for neuron B\n",
        "    n = X.shape[1]\n",
        "    m = len(C2) + len(C3) + len(C4)\n",
        "    y_B = np.zeros((m))\n",
        "    X_B = np.zeros((m, n))\n",
        "    for i in range(len(C2)):\n",
        "        X_B[i] = X[C2[i]]\n",
        "        y_B[i] = 0\n",
        "\n",
        "    for i in range(len(C3)):\n",
        "        X_B[i + len(C2)] = X[C3[i]]\n",
        "        y_B[i + len(C2)] = 0\n",
        "\n",
        "    for i in range(len(C4)):\n",
        "        X_B[i + len(C2)+ len(C3)] = X[C4[i]]\n",
        "        y_B[i + len(C2)+ len(C3)] = 1\n",
        "\n",
        "    # print(\"X_B:\")\n",
        "    # print(X_B)\n",
        "    # print(\"y_B:\")\n",
        "    # print(y_B)\n",
        "    return X_B,y_B"
      ]
    },
    {
      "cell_type": "code",
      "execution_count": 10,
      "metadata": {
        "id": "8qw3EDfYiiMd"
      },
      "outputs": [],
      "source": [
        "from sklearn.svm import SVC\n",
        "from sklearn.preprocessing import StandardScaler\n",
        "def classifier(X,y,curr_Neuron,parent_Neuron):\n",
        "    sc_ = StandardScaler().fit(X[:,1:])\n",
        "    X_sc = sc_.transform(X[:,1:])\n",
        "    X_sc = np.hstack((np.ones((X_sc.shape[0],1)),X_sc))\n",
        "    W, yp, trAcc,qi = optimize_QMCM(X_sc[:,1:],y,C=100,C_weights='default',with_q=1)\n",
        "    if curr_Neuron == parent_Neuron:\n",
        "      curr_Neuron.Xab = X\n",
        "      curr_Neuron.yab = y\n",
        "    if (curr_Neuron == parent_Neuron) and (trAcc == 1):\n",
        "      print(\"parent Neuron linearly separable\")\n",
        "    if trAcc == 1:\n",
        "      print(\"Neuron linearly separable\")\n",
        "      curr_Neuron.Xab = X\n",
        "      curr_Neuron.yab = y\n",
        "    else:\n",
        "      print(\"Neuron not linearly separable\")\n",
        "      W, yp, trAcc,qi = optimize_QMCM(X_sc[:,1:],y,C=C_fixed,with_q=1,with_b=1)\n",
        "      qi = np.where(qi<0.1,1,qi)\n",
        "      qi_previous=np.ones((X.shape[0]))\n",
        "      cnt = 0\n",
        "      while True and cnt<=100:\n",
        "        C1,C2,C3,C4 = classes(y,yp)\n",
        "        if len(C1)==0 or len(C2)==0:\n",
        "          cnt = cnt+1 \n",
        "          print('Got degenrate solution - cnt {}'.format(cnt))\n",
        "          qi_previous = np.multiply(qi,qi_previous)\n",
        "          W, yp, trAcc,qi = optimize_QMCM(X_sc[:,1:],y,C=C_fixed,C_weights=qi_previous,with_q=1,with_b=1)\n",
        "          qi = np.where(qi<0.1,1,qi)\n",
        "        else:\n",
        "          print('Not degenerate solution')\n",
        "          C1,C2,C3,C4 = classes(y,yp)\n",
        "          break\n",
        "      if cnt>100:\n",
        "        sys.exit('Maximum count 100 reached..got only degenerate solutions in 100 reps')       \n",
        "      print('\\nC1 {} \\nC2 {} \\nC3 {} \\nC4 {}'.format(C1,C2,C3,C4))\n",
        "      if len(C3)!= 0:\n",
        "          print('A')\n",
        "          X_A, y_A = neuron_A(X,y,C1,C3,C4)\n",
        "          curr_Neuron.insert('A', 0, X_A, y_A)\n",
        "          classifier(X_A,y_A,curr_Neuron.A,parent_Neuron)\n",
        "      if len(C4)!= 0:\n",
        "          print('B')\n",
        "          X_B, y_B = neuron_B(X,y,C2,C3,C4)\n",
        "          curr_Neuron.insert('B', 0, X_B, y_B)\n",
        "          classifier(X_B,y_B,curr_Neuron.B,parent_Neuron)"
      ]
    },
    {
      "cell_type": "code",
      "execution_count": 12,
      "metadata": {
        "colab": {
          "base_uri": "https://localhost:8080/",
          "height": 1000
        },
        "id": "ya5B5mnGGU5A",
        "outputId": "4e3c426a-8325-41a5-a8f2-92569b4103bf"
      },
      "outputs": [
        {
          "name": "stdout",
          "output_type": "stream",
          "text": [
            "data size = (270, 14)\n",
            "Neuron not linearly separable\n",
            "Not degenerate solution\n",
            "\n",
            "C1 [0, 2, 5, 11, 12, 14, 15, 18, 24, 25, 26, 27, 28, 30, 35, 36, 39, 41, 44, 45, 46, 47, 49, 50, 51, 52, 56, 58, 59, 61, 63, 69, 72, 73, 75, 79, 82, 84, 86, 87, 88, 91, 96, 97, 98, 100, 101, 105, 108, 109, 111, 114, 116, 122, 123, 124, 125, 126, 127, 128, 130, 135, 138, 139, 140, 141, 143, 146, 147, 152, 156, 157, 158, 161, 163, 167, 168, 169, 170, 171, 179, 182, 184, 185, 187, 188, 189, 192, 195, 197, 201, 205, 209, 211, 212, 214, 215, 217, 220, 224, 226, 227, 228, 229, 232, 233, 236, 240] \n",
            "C2 [1, 3, 6, 7, 8, 9, 13, 17, 21, 22, 23, 32, 34, 38, 43, 48, 53, 54, 55, 62, 65, 67, 70, 76, 77, 78, 80, 81, 89, 90, 92, 93, 95, 99, 102, 113, 115, 117, 118, 120, 121, 129, 132, 133, 136, 144, 149, 151, 154, 155, 159, 162, 164, 166, 174, 175, 176, 177, 181, 183, 186, 193, 194, 196, 199, 200, 203, 204, 206, 208, 210, 213, 218, 219, 222, 223, 230, 234, 237] \n",
            "C3 [10, 19, 20, 29, 31, 40, 42, 64, 66, 68, 74, 83, 85, 94, 103, 104, 106, 110, 119, 134, 142, 145, 148, 150, 172, 216, 221, 225, 231, 235, 242] \n",
            "C4 [4, 16, 33, 37, 57, 60, 71, 107, 112, 131, 137, 153, 160, 165, 173, 178, 180, 190, 191, 198, 202, 207, 238, 239, 241]\n",
            "A\n",
            "Neuron not linearly separable\n",
            "Got degenrate solution - cnt 1\n"
          ]
        },
        {
          "name": "stderr",
          "output_type": "stream",
          "text": [
            "<ipython-input-3-042c8d583e11>:2: FutureWarning: elementwise comparison failed; returning scalar instead, but in the future will perform elementwise comparison\n",
            "  if C_weights == 'default':\n"
          ]
        },
        {
          "name": "stdout",
          "output_type": "stream",
          "text": [
            "Got degenrate solution - cnt 2\n",
            "Not degenerate solution\n",
            "\n",
            "C1 [0, 1, 2, 3, 4, 5, 6, 7, 8, 9, 11, 12, 13, 14, 15, 16, 17, 18, 19, 20, 22, 23, 24, 25, 26, 28, 29, 30, 31, 32, 33, 34, 35, 36, 37, 38, 39, 40, 41, 42, 43, 44, 45, 46, 47, 48, 49, 50, 51, 52, 53, 54, 55, 56, 58, 59, 60, 61, 62, 63, 64, 65, 66, 67, 68, 69, 70, 72, 73, 74, 76, 77, 78, 80, 81, 82, 83, 84, 85, 86, 87, 88, 89, 90, 91, 92, 93, 94, 95, 96, 97, 98, 99, 100, 101, 103, 104, 105, 106, 107, 139, 140, 141, 142, 143, 144, 145, 146, 147, 148, 149, 150, 152, 153, 154, 155, 156, 157, 158, 159, 161, 162, 163] \n",
            "C2 [109, 113, 121, 122, 129, 130, 132, 133, 138] \n",
            "C3 [108, 110, 111, 112, 114, 115, 116, 117, 118, 119, 120, 123, 124, 125, 126, 127, 128, 131, 134, 135, 136, 137] \n",
            "C4 [10, 21, 27, 57, 71, 75, 79, 102, 151, 160]\n",
            "A\n",
            "Neuron not linearly separable\n",
            "Got degenrate solution - cnt 1\n"
          ]
        },
        {
          "name": "stderr",
          "output_type": "stream",
          "text": [
            "<ipython-input-3-042c8d583e11>:2: FutureWarning: elementwise comparison failed; returning scalar instead, but in the future will perform elementwise comparison\n",
            "  if C_weights == 'default':\n"
          ]
        },
        {
          "name": "stdout",
          "output_type": "stream",
          "text": [
            "Got degenrate solution - cnt 2\n",
            "Got degenrate solution - cnt 3\n",
            "Got degenrate solution - cnt 4\n",
            "Not degenerate solution\n",
            "\n",
            "C1 [0, 1, 2, 3, 4, 5, 7, 8, 9, 10, 11, 12, 13, 14, 16, 18, 19, 21, 22, 23, 24, 25, 26, 28, 29, 30, 31, 33, 34, 35, 36, 37, 38, 39, 40, 41, 42, 43, 44, 46, 47, 48, 51, 52, 53, 54, 55, 56, 57, 59, 60, 62, 63, 64, 65, 66, 67, 68, 69, 70, 71, 72, 73, 74, 75, 76, 77, 78, 79, 80, 81, 82, 83, 84, 85, 86, 87, 88, 89, 90, 91, 92, 93, 94, 96, 97, 98, 99, 100, 101, 102, 103, 105, 106, 107, 109, 110, 111, 112, 113, 114, 117, 118, 119, 120, 121, 122, 145, 146, 147, 148, 149, 150, 151, 152, 153, 154] \n",
            "C2 [125, 126, 129, 130, 132, 134, 135, 136, 138] \n",
            "C3 [123, 124, 127, 128, 131, 133, 137, 139, 140, 141, 142, 143, 144] \n",
            "C4 [6, 15, 17, 20, 27, 32, 45, 49, 50, 58, 61, 95, 104, 108, 115, 116]\n",
            "A\n",
            "Neuron not linearly separable\n",
            "Got degenrate solution - cnt 1\n"
          ]
        },
        {
          "name": "stderr",
          "output_type": "stream",
          "text": [
            "<ipython-input-3-042c8d583e11>:2: FutureWarning: elementwise comparison failed; returning scalar instead, but in the future will perform elementwise comparison\n",
            "  if C_weights == 'default':\n"
          ]
        },
        {
          "name": "stdout",
          "output_type": "stream",
          "text": [
            "Got degenrate solution - cnt 2\n",
            "Got degenrate solution - cnt 3\n",
            "Got degenrate solution - cnt 4\n",
            "Got degenrate solution - cnt 5\n",
            "Got degenrate solution - cnt 6\n",
            "Not degenerate solution\n",
            "\n",
            "C1 [0, 1, 2, 5, 8, 9, 10, 11, 13, 14, 16, 17, 18, 22, 24, 25, 26, 27, 29, 31, 32, 33, 35, 36, 39, 40, 43, 44, 45, 46, 49, 52, 55, 57, 59, 60, 61, 62, 65, 67, 68, 71, 72, 74, 78, 79, 80, 85, 87, 88, 89, 90, 91, 92, 93, 94, 95, 96, 97, 98, 99, 100, 101, 102, 103, 104, 105, 106, 107, 108, 110, 113, 114, 115, 116, 132, 136, 138, 139, 140, 142, 143, 144, 145] \n",
            "C2 [117, 118, 119, 121, 123, 124, 125, 126, 127, 128, 129] \n",
            "C3 [120, 122] \n",
            "C4 [3, 4, 6, 7, 12, 15, 19, 20, 21, 23, 28, 30, 34, 37, 38, 41, 42, 47, 48, 50, 51, 53, 54, 56, 58, 63, 64, 66, 69, 70, 73, 75, 76, 77, 81, 82, 83, 84, 86, 109, 111, 112, 130, 131, 133, 134, 135, 137, 141]\n",
            "A\n",
            "Neuron linearly separable\n",
            "B\n",
            "Neuron not linearly separable\n",
            "Got degenrate solution - cnt 1\n"
          ]
        },
        {
          "name": "stderr",
          "output_type": "stream",
          "text": [
            "<ipython-input-3-042c8d583e11>:2: FutureWarning: elementwise comparison failed; returning scalar instead, but in the future will perform elementwise comparison\n",
            "  if C_weights == 'default':\n"
          ]
        },
        {
          "name": "stdout",
          "output_type": "stream",
          "text": [
            "Got degenrate solution - cnt 2\n",
            "Got degenrate solution - cnt 3\n",
            "Got degenrate solution - cnt 4\n",
            "Got degenrate solution - cnt 5\n",
            "Got degenrate solution - cnt 6\n",
            "Not degenerate solution\n",
            "\n",
            "C1 [0, 3, 9, 11, 12] \n",
            "C2 [13, 14, 15, 16, 17, 18, 19, 20, 21, 22, 23, 24, 25, 26, 27, 28, 29, 30, 31, 32, 34, 35, 36, 37, 38, 39, 40, 41, 42, 43, 44, 45, 46, 47, 48, 49, 50, 51, 52, 53, 54, 55, 56, 57, 58, 59, 61] \n",
            "C3 [33, 60] \n",
            "C4 [1, 2, 4, 5, 6, 7, 8, 10]\n",
            "A\n",
            "Neuron linearly separable\n",
            "B\n",
            "Neuron not linearly separable\n",
            "Got degenrate solution - cnt 1\n"
          ]
        },
        {
          "name": "stderr",
          "output_type": "stream",
          "text": [
            "<ipython-input-3-042c8d583e11>:2: FutureWarning: elementwise comparison failed; returning scalar instead, but in the future will perform elementwise comparison\n",
            "  if C_weights == 'default':\n"
          ]
        },
        {
          "name": "stdout",
          "output_type": "stream",
          "text": [
            "Got degenrate solution - cnt 2\n",
            "Got degenrate solution - cnt 3\n",
            "Got degenrate solution - cnt 4\n",
            "Got degenrate solution - cnt 5\n",
            "Got degenrate solution - cnt 6\n",
            "Got degenrate solution - cnt 7\n",
            "Got degenrate solution - cnt 8\n",
            "Got degenrate solution - cnt 9\n",
            "Not degenerate solution\n",
            "\n",
            "C1 [0, 1, 2, 3, 4, 5, 8, 9, 10, 11, 14, 15, 16, 17, 18, 20, 21, 23, 26, 27, 28, 29, 30, 31, 32, 33, 35, 36, 37, 41, 42, 44, 46, 47] \n",
            "C2 [49, 50, 51, 52, 53, 54, 55, 56] \n",
            "C3 [] \n",
            "C4 [6, 7, 12, 13, 19, 22, 24, 25, 34, 38, 39, 40, 43, 45, 48]\n",
            "B\n",
            "Neuron not linearly separable\n",
            "Got degenrate solution - cnt 1\n",
            "Got degenrate solution - cnt 2\n"
          ]
        },
        {
          "name": "stderr",
          "output_type": "stream",
          "text": [
            "<ipython-input-3-042c8d583e11>:2: FutureWarning: elementwise comparison failed; returning scalar instead, but in the future will perform elementwise comparison\n",
            "  if C_weights == 'default':\n"
          ]
        },
        {
          "name": "stdout",
          "output_type": "stream",
          "text": [
            "Got degenrate solution - cnt 3\n",
            "Got degenrate solution - cnt 4\n",
            "Got degenrate solution - cnt 5\n",
            "Got degenrate solution - cnt 6\n",
            "Got degenrate solution - cnt 7\n",
            "Got degenrate solution - cnt 8\n",
            "Got degenrate solution - cnt 9\n",
            "Not degenerate solution\n",
            "\n",
            "C1 [0, 1, 2, 3, 4, 5, 6, 7] \n",
            "C2 [20, 21, 22] \n",
            "C3 [8, 9, 10, 11, 12, 13, 14, 15, 16, 17, 18, 19] \n",
            "C4 []\n",
            "A\n",
            "Neuron not linearly separable\n",
            "Got degenrate solution - cnt 1\n",
            "Got degenrate solution - cnt 2\n"
          ]
        },
        {
          "name": "stderr",
          "output_type": "stream",
          "text": [
            "<ipython-input-3-042c8d583e11>:2: FutureWarning: elementwise comparison failed; returning scalar instead, but in the future will perform elementwise comparison\n",
            "  if C_weights == 'default':\n"
          ]
        },
        {
          "name": "stdout",
          "output_type": "stream",
          "text": [
            "Got degenrate solution - cnt 3\n",
            "Got degenrate solution - cnt 4\n",
            "Got degenrate solution - cnt 5\n",
            "Got degenrate solution - cnt 6\n",
            "Got degenrate solution - cnt 7\n",
            "Got degenrate solution - cnt 8\n",
            "Got degenrate solution - cnt 9\n",
            "Got degenrate solution - cnt 10\n",
            "Got degenrate solution - cnt 11\n",
            "Not degenerate solution\n",
            "\n",
            "C1 [0, 1, 2, 4, 5, 6, 7] \n",
            "C2 [12, 15, 18, 19] \n",
            "C3 [8, 9, 10, 11, 13, 14, 16, 17] \n",
            "C4 [3]\n",
            "A\n",
            "Neuron not linearly separable\n",
            "Got degenrate solution - cnt 1\n",
            "Got degenrate solution - cnt 2\n",
            "Got degenrate solution - cnt 3\n"
          ]
        },
        {
          "name": "stderr",
          "output_type": "stream",
          "text": [
            "<ipython-input-3-042c8d583e11>:2: FutureWarning: elementwise comparison failed; returning scalar instead, but in the future will perform elementwise comparison\n",
            "  if C_weights == 'default':\n"
          ]
        },
        {
          "name": "stdout",
          "output_type": "stream",
          "text": [
            "Got degenrate solution - cnt 4\n",
            "Got degenrate solution - cnt 5\n",
            "Got degenrate solution - cnt 6\n",
            "Got degenrate solution - cnt 7\n",
            "Got degenrate solution - cnt 8\n",
            "Got degenrate solution - cnt 9\n",
            "Got degenrate solution - cnt 10\n",
            "Got degenrate solution - cnt 11\n",
            "Not degenerate solution\n",
            "\n",
            "C1 [0, 2, 4, 5, 15] \n",
            "C2 [7, 10, 11, 12, 13, 14] \n",
            "C3 [8, 9] \n",
            "C4 [1, 3, 6]\n",
            "A\n",
            "Neuron linearly separable\n",
            "B\n",
            "Neuron linearly separable\n",
            "B\n",
            "Neuron linearly separable\n",
            "B\n",
            "Neuron linearly separable\n",
            "B\n",
            "Neuron linearly separable\n",
            "B\n",
            "Neuron not linearly separable\n",
            "Got degenrate solution - cnt 1\n"
          ]
        },
        {
          "name": "stderr",
          "output_type": "stream",
          "text": [
            "<ipython-input-3-042c8d583e11>:2: FutureWarning: elementwise comparison failed; returning scalar instead, but in the future will perform elementwise comparison\n",
            "  if C_weights == 'default':\n"
          ]
        },
        {
          "name": "stdout",
          "output_type": "stream",
          "text": [
            "Got degenrate solution - cnt 2\n",
            "Not degenerate solution\n",
            "\n",
            "C1 [0, 1, 2, 3, 4, 5, 6, 7, 9, 10, 12, 13, 14, 15, 16, 17, 18, 19, 20, 21, 22, 23, 24, 25, 26, 27, 28, 29, 30, 31, 32, 33, 34, 35, 36, 38, 39, 40, 41, 42, 44, 45, 46, 47, 48, 49, 50, 51, 52, 53, 54, 55, 56, 57, 58, 60, 61, 62, 63, 64, 65, 66, 67, 68, 69, 70, 71, 72, 73, 74, 75, 76, 77, 80, 81, 82, 83, 85, 86, 87, 88, 89, 90, 91, 92, 93, 94, 95, 96, 97, 98, 100, 101, 102, 103, 104, 105, 106, 107, 109] \n",
            "C2 [111, 113, 115, 119, 123, 125, 129, 130, 133] \n",
            "C3 [110, 112, 114, 116, 117, 118, 120, 121, 122, 124, 126, 127, 128, 131, 132, 134] \n",
            "C4 [8, 11, 37, 43, 59, 78, 79, 84, 99, 108]\n",
            "A\n",
            "Neuron not linearly separable\n",
            "Got degenrate solution - cnt 1\n"
          ]
        },
        {
          "name": "stderr",
          "output_type": "stream",
          "text": [
            "<ipython-input-3-042c8d583e11>:2: FutureWarning: elementwise comparison failed; returning scalar instead, but in the future will perform elementwise comparison\n",
            "  if C_weights == 'default':\n"
          ]
        },
        {
          "name": "stdout",
          "output_type": "stream",
          "text": [
            "Got degenrate solution - cnt 2\n",
            "Got degenrate solution - cnt 3\n",
            "Got degenrate solution - cnt 4\n",
            "Got degenrate solution - cnt 5\n",
            "Not degenerate solution\n",
            "\n",
            "C1 [0, 1, 2, 3, 4, 5, 8, 11, 13, 16, 17, 18, 21, 22, 23, 24, 26, 27, 28, 33, 36, 37, 40, 41, 44, 45, 46, 49, 50, 51, 53, 55, 57, 58, 60, 61, 64, 65, 66, 68, 69, 72, 73, 74, 75, 78, 79, 80, 82, 83, 84, 86, 87, 88, 91, 94, 95, 96, 97, 99, 117, 118, 120, 122, 123, 124, 125] \n",
            "C2 [101, 102, 103, 105, 106, 107, 108, 109, 111, 113, 114, 115] \n",
            "C3 [100, 104, 110, 112] \n",
            "C4 [6, 7, 9, 10, 12, 14, 15, 19, 20, 25, 29, 30, 31, 32, 34, 35, 38, 39, 42, 43, 47, 48, 52, 54, 56, 59, 62, 63, 67, 70, 71, 76, 77, 81, 85, 89, 90, 92, 93, 98, 116, 119, 121]\n",
            "A\n",
            "Neuron not linearly separable\n",
            "Got degenrate solution - cnt 1\n"
          ]
        },
        {
          "name": "stderr",
          "output_type": "stream",
          "text": [
            "<ipython-input-3-042c8d583e11>:2: FutureWarning: elementwise comparison failed; returning scalar instead, but in the future will perform elementwise comparison\n",
            "  if C_weights == 'default':\n"
          ]
        },
        {
          "name": "stdout",
          "output_type": "stream",
          "text": [
            "Got degenrate solution - cnt 2\n",
            "Got degenrate solution - cnt 3\n",
            "Got degenrate solution - cnt 4\n",
            "Got degenrate solution - cnt 5\n",
            "Not degenerate solution\n",
            "\n",
            "C1 [4, 6, 8, 12, 15, 17, 19, 21, 22, 23, 24, 28, 31, 33, 36, 39, 40, 41, 42, 50, 54, 55, 56, 59, 64, 78, 81, 83, 84, 86, 88, 89, 90, 105, 108, 111] \n",
            "C2 [67, 68, 69, 70] \n",
            "C3 [] \n",
            "C4 [0, 1, 2, 3, 5, 7, 9, 10, 11, 13, 14, 16, 18, 20, 25, 26, 27, 29, 30, 32, 34, 35, 37, 38, 43, 44, 45, 46, 47, 48, 49, 51, 52, 53, 57, 58, 60, 61, 62, 63, 65, 66, 71, 72, 73, 74, 75, 76, 77, 79, 80, 82, 85, 87, 91, 92, 93, 94, 95, 96, 97, 98, 99, 100, 101, 102, 103, 104, 106, 107, 109, 110, 112, 113]\n",
            "B\n",
            "Neuron not linearly separable\n",
            "Got degenrate solution - cnt 1\n"
          ]
        },
        {
          "name": "stderr",
          "output_type": "stream",
          "text": [
            "<ipython-input-3-042c8d583e11>:2: FutureWarning: elementwise comparison failed; returning scalar instead, but in the future will perform elementwise comparison\n",
            "  if C_weights == 'default':\n"
          ]
        },
        {
          "name": "stdout",
          "output_type": "stream",
          "text": [
            "Got degenrate solution - cnt 2\n",
            "Got degenrate solution - cnt 3\n",
            "Got degenrate solution - cnt 4\n",
            "Got degenrate solution - cnt 5\n",
            "Got degenrate solution - cnt 6\n",
            "Not degenerate solution\n",
            "\n",
            "C1 [0, 1, 2, 3] \n",
            "C2 [4, 5, 8, 9, 12, 13, 19, 21, 22, 23, 28, 29, 31, 32, 35, 36, 37, 39, 40, 41, 44, 47, 50, 51, 53, 54, 55, 56, 58, 62, 63, 65, 66, 67, 68, 72] \n",
            "C3 [6, 7, 10, 11, 14, 15, 16, 17, 18, 20, 24, 25, 26, 27, 30, 33, 34, 38, 42, 43, 45, 46, 48, 49, 52, 57, 59, 60, 61, 64, 69, 70, 71, 73, 74, 75, 76, 77] \n",
            "C4 []\n",
            "A\n",
            "Neuron not linearly separable\n",
            "Got degenrate solution - cnt 1\n",
            "Got degenrate solution - cnt 2\n"
          ]
        },
        {
          "name": "stderr",
          "output_type": "stream",
          "text": [
            "<ipython-input-3-042c8d583e11>:2: FutureWarning: elementwise comparison failed; returning scalar instead, but in the future will perform elementwise comparison\n",
            "  if C_weights == 'default':\n"
          ]
        },
        {
          "name": "stdout",
          "output_type": "stream",
          "text": [
            "Got degenrate solution - cnt 3\n",
            "Got degenrate solution - cnt 4\n",
            "Got degenrate solution - cnt 5\n",
            "Got degenrate solution - cnt 6\n",
            "Got degenrate solution - cnt 7\n",
            "Got degenrate solution - cnt 8\n",
            "Not degenerate solution\n",
            "\n",
            "C1 [0, 1, 2, 3] \n",
            "C2 [25, 26, 27, 28, 29, 30, 31, 32, 33, 34, 35, 36, 37, 38, 39, 40, 41] \n",
            "C3 [4, 5, 6, 7, 8, 9, 10, 11, 12, 13, 14, 15, 16, 17, 18, 19, 20, 21, 22, 23, 24] \n",
            "C4 []\n",
            "A\n",
            "Neuron not linearly separable\n",
            "Got degenrate solution - cnt 1\n",
            "Got degenrate solution - cnt 2\n"
          ]
        },
        {
          "name": "stderr",
          "output_type": "stream",
          "text": [
            "<ipython-input-3-042c8d583e11>:2: FutureWarning: elementwise comparison failed; returning scalar instead, but in the future will perform elementwise comparison\n",
            "  if C_weights == 'default':\n"
          ]
        },
        {
          "name": "stdout",
          "output_type": "stream",
          "text": [
            "Got degenrate solution - cnt 3\n",
            "Got degenrate solution - cnt 4\n",
            "Got degenrate solution - cnt 5\n",
            "Got degenrate solution - cnt 6\n",
            "Got degenrate solution - cnt 7\n",
            "Got degenrate solution - cnt 8\n",
            "Got degenrate solution - cnt 9\n",
            "Not degenerate solution\n",
            "\n",
            "C1 [0, 1, 2, 3] \n",
            "C2 [14, 15, 18, 19, 20] \n",
            "C3 [4, 5, 6, 7, 8, 9, 10, 11, 12, 13, 16, 17, 21, 22, 23, 24] \n",
            "C4 []\n",
            "A\n",
            "Neuron not linearly separable\n",
            "Got degenrate solution - cnt 1\n",
            "Got degenrate solution - cnt 2\n"
          ]
        },
        {
          "name": "stderr",
          "output_type": "stream",
          "text": [
            "<ipython-input-3-042c8d583e11>:2: FutureWarning: elementwise comparison failed; returning scalar instead, but in the future will perform elementwise comparison\n",
            "  if C_weights == 'default':\n"
          ]
        },
        {
          "name": "stdout",
          "output_type": "stream",
          "text": [
            "Got degenrate solution - cnt 3\n",
            "Got degenrate solution - cnt 4\n",
            "Got degenrate solution - cnt 5\n",
            "Got degenrate solution - cnt 6\n",
            "Got degenrate solution - cnt 7\n",
            "Got degenrate solution - cnt 8\n",
            "Got degenrate solution - cnt 9\n",
            "Got degenrate solution - cnt 10\n",
            "Not degenerate solution\n",
            "\n",
            "C1 [0, 1, 2, 3] \n",
            "C2 [5, 6, 7, 10, 11, 14, 18] \n",
            "C3 [4, 8, 9, 12, 13, 15, 16, 17, 19] \n",
            "C4 []\n",
            "A\n",
            "Neuron linearly separable\n",
            "B\n",
            "Neuron not linearly separable\n",
            "Got degenrate solution - cnt 1\n"
          ]
        },
        {
          "name": "stderr",
          "output_type": "stream",
          "text": [
            "<ipython-input-3-042c8d583e11>:2: FutureWarning: elementwise comparison failed; returning scalar instead, but in the future will perform elementwise comparison\n",
            "  if C_weights == 'default':\n"
          ]
        },
        {
          "name": "stdout",
          "output_type": "stream",
          "text": [
            "Got degenrate solution - cnt 2\n",
            "Got degenrate solution - cnt 3\n",
            "Got degenrate solution - cnt 4\n",
            "Got degenrate solution - cnt 5\n",
            "Not degenerate solution\n",
            "\n",
            "C1 [12, 13, 14, 15] \n",
            "C2 [16, 17, 18, 19, 20, 21, 22, 23, 24, 25, 26, 27, 28, 29, 30, 31, 32, 33, 34, 35, 36, 37, 38, 39, 40, 41, 42, 43, 44, 45, 46, 47, 48, 49, 50, 51, 52, 53, 54, 55, 56, 57, 58] \n",
            "C3 [] \n",
            "C4 [0, 1, 2, 3, 4, 5, 6, 7, 8, 9, 10, 11]\n",
            "B\n",
            "Neuron not linearly separable\n",
            "Got degenrate solution - cnt 1\n"
          ]
        },
        {
          "name": "stderr",
          "output_type": "stream",
          "text": [
            "<ipython-input-3-042c8d583e11>:2: FutureWarning: elementwise comparison failed; returning scalar instead, but in the future will perform elementwise comparison\n",
            "  if C_weights == 'default':\n"
          ]
        },
        {
          "name": "stdout",
          "output_type": "stream",
          "text": [
            "Got degenrate solution - cnt 2\n",
            "Got degenrate solution - cnt 3\n",
            "Got degenrate solution - cnt 4\n",
            "Got degenrate solution - cnt 5\n",
            "Got degenrate solution - cnt 6\n",
            "Not degenerate solution\n",
            "\n",
            "C1 [4, 16, 18, 20, 21, 24, 38, 41] \n",
            "C2 [43, 44, 45, 46, 47, 48, 49, 50, 51, 52, 53, 54] \n",
            "C3 [] \n",
            "C4 [0, 1, 2, 3, 5, 6, 7, 8, 9, 10, 11, 12, 13, 14, 15, 17, 19, 22, 23, 25, 26, 27, 28, 29, 30, 31, 32, 33, 34, 35, 36, 37, 39, 40, 42]\n",
            "B\n",
            "Neuron not linearly separable\n",
            "Got degenrate solution - cnt 1\n",
            "Got degenrate solution - cnt 2\n"
          ]
        },
        {
          "name": "stderr",
          "output_type": "stream",
          "text": [
            "<ipython-input-3-042c8d583e11>:2: FutureWarning: elementwise comparison failed; returning scalar instead, but in the future will perform elementwise comparison\n",
            "  if C_weights == 'default':\n"
          ]
        },
        {
          "name": "stdout",
          "output_type": "stream",
          "text": [
            "Got degenrate solution - cnt 3\n",
            "Got degenrate solution - cnt 4\n",
            "Got degenrate solution - cnt 5\n",
            "Got degenrate solution - cnt 6\n",
            "Got degenrate solution - cnt 7\n",
            "Got degenrate solution - cnt 8\n",
            "Not degenerate solution\n",
            "\n",
            "C1 [0, 2, 3, 4, 5, 6, 7, 8, 10, 11] \n",
            "C2 [13, 14, 15, 16, 17, 21, 22, 23, 24, 26, 29, 30, 34, 35, 36, 37, 39, 40, 42, 43] \n",
            "C3 [12, 18, 19, 20, 25, 27, 28, 31, 32, 33, 38, 41, 44, 45, 46] \n",
            "C4 [1, 9]\n",
            "A\n",
            "Neuron not linearly separable\n",
            "Got degenrate solution - cnt 1\n"
          ]
        },
        {
          "name": "stderr",
          "output_type": "stream",
          "text": [
            "<ipython-input-3-042c8d583e11>:2: FutureWarning: elementwise comparison failed; returning scalar instead, but in the future will perform elementwise comparison\n",
            "  if C_weights == 'default':\n"
          ]
        },
        {
          "name": "stdout",
          "output_type": "stream",
          "text": [
            "Got degenrate solution - cnt 2\n",
            "Got degenrate solution - cnt 3\n",
            "Got degenrate solution - cnt 4\n",
            "Got degenrate solution - cnt 5\n",
            "Got degenrate solution - cnt 6\n",
            "Got degenrate solution - cnt 7\n",
            "Got degenrate solution - cnt 8\n",
            "Got degenrate solution - cnt 9\n",
            "Not degenerate solution\n",
            "\n",
            "C1 [0, 1, 2, 3, 4, 5, 6, 7, 8, 9, 25, 26] \n",
            "C2 [20, 21, 22] \n",
            "C3 [10, 11, 12, 13, 14, 15, 16, 17, 18, 19, 23, 24] \n",
            "C4 []\n",
            "A\n",
            "Neuron not linearly separable\n",
            "Got degenrate solution - cnt 1\n",
            "Got degenrate solution - cnt 2\n"
          ]
        },
        {
          "name": "stderr",
          "output_type": "stream",
          "text": [
            "<ipython-input-3-042c8d583e11>:2: FutureWarning: elementwise comparison failed; returning scalar instead, but in the future will perform elementwise comparison\n",
            "  if C_weights == 'default':\n"
          ]
        },
        {
          "name": "stdout",
          "output_type": "stream",
          "text": [
            "Got degenrate solution - cnt 3\n",
            "Got degenrate solution - cnt 4\n",
            "Got degenrate solution - cnt 5\n",
            "Got degenrate solution - cnt 6\n",
            "Got degenrate solution - cnt 7\n",
            "Got degenrate solution - cnt 8\n",
            "Got degenrate solution - cnt 9\n",
            "Got degenrate solution - cnt 10\n",
            "Got degenrate solution - cnt 11\n",
            "Not degenerate solution\n",
            "\n",
            "C1 [0, 1, 2, 3, 5, 6, 7, 8, 9, 10] \n",
            "C2 [13, 15, 16, 17, 18, 19, 20, 22, 23] \n",
            "C3 [12, 14, 21] \n",
            "C4 [4, 11]\n",
            "A\n",
            "Neuron linearly separable\n",
            "B\n",
            "Neuron linearly separable\n",
            "B\n",
            "Neuron linearly separable\n",
            "B\n",
            "Neuron linearly separable\n",
            "###train accuracy###\n",
            "[0.76954733 0.781893   0.82304527 0.86419753 0.88477366 0.89300412\n",
            " 0.90534979 0.93004115 0.97942387 1.        ]\n",
            "###########\n",
            "@@@test accuracy@@@\n",
            "[0.7037037  0.74074074 0.59259259 0.7037037  0.7037037  0.74074074\n",
            " 0.74074074 0.74074074 0.66666667 0.66666667]\n",
            "@@@@@@@@@@\n",
            "Neuron not linearly separable\n",
            "Not degenerate solution\n",
            "\n",
            "C1 [0, 2, 5, 11, 12, 14, 15, 16, 18, 24, 25, 26, 27, 28, 30, 33, 35, 36, 37, 39, 41, 44, 45, 46, 47, 50, 51, 52, 56, 58, 59, 60, 61, 63, 69, 71, 72, 73, 75, 79, 82, 84, 86, 87, 88, 91, 96, 97, 98, 100, 101, 105, 107, 108, 109, 111, 114, 116, 122, 123, 124, 125, 127, 128, 130, 131, 135, 138, 139, 140, 141, 143, 146, 147, 152, 153, 156, 157, 158, 161, 163, 165, 167, 168, 169, 170, 171, 178, 179, 182, 184, 185, 187, 188, 189, 191, 192, 195, 197, 198, 201, 202, 205, 209, 211, 212, 214, 215, 217, 220, 224, 226, 227, 228, 229, 232, 233, 236, 238, 239, 240, 241] \n",
            "C2 [1, 3, 6, 7, 8, 9, 17, 19, 21, 22, 23, 29, 32, 34, 38, 43, 48, 53, 54, 55, 62, 65, 66, 67, 68, 70, 76, 77, 78, 80, 81, 83, 89, 90, 92, 93, 94, 95, 99, 102, 103, 104, 106, 110, 113, 115, 118, 120, 121, 129, 132, 136, 144, 145, 148, 149, 151, 154, 155, 159, 162, 164, 166, 172, 174, 175, 176, 177, 181, 186, 193, 194, 196, 199, 200, 203, 204, 206, 208, 210, 213, 216, 218, 219, 222, 223, 230, 234, 242] \n",
            "C3 [10, 13, 20, 31, 40, 42, 64, 74, 85, 117, 119, 133, 134, 142, 150, 183, 221, 225, 231, 235, 237] \n",
            "C4 [4, 49, 57, 112, 126, 137, 160, 173, 180, 190, 207]\n",
            "A\n",
            "Neuron not linearly separable\n",
            "Got degenrate solution - cnt 1\n"
          ]
        },
        {
          "name": "stderr",
          "output_type": "stream",
          "text": [
            "<ipython-input-3-042c8d583e11>:2: FutureWarning: elementwise comparison failed; returning scalar instead, but in the future will perform elementwise comparison\n",
            "  if C_weights == 'default':\n"
          ]
        },
        {
          "name": "stdout",
          "output_type": "stream",
          "text": [
            "Got degenrate solution - cnt 2\n",
            "Not degenerate solution\n",
            "\n",
            "C1 [0, 1, 2, 3, 4, 5, 6, 7, 8, 9, 10, 11, 12, 13, 14, 15, 16, 17, 18, 19, 20, 21, 23, 24, 25, 26, 27, 28, 29, 30, 32, 33, 35, 36, 37, 38, 39, 40, 41, 42, 43, 44, 45, 48, 49, 50, 51, 52, 53, 54, 55, 56, 57, 58, 59, 60, 61, 62, 63, 64, 65, 66, 68, 69, 70, 72, 73, 74, 75, 76, 77, 78, 80, 81, 82, 83, 84, 85, 86, 87, 88, 89, 90, 91, 92, 93, 94, 95, 96, 97, 98, 99, 100, 101, 102, 103, 104, 105, 107, 108, 109, 110, 111, 112, 113, 114, 115, 116, 117, 118, 119, 120, 121, 144, 145, 146, 147, 148, 149, 150, 151, 152, 153] \n",
            "C2 [122, 125, 129, 131, 136, 137, 140] \n",
            "C3 [123, 124, 126, 127, 128, 130, 132, 133, 134, 135, 138, 139, 141, 142] \n",
            "C4 [22, 31, 34, 46, 47, 67, 71, 79, 106, 143]\n",
            "A\n",
            "Neuron not linearly separable\n",
            "Got degenrate solution - cnt 1\n"
          ]
        },
        {
          "name": "stderr",
          "output_type": "stream",
          "text": [
            "<ipython-input-3-042c8d583e11>:2: FutureWarning: elementwise comparison failed; returning scalar instead, but in the future will perform elementwise comparison\n",
            "  if C_weights == 'default':\n"
          ]
        },
        {
          "name": "stdout",
          "output_type": "stream",
          "text": [
            "Got degenrate solution - cnt 2\n",
            "Got degenrate solution - cnt 3\n",
            "Not degenerate solution\n",
            "\n",
            "C1 [0, 1, 2, 3, 5, 6, 7, 8, 9, 11, 12, 13, 14, 15, 16, 17, 20, 22, 23, 24, 25, 26, 29, 30, 31, 32, 33, 34, 35, 36, 37, 38, 39, 40, 41, 42, 43, 44, 45, 48, 49, 50, 52, 53, 54, 55, 56, 57, 58, 60, 61, 62, 64, 65, 66, 67, 69, 73, 75, 76, 77, 78, 80, 83, 85, 86, 88, 89, 90, 91, 92, 93, 95, 96, 98, 100, 101, 102, 103, 104, 105, 107, 108, 109, 110, 111, 112, 114, 115, 117, 121, 137, 142, 143] \n",
            "C2 [123, 124, 127, 128, 129, 130, 132, 133, 134, 135, 136] \n",
            "C3 [125, 126, 131] \n",
            "C4 [4, 10, 18, 19, 21, 27, 28, 46, 47, 51, 59, 63, 68, 70, 71, 72, 74, 79, 81, 82, 84, 87, 94, 97, 99, 106, 113, 116, 118, 119, 120, 122, 138, 139, 140, 141, 144, 145, 146]\n",
            "A\n",
            "Neuron not linearly separable\n",
            "Got degenrate solution - cnt 1\n"
          ]
        },
        {
          "name": "stderr",
          "output_type": "stream",
          "text": [
            "<ipython-input-3-042c8d583e11>:2: FutureWarning: elementwise comparison failed; returning scalar instead, but in the future will perform elementwise comparison\n",
            "  if C_weights == 'default':\n"
          ]
        },
        {
          "name": "stdout",
          "output_type": "stream",
          "text": [
            "Got degenrate solution - cnt 2\n",
            "Got degenrate solution - cnt 3\n",
            "Got degenrate solution - cnt 4\n",
            "Got degenrate solution - cnt 5\n",
            "Not degenerate solution\n",
            "\n",
            "C1 [0, 2, 3, 4, 6, 7, 8, 9, 10, 11, 13, 14, 15, 16, 17, 18, 19, 20, 21, 22, 25, 26, 27, 28, 30, 31, 33, 34, 35, 36, 37, 38, 39, 40, 41, 44, 45, 46, 47, 48, 49, 50, 51, 53, 54, 55, 56, 57, 58, 59, 60, 61, 63, 64, 65, 66, 67, 68, 69, 70, 71, 72, 73, 74, 75, 76, 77, 78, 82, 83, 84, 85, 86, 87, 88, 89, 90, 91, 97, 99, 102, 103, 104, 105, 106, 107, 108, 109, 111, 112, 114, 115, 116, 117, 118, 119, 120, 121, 122, 123, 125, 126, 127, 128, 129, 130, 131, 132, 133, 134, 135] \n",
            "C2 [94, 96] \n",
            "C3 [95] \n",
            "C4 [1, 5, 12, 23, 24, 29, 32, 42, 43, 52, 62, 79, 80, 81, 92, 93, 98, 100, 101, 110, 113, 124]\n",
            "A\n",
            "Neuron linearly separable\n",
            "B\n",
            "Neuron not linearly separable\n",
            "Got degenrate solution - cnt 1\n",
            "Got degenrate solution - cnt 2\n"
          ]
        },
        {
          "name": "stderr",
          "output_type": "stream",
          "text": [
            "<ipython-input-3-042c8d583e11>:2: FutureWarning: elementwise comparison failed; returning scalar instead, but in the future will perform elementwise comparison\n",
            "  if C_weights == 'default':\n"
          ]
        },
        {
          "name": "stdout",
          "output_type": "stream",
          "text": [
            "Got degenrate solution - cnt 3\n",
            "Got degenrate solution - cnt 4\n",
            "Got degenrate solution - cnt 5\n",
            "Not degenerate solution\n",
            "\n",
            "C1 [0, 1, 2] \n",
            "C2 [4, 7, 10, 11, 17, 20, 21] \n",
            "C3 [3, 5, 6, 8, 9, 12, 13, 14, 15, 16, 18, 19, 22, 23, 24] \n",
            "C4 []\n",
            "A\n",
            "Neuron linearly separable\n",
            "B\n",
            "Neuron not linearly separable\n",
            "Got degenrate solution - cnt 1\n",
            "Got degenrate solution - cnt 2\n"
          ]
        },
        {
          "name": "stderr",
          "output_type": "stream",
          "text": [
            "<ipython-input-3-042c8d583e11>:2: FutureWarning: elementwise comparison failed; returning scalar instead, but in the future will perform elementwise comparison\n",
            "  if C_weights == 'default':\n"
          ]
        },
        {
          "name": "stdout",
          "output_type": "stream",
          "text": [
            "Got degenrate solution - cnt 3\n",
            "Not degenerate solution\n",
            "\n",
            "C1 [2, 3, 11, 13] \n",
            "C2 [14, 16, 17, 19, 20, 21, 22, 23, 24, 25, 26, 27, 28, 29, 30, 31, 32, 33, 34, 35, 36, 37, 39, 40, 42, 43, 44, 45, 46, 47, 49, 51, 52] \n",
            "C3 [15, 18, 38, 41, 48, 50] \n",
            "C4 [0, 1, 4, 5, 6, 7, 8, 9, 10, 12]\n",
            "A\n",
            "Neuron linearly separable\n",
            "B\n",
            "Neuron not linearly separable\n",
            "Got degenrate solution - cnt 1\n"
          ]
        },
        {
          "name": "stderr",
          "output_type": "stream",
          "text": [
            "<ipython-input-3-042c8d583e11>:2: FutureWarning: elementwise comparison failed; returning scalar instead, but in the future will perform elementwise comparison\n",
            "  if C_weights == 'default':\n"
          ]
        },
        {
          "name": "stdout",
          "output_type": "stream",
          "text": [
            "Got degenrate solution - cnt 2\n",
            "Not degenerate solution\n",
            "\n",
            "C1 [1, 2, 4, 5, 6, 7, 8, 12, 13, 15, 16, 21, 22, 28, 29, 30, 31, 32, 33, 34, 35, 36, 37, 38] \n",
            "C2 [40, 41, 42, 44, 45, 46, 47, 48] \n",
            "C3 [39, 43] \n",
            "C4 [0, 3, 9, 10, 11, 14, 17, 18, 19, 20, 23, 24, 25, 26, 27]\n",
            "A\n",
            "Neuron linearly separable\n",
            "B\n",
            "Neuron not linearly separable\n",
            "Got degenrate solution - cnt 1\n",
            "Got degenrate solution - cnt 2\n"
          ]
        },
        {
          "name": "stderr",
          "output_type": "stream",
          "text": [
            "<ipython-input-3-042c8d583e11>:2: FutureWarning: elementwise comparison failed; returning scalar instead, but in the future will perform elementwise comparison\n",
            "  if C_weights == 'default':\n"
          ]
        },
        {
          "name": "stdout",
          "output_type": "stream",
          "text": [
            "Got degenrate solution - cnt 3\n",
            "Not degenerate solution\n",
            "\n",
            "C1 [0, 1, 2, 3, 4, 5, 6, 7, 8] \n",
            "C2 [12, 13, 14, 15, 16, 21] \n",
            "C3 [10, 11, 17, 18, 19, 20, 22, 23, 24] \n",
            "C4 [9]\n",
            "A\n",
            "Neuron not linearly separable\n",
            "Got degenrate solution - cnt 1\n"
          ]
        },
        {
          "name": "stderr",
          "output_type": "stream",
          "text": [
            "<ipython-input-3-042c8d583e11>:2: FutureWarning: elementwise comparison failed; returning scalar instead, but in the future will perform elementwise comparison\n",
            "  if C_weights == 'default':\n"
          ]
        },
        {
          "name": "stdout",
          "output_type": "stream",
          "text": [
            "Got degenrate solution - cnt 2\n",
            "Got degenrate solution - cnt 3\n",
            "Got degenrate solution - cnt 4\n",
            "Not degenerate solution\n",
            "\n",
            "C1 [1, 2, 6, 7, 8, 18] \n",
            "C2 [9, 10, 11, 12, 13, 14, 16] \n",
            "C3 [15, 17] \n",
            "C4 [0, 3, 4, 5]\n",
            "A\n",
            "Neuron linearly separable\n",
            "B\n",
            "Neuron linearly separable\n",
            "B\n",
            "Neuron linearly separable\n",
            "B\n",
            "Neuron linearly separable\n",
            "B\n",
            "Neuron not linearly separable\n",
            "Got degenrate solution - cnt 1\n"
          ]
        },
        {
          "name": "stderr",
          "output_type": "stream",
          "text": [
            "<ipython-input-3-042c8d583e11>:2: FutureWarning: elementwise comparison failed; returning scalar instead, but in the future will perform elementwise comparison\n",
            "  if C_weights == 'default':\n"
          ]
        },
        {
          "name": "stdout",
          "output_type": "stream",
          "text": [
            "Got degenrate solution - cnt 2\n",
            "Got degenrate solution - cnt 3\n",
            "Not degenerate solution\n",
            "\n",
            "C1 [0, 1, 2, 3, 4, 5, 8, 9, 10, 11, 12, 13, 14, 16, 17, 19, 20, 21, 22, 24, 26, 27, 28, 29, 31, 32, 33, 34, 36, 37, 38, 41, 42, 43, 44, 45, 46, 47, 48, 49, 50, 51, 52, 53, 54, 55, 57, 59, 60, 61, 62, 63, 64, 65, 67, 68, 69, 71, 72, 73, 74, 75, 78, 79, 80, 81, 83, 84, 86, 87, 88, 89, 92, 93, 95, 96, 97, 98, 101, 102, 103, 104, 105, 106, 107, 108] \n",
            "C2 [112, 113, 115, 116, 117, 119] \n",
            "C3 [110, 111, 114, 118, 120] \n",
            "C4 [6, 7, 15, 18, 23, 25, 30, 35, 39, 40, 56, 58, 66, 70, 76, 77, 82, 85, 90, 91, 94, 99, 100, 109]\n",
            "A\n",
            "Neuron not linearly separable\n",
            "Got degenrate solution - cnt 1\n"
          ]
        },
        {
          "name": "stderr",
          "output_type": "stream",
          "text": [
            "<ipython-input-3-042c8d583e11>:2: FutureWarning: elementwise comparison failed; returning scalar instead, but in the future will perform elementwise comparison\n",
            "  if C_weights == 'default':\n"
          ]
        },
        {
          "name": "stdout",
          "output_type": "stream",
          "text": [
            "Got degenrate solution - cnt 2\n",
            "Got degenrate solution - cnt 3\n",
            "Got degenrate solution - cnt 4\n",
            "Not degenerate solution\n",
            "\n",
            "C1 [1, 2, 3, 4, 5, 6, 7, 8, 10, 11, 12, 13, 14, 15, 16, 17, 18, 19, 20, 21, 22, 23, 24, 25, 26, 27, 29, 30, 31, 32, 33, 34, 35, 36, 37, 40, 41, 42, 44, 45, 46, 47, 48, 49, 50, 51, 52, 53, 54, 55, 56, 58, 59, 60, 61, 63, 64, 67, 68, 69, 70, 71, 72, 73, 75, 76, 77, 78, 79, 81, 84, 91, 94, 95, 96, 97, 99, 101, 102, 103, 104, 105, 106, 107, 108, 109] \n",
            "C2 [87, 88] \n",
            "C3 [86, 89, 90] \n",
            "C4 [0, 9, 28, 38, 39, 43, 57, 62, 65, 66, 74, 80, 82, 83, 85, 92, 93, 98, 100, 110, 111, 112, 113, 114]\n",
            "A\n",
            "Neuron not linearly separable\n",
            "Got degenrate solution - cnt 1\n"
          ]
        },
        {
          "name": "stderr",
          "output_type": "stream",
          "text": [
            "<ipython-input-3-042c8d583e11>:2: FutureWarning: elementwise comparison failed; returning scalar instead, but in the future will perform elementwise comparison\n",
            "  if C_weights == 'default':\n"
          ]
        },
        {
          "name": "stdout",
          "output_type": "stream",
          "text": [
            "Got degenrate solution - cnt 2\n",
            "Got degenrate solution - cnt 3\n",
            "Got degenrate solution - cnt 4\n",
            "Got degenrate solution - cnt 5\n",
            "Not degenerate solution\n",
            "\n",
            "C1 [1, 3, 6, 7, 9, 10, 11, 15, 16, 17, 18, 21, 22, 24, 25, 26, 27, 28, 29, 30, 33, 35, 36, 38, 39, 40, 41, 42, 43, 45, 47, 48, 49, 50, 51, 52, 53, 54, 56, 57, 58, 60, 62, 63, 64, 65, 67, 68, 70, 71, 72, 76, 77, 79, 80, 82, 83, 90, 91, 93, 94, 96, 97, 99, 100, 102, 105, 107, 108, 109, 110] \n",
            "C2 [86, 87, 88] \n",
            "C3 [] \n",
            "C4 [0, 2, 4, 5, 8, 12, 13, 14, 19, 20, 23, 31, 32, 34, 37, 44, 46, 55, 59, 61, 66, 69, 73, 74, 75, 78, 81, 84, 85, 89, 92, 95, 98, 101, 103, 104, 106, 111, 112]\n",
            "B\n",
            "Neuron not linearly separable\n",
            "Got degenrate solution - cnt 1\n",
            "Got degenrate solution - cnt 2\n"
          ]
        },
        {
          "name": "stderr",
          "output_type": "stream",
          "text": [
            "<ipython-input-3-042c8d583e11>:2: FutureWarning: elementwise comparison failed; returning scalar instead, but in the future will perform elementwise comparison\n",
            "  if C_weights == 'default':\n"
          ]
        },
        {
          "name": "stdout",
          "output_type": "stream",
          "text": [
            "Got degenrate solution - cnt 3\n",
            "Got degenrate solution - cnt 4\n",
            "Got degenrate solution - cnt 5\n",
            "Got degenrate solution - cnt 6\n",
            "Not degenerate solution\n",
            "\n",
            "C1 [0, 1, 2] \n",
            "C2 [3, 12, 13, 15, 19, 22, 23, 24, 26, 28, 31, 35, 38, 41] \n",
            "C3 [4, 5, 6, 7, 8, 9, 10, 11, 14, 16, 17, 18, 20, 21, 25, 27, 29, 30, 32, 33, 34, 36, 37, 39, 40] \n",
            "C4 []\n",
            "A\n",
            "Neuron not linearly separable\n",
            "Got degenrate solution - cnt 1\n",
            "Got degenrate solution - cnt 2\n"
          ]
        },
        {
          "name": "stderr",
          "output_type": "stream",
          "text": [
            "<ipython-input-3-042c8d583e11>:2: FutureWarning: elementwise comparison failed; returning scalar instead, but in the future will perform elementwise comparison\n",
            "  if C_weights == 'default':\n"
          ]
        },
        {
          "name": "stdout",
          "output_type": "stream",
          "text": [
            "Got degenrate solution - cnt 3\n",
            "Got degenrate solution - cnt 4\n",
            "Got degenrate solution - cnt 5\n",
            "Not degenerate solution\n",
            "\n",
            "C1 [0, 1, 2] \n",
            "C2 [3, 5, 6, 7, 8, 9, 11, 12, 15, 16, 20, 23] \n",
            "C3 [4, 10, 13, 14, 17, 18, 19, 21, 22, 24, 25, 26, 27] \n",
            "C4 []\n",
            "A\n",
            "Neuron linearly separable\n",
            "B\n",
            "Neuron not linearly separable\n",
            "Got degenrate solution - cnt 1\n",
            "Got degenrate solution - cnt 2\n"
          ]
        },
        {
          "name": "stderr",
          "output_type": "stream",
          "text": [
            "<ipython-input-3-042c8d583e11>:2: FutureWarning: elementwise comparison failed; returning scalar instead, but in the future will perform elementwise comparison\n",
            "  if C_weights == 'default':\n"
          ]
        },
        {
          "name": "stdout",
          "output_type": "stream",
          "text": [
            "Got degenrate solution - cnt 3\n",
            "Got degenrate solution - cnt 4\n",
            "Got degenrate solution - cnt 5\n",
            "Not degenerate solution\n",
            "\n",
            "C1 [0, 1, 2, 3, 4] \n",
            "C2 [5, 8, 13, 15, 16, 17, 18, 19, 23, 24, 25, 26, 27, 28] \n",
            "C3 [6, 7, 9, 10, 11, 12, 14, 20, 21, 22] \n",
            "C4 []\n",
            "A\n",
            "Neuron linearly separable\n",
            "B\n",
            "Neuron not linearly separable\n",
            "Got degenrate solution - cnt 1\n",
            "Got degenrate solution - cnt 2\n"
          ]
        },
        {
          "name": "stderr",
          "output_type": "stream",
          "text": [
            "<ipython-input-3-042c8d583e11>:2: FutureWarning: elementwise comparison failed; returning scalar instead, but in the future will perform elementwise comparison\n",
            "  if C_weights == 'default':\n"
          ]
        },
        {
          "name": "stdout",
          "output_type": "stream",
          "text": [
            "Got degenrate solution - cnt 3\n",
            "Not degenerate solution\n",
            "\n",
            "C1 [6, 7, 9] \n",
            "C2 [11, 13, 14, 15, 16, 17, 18, 19, 20, 21, 23, 24, 25, 26, 27, 28, 29, 31, 32, 33, 34] \n",
            "C3 [12, 22, 30] \n",
            "C4 [0, 1, 2, 3, 4, 5, 8, 10]\n",
            "A\n",
            "Neuron linearly separable\n",
            "B\n",
            "Neuron not linearly separable\n",
            "Got degenrate solution - cnt 1\n"
          ]
        },
        {
          "name": "stderr",
          "output_type": "stream",
          "text": [
            "<ipython-input-3-042c8d583e11>:2: FutureWarning: elementwise comparison failed; returning scalar instead, but in the future will perform elementwise comparison\n",
            "  if C_weights == 'default':\n"
          ]
        },
        {
          "name": "stdout",
          "output_type": "stream",
          "text": [
            "Got degenrate solution - cnt 2\n",
            "Not degenerate solution\n",
            "\n",
            "C1 [21, 22, 23] \n",
            "C2 [24, 25, 26, 27, 28, 29, 30, 31] \n",
            "C3 [] \n",
            "C4 [0, 1, 2, 3, 4, 5, 6, 7, 8, 9, 10, 11, 12, 13, 14, 15, 16, 17, 18, 19, 20]\n",
            "B\n",
            "Neuron not linearly separable\n",
            "Got degenrate solution - cnt 1\n"
          ]
        },
        {
          "name": "stderr",
          "output_type": "stream",
          "text": [
            "<ipython-input-3-042c8d583e11>:2: FutureWarning: elementwise comparison failed; returning scalar instead, but in the future will perform elementwise comparison\n",
            "  if C_weights == 'default':\n"
          ]
        },
        {
          "name": "stdout",
          "output_type": "stream",
          "text": [
            "Got degenrate solution - cnt 2\n",
            "Got degenrate solution - cnt 3\n",
            "Got degenrate solution - cnt 4\n",
            "Not degenerate solution\n",
            "\n",
            "C1 [0, 1, 2, 3, 4, 5, 6, 7] \n",
            "C2 [9, 27] \n",
            "C3 [8, 10, 11, 12, 13, 14, 15, 16, 17, 18, 19, 20, 21, 22, 23, 24, 25, 26, 28] \n",
            "C4 []\n",
            "A\n",
            "Neuron not linearly separable\n",
            "Got degenrate solution - cnt 1\n",
            "Got degenrate solution - cnt 2\n"
          ]
        },
        {
          "name": "stderr",
          "output_type": "stream",
          "text": [
            "<ipython-input-3-042c8d583e11>:2: FutureWarning: elementwise comparison failed; returning scalar instead, but in the future will perform elementwise comparison\n",
            "  if C_weights == 'default':\n"
          ]
        },
        {
          "name": "stdout",
          "output_type": "stream",
          "text": [
            "Got degenrate solution - cnt 3\n",
            "Got degenrate solution - cnt 4\n",
            "Got degenrate solution - cnt 5\n",
            "Not degenerate solution\n",
            "\n",
            "C1 [2, 3, 4, 5, 6] \n",
            "C2 [8, 9, 10, 12, 13, 14, 15, 16, 17, 18, 19, 21, 22, 23, 25, 26] \n",
            "C3 [11, 20, 24] \n",
            "C4 [0, 1, 7]\n",
            "A\n",
            "Neuron linearly separable\n",
            "B\n",
            "Neuron not linearly separable\n",
            "Got degenrate solution - cnt 1\n"
          ]
        },
        {
          "name": "stderr",
          "output_type": "stream",
          "text": [
            "<ipython-input-3-042c8d583e11>:2: FutureWarning: elementwise comparison failed; returning scalar instead, but in the future will perform elementwise comparison\n",
            "  if C_weights == 'default':\n"
          ]
        },
        {
          "name": "stdout",
          "output_type": "stream",
          "text": [
            "Got degenrate solution - cnt 2\n",
            "Got degenrate solution - cnt 3\n",
            "Got degenrate solution - cnt 4\n",
            "Got degenrate solution - cnt 5\n",
            "Not degenerate solution\n",
            "\n",
            "C1 [0, 5, 6, 7, 8, 11, 14, 16, 17, 18] \n",
            "C2 [19, 20, 21] \n",
            "C3 [] \n",
            "C4 [1, 2, 3, 4, 9, 10, 12, 13, 15]\n",
            "B\n",
            "Neuron linearly separable\n",
            "###train accuracy###\n",
            "[0.82716049 0.87654321 0.86831276 0.89711934 0.90946502 0.95473251\n",
            " 0.95884774 1.        ]\n",
            "###########\n",
            "@@@test accuracy@@@\n",
            "[0.62962963 0.77777778 0.66666667 0.59259259 0.62962963 0.66666667\n",
            " 0.66666667 0.62962963]\n",
            "@@@@@@@@@@\n",
            "Neuron not linearly separable\n",
            "Not degenerate solution\n",
            "\n",
            "C1 [0, 2, 5, 11, 12, 14, 15, 16, 18, 24, 25, 26, 27, 28, 30, 33, 35, 36, 37, 39, 41, 44, 45, 46, 47, 50, 51, 52, 56, 58, 59, 61, 63, 69, 71, 72, 73, 75, 79, 82, 84, 86, 87, 88, 91, 96, 98, 100, 101, 105, 108, 109, 111, 114, 116, 122, 123, 124, 125, 127, 128, 130, 131, 135, 137, 138, 139, 140, 141, 143, 146, 147, 152, 153, 156, 157, 158, 161, 163, 165, 167, 168, 169, 170, 171, 178, 179, 182, 184, 185, 187, 188, 189, 192, 195, 197, 198, 201, 202, 205, 209, 211, 212, 214, 215, 217, 220, 224, 226, 227, 228, 229, 232, 233, 236, 238, 239, 240] \n",
            "C2 [1, 3, 6, 7, 8, 9, 19, 21, 22, 23, 29, 32, 34, 38, 43, 48, 53, 54, 55, 62, 65, 66, 67, 68, 70, 74, 76, 77, 78, 80, 81, 83, 89, 90, 92, 93, 94, 95, 99, 102, 103, 104, 106, 110, 113, 115, 117, 118, 120, 121, 129, 132, 136, 144, 145, 148, 149, 151, 154, 159, 162, 164, 166, 172, 174, 175, 176, 177, 181, 186, 193, 194, 196, 199, 200, 203, 204, 206, 208, 210, 213, 216, 218, 219, 222, 223, 230, 234, 242] \n",
            "C3 [10, 13, 17, 20, 31, 40, 42, 64, 85, 119, 133, 134, 142, 150, 155, 183, 221, 225, 231, 235, 237] \n",
            "C4 [4, 49, 57, 60, 97, 107, 112, 126, 160, 173, 180, 190, 191, 207, 241]\n",
            "A\n",
            "Neuron not linearly separable\n",
            "Got degenrate solution - cnt 1\n"
          ]
        },
        {
          "name": "stderr",
          "output_type": "stream",
          "text": [
            "<ipython-input-3-042c8d583e11>:2: FutureWarning: elementwise comparison failed; returning scalar instead, but in the future will perform elementwise comparison\n",
            "  if C_weights == 'default':\n"
          ]
        },
        {
          "name": "stdout",
          "output_type": "stream",
          "text": [
            "Got degenrate solution - cnt 2\n",
            "Not degenerate solution\n",
            "\n",
            "C1 [0, 1, 2, 3, 5, 6, 7, 8, 9, 10, 11, 12, 13, 14, 15, 16, 17, 18, 20, 21, 23, 24, 25, 26, 27, 30, 31, 32, 34, 35, 36, 37, 38, 39, 40, 41, 42, 43, 44, 46, 47, 48, 50, 51, 52, 54, 55, 56, 57, 58, 59, 60, 61, 62, 63, 64, 65, 66, 67, 68, 69, 70, 71, 72, 73, 74, 79, 80, 81, 82, 83, 84, 85, 86, 88, 89, 90, 91, 92, 93, 94, 95, 96, 97, 98, 100, 102, 104, 106, 107, 108, 109, 110, 111, 113, 114, 115, 116, 117, 141, 145, 150] \n",
            "C2 [119, 121, 126, 131, 133, 134, 135, 136, 137] \n",
            "C3 [118, 120, 122, 123, 124, 125, 127, 128, 129, 130, 132, 138] \n",
            "C4 [4, 19, 22, 28, 29, 33, 45, 49, 53, 75, 76, 77, 78, 87, 99, 101, 103, 105, 112, 139, 140, 142, 143, 144, 146, 147, 148, 149, 151, 152, 153]\n",
            "A\n",
            "Neuron not linearly separable\n",
            "Got degenrate solution - cnt 1\n"
          ]
        },
        {
          "name": "stderr",
          "output_type": "stream",
          "text": [
            "<ipython-input-3-042c8d583e11>:2: FutureWarning: elementwise comparison failed; returning scalar instead, but in the future will perform elementwise comparison\n",
            "  if C_weights == 'default':\n"
          ]
        },
        {
          "name": "stdout",
          "output_type": "stream",
          "text": [
            "Got degenrate solution - cnt 2\n",
            "Got degenrate solution - cnt 3\n",
            "Not degenerate solution\n",
            "\n",
            "C1 [0, 2, 3, 4, 7, 8, 10, 11, 12, 13, 14, 15, 16, 18, 20, 21, 22, 23, 24, 25, 26, 28, 29, 30, 31, 33, 34, 35, 36, 37, 38, 39, 40, 41, 43, 44, 47, 48, 49, 50, 51, 52, 53, 54, 55, 57, 61, 62, 63, 65, 68, 69, 70, 71, 73, 74, 75, 76, 77, 78, 79, 80, 81, 83, 84, 85, 86, 87, 88, 89, 90, 91, 92, 94, 95, 96, 97, 98, 114, 116, 117, 118, 120, 121, 122, 124, 126, 127, 128, 129, 130, 131, 132, 133, 137, 144] \n",
            "C2 [103, 104, 105, 109, 110, 111, 113] \n",
            "C3 [102, 106, 107, 108, 112] \n",
            "C4 [1, 5, 6, 9, 17, 19, 27, 32, 42, 45, 46, 56, 58, 59, 60, 64, 66, 67, 72, 82, 93, 99, 100, 101, 115, 119, 123, 125, 134, 135, 136, 138, 139, 140, 141, 142, 143]\n",
            "A\n",
            "Neuron linearly separable\n",
            "B\n",
            "Neuron not linearly separable\n",
            "Got degenrate solution - cnt 1\n",
            "Not degenerate solution\n",
            "\n",
            "C1 [3, 4, 6, 7, 8, 9, 10, 11] \n",
            "C2 [12, 14, 15, 16, 17, 19, 21, 22, 23, 24, 25, 26, 27, 28, 29, 30, 32, 33, 34, 35, 36, 37, 38, 39, 40, 42, 43, 44, 45, 46, 47, 48] \n",
            "C3 [13, 18, 20, 31, 41] \n",
            "C4 [0, 1, 2, 5]\n",
            "A\n"
          ]
        },
        {
          "name": "stderr",
          "output_type": "stream",
          "text": [
            "<ipython-input-3-042c8d583e11>:2: FutureWarning: elementwise comparison failed; returning scalar instead, but in the future will perform elementwise comparison\n",
            "  if C_weights == 'default':\n"
          ]
        },
        {
          "name": "stdout",
          "output_type": "stream",
          "text": [
            "Neuron linearly separable\n",
            "B\n",
            "Neuron linearly separable\n",
            "B\n",
            "Neuron not linearly separable\n",
            "Not degenerate solution\n",
            "\n",
            "C1 [2, 4, 9, 10, 11, 12, 13, 14, 16, 17, 18, 20] \n",
            "C2 [21, 22, 24, 25, 26, 28, 29, 30, 31, 32, 33, 34, 35, 36, 37, 38, 39, 40, 41, 42, 43, 44, 45, 46, 47, 48, 49, 50, 51] \n",
            "C3 [23, 27] \n",
            "C4 [0, 1, 3, 5, 6, 7, 8, 15, 19]\n",
            "A\n",
            "Neuron linearly separable\n",
            "B\n",
            "Neuron not linearly separable\n",
            "Got degenrate solution - cnt 1\n",
            "Not degenerate solution\n",
            "\n",
            "C1 [0, 1, 3, 4, 5, 6, 7, 8, 9, 10, 11, 12, 13, 14, 15, 16, 17, 18, 19, 20, 21, 22, 23, 24, 25, 26, 27, 28, 29, 30] \n",
            "C2 [32, 33, 34, 35, 37, 38, 39] \n",
            "C3 [31, 36] \n",
            "C4 [2]\n",
            "A\n"
          ]
        },
        {
          "name": "stderr",
          "output_type": "stream",
          "text": [
            "<ipython-input-3-042c8d583e11>:2: FutureWarning: elementwise comparison failed; returning scalar instead, but in the future will perform elementwise comparison\n",
            "  if C_weights == 'default':\n"
          ]
        },
        {
          "name": "stdout",
          "output_type": "stream",
          "text": [
            "Neuron linearly separable\n",
            "B\n",
            "Neuron linearly separable\n",
            "B\n",
            "Neuron not linearly separable\n",
            "Got degenrate solution - cnt 1\n"
          ]
        },
        {
          "name": "stderr",
          "output_type": "stream",
          "text": [
            "<ipython-input-3-042c8d583e11>:2: FutureWarning: elementwise comparison failed; returning scalar instead, but in the future will perform elementwise comparison\n",
            "  if C_weights == 'default':\n"
          ]
        },
        {
          "name": "stdout",
          "output_type": "stream",
          "text": [
            "Got degenrate solution - cnt 2\n",
            "Not degenerate solution\n",
            "\n",
            "C1 [2, 3, 4, 5, 6, 7, 8, 9, 10, 12, 13, 14, 15, 16, 18, 19, 20, 21, 23, 25, 26, 27, 29, 30, 31, 32, 33, 34, 36, 37, 38, 39, 40, 41, 42, 43, 44, 46, 47, 48, 49, 50, 51, 52, 53, 54, 55, 56, 58, 59, 60, 62, 63, 64, 65, 66, 67, 69, 70, 71, 72, 73, 74, 75, 77, 78, 79, 80, 81, 82, 83, 84, 86, 87, 88, 89, 93, 94, 96, 97, 100, 106] \n",
            "C2 [111, 112, 113, 114, 116, 119, 120, 121, 122, 123, 124] \n",
            "C3 [110, 115, 117, 118] \n",
            "C4 [0, 1, 11, 17, 22, 24, 28, 35, 45, 57, 61, 68, 76, 85, 90, 91, 92, 95, 98, 99, 101, 102, 103, 104, 105, 107, 108, 109]\n",
            "A\n",
            "Neuron not linearly separable\n",
            "Got degenrate solution - cnt 1\n"
          ]
        },
        {
          "name": "stderr",
          "output_type": "stream",
          "text": [
            "<ipython-input-3-042c8d583e11>:2: FutureWarning: elementwise comparison failed; returning scalar instead, but in the future will perform elementwise comparison\n",
            "  if C_weights == 'default':\n"
          ]
        },
        {
          "name": "stdout",
          "output_type": "stream",
          "text": [
            "Got degenrate solution - cnt 2\n",
            "Not degenerate solution\n",
            "\n",
            "C1 [0, 1, 2, 3, 4, 5, 6, 7, 8, 9, 10, 11, 12, 13, 14, 15, 16, 17, 18, 19, 20, 21, 22, 23, 24, 25, 26, 27, 28, 29, 30, 31, 32, 33, 34, 35, 36, 37, 38, 39, 41, 42, 43, 44, 45, 47, 48, 49, 50, 51, 52, 53, 54, 55, 56, 57, 58, 59, 60, 61, 62, 63, 64, 65, 66, 67, 68, 69, 70, 71, 72, 73, 74, 75, 76, 77, 78, 79, 80, 81, 86, 87, 88, 89, 91, 92, 93, 94, 95, 96, 97, 98, 99, 100, 101, 102, 103, 104, 105, 106, 107, 108, 109, 110, 111, 112, 113] \n",
            "C2 [82, 85] \n",
            "C3 [83, 84] \n",
            "C4 [40, 46, 90]\n",
            "A\n",
            "Neuron not linearly separable\n",
            "Got degenrate solution - cnt 1\n"
          ]
        },
        {
          "name": "stderr",
          "output_type": "stream",
          "text": [
            "<ipython-input-3-042c8d583e11>:2: FutureWarning: elementwise comparison failed; returning scalar instead, but in the future will perform elementwise comparison\n",
            "  if C_weights == 'default':\n"
          ]
        },
        {
          "name": "stdout",
          "output_type": "stream",
          "text": [
            "Got degenrate solution - cnt 2\n",
            "Got degenrate solution - cnt 3\n",
            "Not degenerate solution\n",
            "\n",
            "C1 [0, 1, 2, 3, 4, 5, 6, 7, 8, 9, 10, 11, 12, 13, 14, 15, 16, 17, 18, 19, 20, 21, 23, 24, 25, 26, 27, 28, 29, 30, 31, 32, 33, 34, 35, 36, 37, 38, 39, 40, 41, 42, 43, 44, 45, 46, 47, 48, 49, 50, 51, 52, 53, 54, 55, 56, 57, 58, 59, 60, 61, 62, 64, 65, 66, 67, 68, 69, 70, 71, 72, 73, 74, 75, 78, 79, 80, 81, 82, 83, 84, 85, 86, 87, 88, 89, 90, 91, 92, 93, 94, 95, 96, 97, 98, 99, 101, 102, 103, 105, 106, 110] \n",
            "C2 [107, 108] \n",
            "C3 [] \n",
            "C4 [22, 63, 76, 77, 100, 104, 109, 111]\n",
            "B\n",
            "Neuron linearly separable\n",
            "B\n",
            "Neuron linearly separable\n",
            "B\n",
            "Neuron not linearly separable\n",
            "Not degenerate solution\n",
            "\n",
            "C1 [0, 1, 4, 6, 7, 11, 13, 14] \n",
            "C2 [15, 16, 17, 19, 20, 21, 22, 23, 24, 27, 28, 29, 30, 31, 32, 33, 34, 35, 36, 37, 38, 39, 40, 41, 42] \n",
            "C3 [18, 25, 26] \n",
            "C4 [2, 3, 5, 8, 9, 10, 12]\n",
            "A\n",
            "Neuron linearly separable\n",
            "B\n",
            "Neuron not linearly separable\n",
            "Got degenrate solution - cnt 1\n"
          ]
        },
        {
          "name": "stderr",
          "output_type": "stream",
          "text": [
            "<ipython-input-3-042c8d583e11>:2: FutureWarning: elementwise comparison failed; returning scalar instead, but in the future will perform elementwise comparison\n",
            "  if C_weights == 'default':\n"
          ]
        },
        {
          "name": "stdout",
          "output_type": "stream",
          "text": [
            "Not degenerate solution\n",
            "\n",
            "C1 [0, 1, 2, 3, 4, 5, 6, 7, 8, 9, 10, 11, 12, 13, 14, 15, 16, 17, 18, 19, 21, 22, 23, 24, 25, 26, 27] \n",
            "C2 [28] \n",
            "C3 [29, 30, 31, 32, 33, 34] \n",
            "C4 [20]\n",
            "A\n",
            "Neuron not linearly separable\n"
          ]
        },
        {
          "name": "stderr",
          "output_type": "stream",
          "text": [
            "<ipython-input-3-042c8d583e11>:2: FutureWarning: elementwise comparison failed; returning scalar instead, but in the future will perform elementwise comparison\n",
            "  if C_weights == 'default':\n"
          ]
        },
        {
          "name": "stdout",
          "output_type": "stream",
          "text": [
            "Got degenrate solution - cnt 1\n",
            "Got degenrate solution - cnt 2\n",
            "Not degenerate solution\n",
            "\n",
            "C1 [0, 3, 4, 6, 8, 9, 12, 13, 14, 15, 16, 17, 18, 19, 20, 22, 23, 24, 25, 26] \n",
            "C2 [27, 28, 29, 30, 31, 32] \n",
            "C3 [] \n",
            "C4 [1, 2, 5, 7, 10, 11, 21, 33]\n",
            "B\n",
            "Neuron linearly separable\n",
            "B\n",
            "Neuron linearly separable\n",
            "###train accuracy###\n",
            "[0.86419753 0.82716049 0.84773663 0.93004115 0.96707819 1.        ]\n",
            "###########\n",
            "@@@test accuracy@@@\n",
            "[0.77777778 0.74074074 0.66666667 0.7037037  0.7037037  0.7037037 ]\n",
            "@@@@@@@@@@\n",
            "Neuron not linearly separable\n",
            "Not degenerate solution\n",
            "\n",
            "C1 [0, 2, 5, 11, 12, 14, 15, 16, 18, 24, 25, 26, 27, 28, 30, 33, 35, 36, 37, 39, 41, 44, 45, 46, 47, 50, 51, 52, 56, 58, 59, 61, 63, 69, 71, 72, 73, 75, 79, 82, 84, 86, 87, 88, 91, 96, 98, 100, 101, 105, 108, 109, 111, 114, 116, 122, 123, 124, 125, 127, 128, 130, 131, 135, 137, 138, 139, 140, 141, 143, 146, 147, 152, 153, 156, 157, 158, 161, 163, 165, 167, 168, 169, 170, 171, 178, 179, 182, 184, 185, 187, 188, 189, 192, 195, 197, 198, 201, 202, 205, 209, 211, 212, 214, 215, 217, 220, 224, 226, 227, 228, 229, 232, 233, 236, 238, 239, 240] \n",
            "C2 [1, 3, 6, 7, 8, 9, 19, 21, 22, 23, 29, 32, 34, 38, 43, 48, 53, 54, 55, 62, 65, 66, 67, 68, 70, 74, 76, 77, 78, 80, 81, 83, 89, 90, 92, 93, 94, 95, 99, 102, 103, 104, 106, 110, 113, 115, 117, 118, 120, 121, 129, 132, 136, 144, 145, 148, 149, 151, 154, 159, 162, 164, 166, 172, 174, 175, 176, 177, 181, 186, 193, 194, 196, 199, 200, 203, 204, 206, 208, 210, 213, 216, 218, 219, 222, 223, 230, 234, 242] \n",
            "C3 [10, 13, 17, 20, 31, 40, 42, 64, 85, 119, 133, 134, 142, 150, 155, 183, 221, 225, 231, 235, 237] \n",
            "C4 [4, 49, 57, 60, 97, 107, 112, 126, 160, 173, 180, 190, 191, 207, 241]\n",
            "A\n",
            "Neuron not linearly separable\n",
            "Got degenrate solution - cnt 1\n"
          ]
        },
        {
          "name": "stderr",
          "output_type": "stream",
          "text": [
            "<ipython-input-3-042c8d583e11>:2: FutureWarning: elementwise comparison failed; returning scalar instead, but in the future will perform elementwise comparison\n",
            "  if C_weights == 'default':\n"
          ]
        },
        {
          "name": "stdout",
          "output_type": "stream",
          "text": [
            "Got degenrate solution - cnt 2\n",
            "Not degenerate solution\n",
            "\n",
            "C1 [0, 1, 2, 3, 5, 6, 7, 8, 9, 10, 11, 12, 13, 14, 15, 16, 17, 18, 20, 21, 23, 24, 25, 26, 27, 30, 31, 32, 34, 35, 36, 37, 38, 39, 40, 41, 42, 43, 44, 46, 47, 48, 50, 51, 52, 54, 55, 56, 57, 58, 59, 60, 61, 62, 63, 64, 66, 67, 68, 69, 70, 71, 72, 73, 74, 79, 80, 81, 82, 83, 84, 85, 86, 88, 89, 90, 91, 92, 93, 94, 95, 96, 97, 98, 100, 102, 104, 106, 107, 108, 109, 110, 111, 113, 114, 115, 116, 117, 141, 145, 150] \n",
            "C2 [119, 121, 126, 131, 133, 134, 135, 136, 137] \n",
            "C3 [118, 120, 122, 123, 124, 125, 127, 128, 129, 130, 132, 138] \n",
            "C4 [4, 19, 22, 28, 29, 33, 45, 49, 53, 65, 75, 76, 77, 78, 87, 99, 101, 103, 105, 112, 139, 140, 142, 143, 144, 146, 147, 148, 149, 151, 152, 153]\n",
            "A\n",
            "Neuron not linearly separable\n",
            "Got degenrate solution - cnt 1\n"
          ]
        },
        {
          "name": "stderr",
          "output_type": "stream",
          "text": [
            "<ipython-input-3-042c8d583e11>:2: FutureWarning: elementwise comparison failed; returning scalar instead, but in the future will perform elementwise comparison\n",
            "  if C_weights == 'default':\n"
          ]
        },
        {
          "name": "stdout",
          "output_type": "stream",
          "text": [
            "Got degenrate solution - cnt 2\n",
            "Got degenrate solution - cnt 3\n",
            "Not degenerate solution\n",
            "\n",
            "C1 [0, 2, 3, 4, 7, 8, 10, 11, 12, 13, 14, 15, 16, 18, 20, 21, 22, 23, 24, 25, 26, 28, 29, 30, 31, 33, 34, 35, 36, 37, 38, 39, 40, 41, 43, 44, 47, 48, 49, 50, 51, 52, 53, 54, 55, 56, 60, 61, 62, 64, 67, 68, 69, 70, 72, 73, 74, 75, 76, 77, 78, 79, 80, 82, 83, 84, 85, 86, 87, 88, 89, 90, 91, 93, 94, 95, 96, 97, 113, 115, 116, 119, 120, 121, 124, 126, 127, 128, 129, 130, 131, 132, 133, 137, 144] \n",
            "C2 [102, 103, 104, 108, 109, 110, 112] \n",
            "C3 [101, 105, 106, 107, 111] \n",
            "C4 [1, 5, 6, 9, 17, 19, 27, 32, 42, 45, 46, 57, 58, 59, 63, 65, 66, 71, 81, 92, 98, 99, 100, 114, 117, 118, 122, 123, 125, 134, 135, 136, 138, 139, 140, 141, 142, 143]\n",
            "A\n",
            "Neuron linearly separable\n",
            "B\n",
            "Neuron not linearly separable\n",
            "Not degenerate solution\n",
            "\n",
            "C1 [4, 8, 9, 10, 11] \n",
            "C2 [12, 13, 15, 16, 17, 18, 19, 20, 21, 22, 23, 24, 25, 26, 27, 28, 29, 30, 31, 32, 33, 34, 35, 36, 37, 38, 39, 40, 41, 42, 43, 44, 45, 46, 47, 48, 49] \n",
            "C3 [14] \n",
            "C4 [0, 1, 2, 3, 5, 6, 7]\n",
            "A\n",
            "Neuron linearly separable\n",
            "B\n",
            "Neuron not linearly separable\n",
            "Got degenrate solution - cnt 1\n"
          ]
        },
        {
          "name": "stderr",
          "output_type": "stream",
          "text": [
            "<ipython-input-3-042c8d583e11>:2: FutureWarning: elementwise comparison failed; returning scalar instead, but in the future will perform elementwise comparison\n",
            "  if C_weights == 'default':\n"
          ]
        },
        {
          "name": "stdout",
          "output_type": "stream",
          "text": [
            "Not degenerate solution\n",
            "\n",
            "C1 [0, 1, 2, 4, 5, 6, 7, 8, 9, 10, 11, 13, 14, 15, 18, 19, 20, 21, 22, 23, 24, 25, 26, 27, 28, 29, 30, 32, 33, 34, 35, 36, 37] \n",
            "C2 [40, 41, 42, 43] \n",
            "C3 [38, 39, 44] \n",
            "C4 [3, 12, 16, 17, 31]\n",
            "A\n",
            "Neuron linearly separable\n",
            "B\n",
            "Neuron linearly separable\n",
            "B\n",
            "Neuron not linearly separable\n",
            "Not degenerate solution\n",
            "\n",
            "C1 [2, 4, 9, 10, 11, 12, 13, 14, 16, 17, 18, 19, 20] \n",
            "C2 [21, 22, 24, 25, 26, 27, 29, 30, 31, 32, 33, 34, 35, 36, 37, 38, 39, 40, 41, 42, 43, 44, 45, 46, 47, 48, 49, 50, 51] \n",
            "C3 [23, 28, 52] \n",
            "C4 [0, 1, 3, 5, 6, 7, 8, 15]\n",
            "A\n",
            "Neuron linearly separable\n",
            "B\n",
            "Neuron not linearly separable\n",
            "Not degenerate solution\n",
            "\n",
            "C1 [0, 1, 3, 4, 5, 6, 7, 8, 9, 10, 11, 12, 13, 14, 15, 16, 17, 18, 19, 20, 21, 22, 23, 24, 25, 26, 27, 28, 29, 30, 31] \n",
            "C2 [33, 34, 35, 38, 39] \n",
            "C3 [32, 36, 37] \n",
            "C4 [2]\n",
            "A\n",
            "Neuron linearly separable\n",
            "B\n",
            "Neuron linearly separable\n",
            "B\n",
            "Neuron not linearly separable\n",
            "Got degenrate solution - cnt 1\n"
          ]
        },
        {
          "name": "stderr",
          "output_type": "stream",
          "text": [
            "<ipython-input-3-042c8d583e11>:2: FutureWarning: elementwise comparison failed; returning scalar instead, but in the future will perform elementwise comparison\n",
            "  if C_weights == 'default':\n"
          ]
        },
        {
          "name": "stdout",
          "output_type": "stream",
          "text": [
            "Got degenrate solution - cnt 2\n",
            "Not degenerate solution\n",
            "\n",
            "C1 [2, 3, 4, 5, 6, 7, 8, 9, 10, 12, 13, 14, 15, 16, 18, 19, 20, 21, 23, 25, 26, 27, 29, 30, 31, 32, 33, 34, 36, 37, 38, 39, 40, 41, 42, 43, 44, 46, 47, 48, 49, 50, 51, 52, 53, 54, 55, 56, 58, 59, 60, 62, 63, 64, 65, 66, 67, 69, 70, 71, 72, 73, 74, 75, 77, 78, 79, 80, 81, 82, 83, 84, 86, 87, 88, 89, 93, 94, 96, 97, 100, 106, 107] \n",
            "C2 [112, 113, 114, 116, 119, 120, 121, 122, 123, 124] \n",
            "C3 [110, 111, 115, 117, 118] \n",
            "C4 [0, 1, 11, 17, 22, 24, 28, 35, 45, 57, 61, 68, 76, 85, 90, 91, 92, 95, 98, 99, 101, 102, 103, 104, 105, 108, 109]\n",
            "A\n",
            "Neuron not linearly separable\n",
            "Got degenrate solution - cnt 1\n"
          ]
        },
        {
          "name": "stderr",
          "output_type": "stream",
          "text": [
            "<ipython-input-3-042c8d583e11>:2: FutureWarning: elementwise comparison failed; returning scalar instead, but in the future will perform elementwise comparison\n",
            "  if C_weights == 'default':\n"
          ]
        },
        {
          "name": "stdout",
          "output_type": "stream",
          "text": [
            "Got degenrate solution - cnt 2\n",
            "Not degenerate solution\n",
            "\n",
            "C1 [0, 1, 2, 3, 4, 5, 6, 7, 8, 9, 10, 11, 12, 13, 14, 15, 16, 17, 18, 19, 20, 21, 22, 23, 24, 25, 26, 27, 28, 29, 30, 31, 32, 33, 34, 35, 36, 37, 38, 39, 41, 42, 43, 44, 45, 46, 47, 48, 49, 50, 51, 52, 53, 54, 55, 56, 57, 58, 59, 60, 61, 62, 63, 64, 65, 66, 67, 68, 69, 70, 71, 72, 73, 74, 75, 76, 77, 78, 79, 80, 81, 82, 88, 89, 90, 91, 92, 93, 94, 95, 96, 97, 98, 99, 100, 101, 102, 103, 104, 105, 106, 107, 108, 109, 110, 111, 112, 113, 114] \n",
            "C2 [83] \n",
            "C3 [84, 85, 86, 87] \n",
            "C4 [40]\n",
            "A\n",
            "Neuron not linearly separable\n",
            "Got degenrate solution - cnt 1\n"
          ]
        },
        {
          "name": "stderr",
          "output_type": "stream",
          "text": [
            "<ipython-input-3-042c8d583e11>:2: FutureWarning: elementwise comparison failed; returning scalar instead, but in the future will perform elementwise comparison\n",
            "  if C_weights == 'default':\n"
          ]
        },
        {
          "name": "stdout",
          "output_type": "stream",
          "text": [
            "Got degenrate solution - cnt 2\n",
            "Got degenrate solution - cnt 3\n",
            "Not degenerate solution\n",
            "\n",
            "C1 [0, 1, 2, 3, 4, 5, 6, 7, 8, 9, 10, 12, 13, 14, 15, 16, 17, 18, 19, 20, 21, 22, 23, 24, 26, 27, 28, 29, 30, 32, 33, 34, 35, 36, 37, 38, 39, 40, 41, 42, 43, 44, 46, 47, 48, 49, 50, 51, 52, 53, 54, 55, 56, 57, 58, 59, 60, 62, 63, 65, 66, 67, 68, 70, 71, 72, 73, 74, 75, 76, 78, 79, 81, 82, 83, 84, 85, 88, 89, 90, 91, 92, 93, 94, 95, 96, 101, 102, 105, 107, 108] \n",
            "C2 [109, 111, 112] \n",
            "C3 [110] \n",
            "C4 [11, 25, 31, 45, 61, 64, 69, 77, 80, 86, 87, 97, 98, 99, 100, 103, 104, 106, 113]\n",
            "A\n",
            "Neuron linearly separable\n",
            "B\n",
            "Neuron not linearly separable\n",
            "Got degenrate solution - cnt 1\n",
            "Not degenerate solution\n",
            "\n",
            "C1 [1] \n",
            "C2 [4, 5, 6, 8, 9, 10, 11, 12, 13, 14, 15, 16, 18, 19, 20, 21, 22] \n",
            "C3 [7, 17] \n",
            "C4 [0, 2, 3]\n",
            "A\n"
          ]
        },
        {
          "name": "stderr",
          "output_type": "stream",
          "text": [
            "<ipython-input-3-042c8d583e11>:2: FutureWarning: elementwise comparison failed; returning scalar instead, but in the future will perform elementwise comparison\n",
            "  if C_weights == 'default':\n"
          ]
        },
        {
          "name": "stdout",
          "output_type": "stream",
          "text": [
            "Neuron linearly separable\n",
            "B\n",
            "Neuron linearly separable\n",
            "B\n",
            "Neuron linearly separable\n",
            "B\n",
            "Neuron not linearly separable\n",
            "Not degenerate solution\n",
            "\n",
            "C1 [3, 5, 6, 10, 11, 12, 13, 14] \n",
            "C2 [15, 16, 19, 20, 21, 22, 23, 24, 25, 27, 28, 29, 30, 31, 32, 33, 34, 35, 36, 37, 38, 39, 40, 41] \n",
            "C3 [17, 18, 26] \n",
            "C4 [0, 1, 2, 4, 7, 8, 9]\n",
            "A\n",
            "Neuron linearly separable\n",
            "B\n",
            "Neuron not linearly separable\n",
            "Not degenerate solution\n",
            "\n",
            "C1 [0, 1, 2, 3, 4, 5, 6, 7, 8, 9, 10, 11, 12, 13, 14, 15, 16, 17, 18, 19, 20, 21, 22, 23, 24, 25, 26] \n",
            "C2 [29] \n",
            "C3 [27, 28, 30, 31, 32, 33] \n",
            "C4 []\n",
            "A\n",
            "Neuron not linearly separable\n",
            "Got degenrate solution - cnt 1\n"
          ]
        },
        {
          "name": "stderr",
          "output_type": "stream",
          "text": [
            "<ipython-input-3-042c8d583e11>:2: FutureWarning: elementwise comparison failed; returning scalar instead, but in the future will perform elementwise comparison\n",
            "  if C_weights == 'default':\n"
          ]
        },
        {
          "name": "stdout",
          "output_type": "stream",
          "text": [
            "Not degenerate solution\n",
            "\n",
            "C1 [0, 1, 2, 3, 4, 5, 6, 7, 8, 9, 10, 11, 12, 13, 14, 15, 16, 17, 18, 19, 21, 22, 23, 25, 26] \n",
            "C2 [28] \n",
            "C3 [27, 29, 30, 31, 32] \n",
            "C4 [20, 24]\n",
            "A\n",
            "Neuron not linearly separable\n",
            "Got degenrate solution - cnt 1\n",
            "Got degenrate solution - cnt 2\n"
          ]
        },
        {
          "name": "stderr",
          "output_type": "stream",
          "text": [
            "<ipython-input-3-042c8d583e11>:2: FutureWarning: elementwise comparison failed; returning scalar instead, but in the future will perform elementwise comparison\n",
            "  if C_weights == 'default':\n"
          ]
        },
        {
          "name": "stdout",
          "output_type": "stream",
          "text": [
            "Not degenerate solution\n",
            "\n",
            "C1 [0, 2, 4, 7, 8, 11, 12, 13, 14, 15, 16, 17, 18, 19, 20, 21, 22, 30] \n",
            "C2 [25, 26, 27, 28, 29] \n",
            "C3 [] \n",
            "C4 [1, 3, 5, 6, 9, 10, 23, 24, 31]\n",
            "B\n",
            "Neuron linearly separable\n",
            "B\n",
            "Neuron linearly separable\n",
            "###train accuracy###\n",
            "[0.87654321 0.79423868 0.83950617 0.9218107  0.95473251 0.97942387\n",
            " 1.        ]\n",
            "###########\n",
            "@@@test accuracy@@@\n",
            "[0.77777778 0.74074074 0.62962963 0.7037037  0.7037037  0.62962963\n",
            " 0.62962963]\n",
            "@@@@@@@@@@\n",
            "SVM..\n"
          ]
        }
      ],
      "source": [
        "##@title\n",
        "import os\n",
        "from scipy.io import loadmat\n",
        "from sklearn.model_selection import GridSearchCV\n",
        "from collections import Counter\n",
        "\n",
        "def transform_data(df):\n",
        "  df[\"y\"] = df[\"class\"].apply(lambda x: 1 if (x==\"present\") else 0)\n",
        "  df.drop(columns = [\"class\"], inplace=True)\n",
        "  return df\n",
        "\n",
        "dftrain = pd.read_csv('data/heart-statlog_csv.csv', header = 0)\n",
        "\n",
        "dftrain = transform_data(dftrain)\n",
        "print(f\"data size = {dftrain.shape}\")\n",
        "Xtrain = dftrain.iloc[:,:-1].to_numpy()\n",
        "\n",
        "ytrain = dftrain.iloc[:,-1].to_numpy()\n",
        "n = Xtrain.shape[0]\n",
        "i = 0\n",
        "k = 1\n",
        "r = int(n/10)\n",
        "sum = 0\n",
        "\n",
        "li = list()\n",
        "li.append(str(Xtrain.shape).replace(',','/')) \n",
        "li.append(str(Counter(ytrain.tolist())).replace(',','/'))\n",
        "names = ['#no', 'data', 'class']\n",
        "svm_test_acc_fold = list()\n",
        "svm_train_acc_fold = list()\n",
        "for C_fixed in [0.01,0.1,1,10]:\n",
        "  try:\n",
        "    test_acc_fold = list()\n",
        "    train_acc_fold = list()\n",
        "    \n",
        "    while(i < k):\n",
        "      Xtra1 = Xtrain[0 : r*i]\n",
        "      Ytra1 = ytrain[0 : r*i]\n",
        "      Xtra2 = Xtrain[r*(i+1) : ]\n",
        "      Ytra2 = ytrain[r*(i+1) : ]\n",
        "      Xtra = np.concatenate((Xtra1, Xtra2), axis=0)\n",
        "      Ytra = np.concatenate((Ytra1, Ytra2), axis=0)\n",
        "      Xtest = Xtrain[r*i : r*(i+1)]\n",
        "      Ytest = ytrain[r*i : r*(i+1)]\n",
        "      fold_no=i\n",
        "      \n",
        "      X_train1,y_train1,X_test1,y_test1 = Xtra,Ytra,Xtest,Ytest\n",
        "      \n",
        "      curr_Neuron = Neuron(X_train1.shape[1])\n",
        "      parent_Neuron = curr_Neuron\n",
        "      classifier(X_train1, y_train1, curr_Neuron, parent_Neuron)\n",
        "      results = parent_Neuron.optimize_bottom_up(X_train1[:,1:],X_train1)\n",
        "      acc = []\n",
        "      depth = 1\n",
        "      depth_max = 5\n",
        "      while(depth < depth_max):\n",
        "          a = parent_Neuron.calculate_till_depth_d(X_train1[:,1:],X_train1,depth,0)\n",
        "          acc = np.concatenate((acc, [accuracy(a, y_train1)]))\n",
        "          if depth == depth_max-1:\n",
        "              if accuracy(a, y_train1) < 1:\n",
        "                  depth_max = depth_max + 1\n",
        "          depth = depth + 1\n",
        "\n",
        "      test_acc = []\n",
        "      test_depth = 1\n",
        "      while(test_depth < depth_max):\n",
        "          a = parent_Neuron.calculate_till_depth_d(X_test1[:,1:],X_test1,test_depth,0)\n",
        "          test_acc = np.concatenate((test_acc, [accuracy(a, y_test1)]))\n",
        "          test_depth = test_depth + 1\n",
        "      print(\"###train accuracy###\")\n",
        "      print(acc)\n",
        "      print(\"###########\")\n",
        "      print(\"@@@test accuracy@@@\")\n",
        "      print(test_acc)\n",
        "      print(\"@@@@@@@@@@\")\n",
        "\n",
        "      #plotting train and test accuracy vs the depth of the tree\n",
        "      plt.figure(figsize=(10,5))\n",
        "      m = acc.shape[0]\n",
        "      xx = np.array(list(range(0,m)))\n",
        "      xx = xx.reshape(m,1)\n",
        "      plt.subplot(1, 2, 1)\n",
        "      plt.plot(xx, acc.reshape(m,1), label = \"Accuracy\")\n",
        "      plt.title('training data')\n",
        "      plt.legend()\n",
        "\n",
        "      mm = test_acc.shape[0]\n",
        "      plt.subplot(1, 2, 2)\n",
        "      plt.plot(xx, test_acc.reshape(mm,1), label = \"Accuracy\")\n",
        "      plt.title('test data')\n",
        "      plt.legend()\n",
        "\n",
        "      plt.savefig('/content/{}_dataset_{}/C_{}_fold_{}.png'.format(dir_name,dataset,C_fixed,i))\n",
        "      plt.show()\n",
        "\n",
        "      train_acc_fold.append(acc[np.where(test_acc==max(test_acc))[0][0]])\n",
        "      test_acc_fold.append(max(test_acc))\n",
        "\n",
        "    li.append(str(np.mean(np.array(train_acc_fold)))+str('±')+str(np.std(np.array(train_acc_fold))))\n",
        "    li.append(str(np.mean(np.array(test_acc_fold)))+str('±')+str(np.std(np.array(test_acc_fold))))\n",
        "\n",
        "    names.extend(['train acc mean±std C = {}'.format(C_fixed)])\n",
        "    names.extend(['test acc mean±std C = {}'.format(C_fixed)])\n",
        "\n",
        "  except:\n",
        "    pass\n",
        "print('SVM..')\n",
        "param_grid = {'C': [0.1, 1, 10, 100, 1000], \n",
        "            'gamma': [1, 0.1, 0.01, 0.001, 0.0001],\n",
        "            'kernel': ['rbf']} \n",
        "while(i < k):\n",
        "  Xtra1 = Xtrain[0 : r*i]\n",
        "  Ytra1 = ytrain[0 : r*i]\n",
        "  Xtra2 = Xtrain[r*(i+1) : ]\n",
        "  Ytra2 = ytrain[r*(i+1) : ]\n",
        "  Xtra = np.concatenate((Xtra1, Xtra2), axis=0)\n",
        "  Ytra = np.concatenate((Ytra1, Ytra2), axis=0)\n",
        "  Xtest = Xtrain[r*i : r*(i+1)]\n",
        "  Ytest = ytrain[r*i : r*(i+1)]\n",
        "  fold_no=i\n",
        "  \n",
        "  X_train1,y_train1,X_test1,y_test1 = Xtra,Ytra,Xtest,Ytest\n",
        "  X_Tr,y_Tr,X_Te,y_Te = Xtra,Ytra,Xtest,Ytest\n",
        "  sc_ = StandardScaler().fit(X_Tr[:,1:])\n",
        "  X_sc = sc_.transform(X_Tr[:,1:])\n",
        "  X_Tr = X_sc\n",
        "  X_sc = sc_.transform(X_Te[:,1:])\n",
        "  X_Te = X_sc\n",
        "\n",
        "  grid = GridSearchCV(SVC(), param_grid, refit = True, verbose = 0)\n",
        "  grid.fit(X_Tr, y_Tr)\n",
        "  grid_predictions_Te = grid.predict(X_Te)\n",
        "  grid_predictions_Tr = grid.predict(X_Tr)\n",
        "\n",
        "  svm_train_acc_fold.append(accuracy_score(grid_predictions_Tr,y_Tr))\n",
        "  svm_test_acc_fold.append(accuracy_score(grid_predictions_Te,y_Te))\n",
        "\n",
        "li.append(str(np.mean(np.array(svm_train_acc_fold)))+str('±')+str(np.std(np.array(svm_train_acc_fold))))\n",
        "li.append(str(np.mean(np.array(svm_test_acc_fold)))+str('±')+str(np.std(np.array(svm_test_acc_fold))))\n",
        "names.extend(['SVM train acc mean±std'])\n",
        "names.extend(['SVM test acc mean±std'])\n",
        "np.savetxt(\"/content/{}_dataset_{}/tree_vs_svm.csv\".format(dir_name,dataset),np.array(li).reshape(1,len(li)),fmt= '%s',delimiter=',',\\\n",
        "        header=','.join(names))\n"
      ]
    },
    {
      "cell_type": "code",
      "execution_count": null,
      "metadata": {},
      "outputs": [],
      "source": []
    }
  ],
  "metadata": {
    "colab": {
      "collapsed_sections": [],
      "name": "Minimal_VC_dimension_Tree.ipynb",
      "provenance": []
    },
    "kernelspec": {
      "display_name": "Python 3",
      "name": "python3"
    },
    "language_info": {
      "codemirror_mode": {
        "name": "ipython",
        "version": 3
      },
      "file_extension": ".py",
      "mimetype": "text/x-python",
      "name": "python",
      "nbconvert_exporter": "python",
      "pygments_lexer": "ipython3",
      "version": "3.8.2"
    }
  },
  "nbformat": 4,
  "nbformat_minor": 0
}
