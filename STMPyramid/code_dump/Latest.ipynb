{
  "cells": [
    {
      "cell_type": "code",
      "execution_count": null,
      "metadata": {
        "colab": {
          "base_uri": "https://localhost:8080/"
        },
        "id": "VAWwfobK6B5N",
        "outputId": "1ee64342-51f7-4460-9f63-2554cf92cc01"
      },
      "outputs": [
        {
          "name": "stdout",
          "output_type": "stream",
          "text": [
            "Requirement already satisfied: mnist in /usr/local/lib/python3.7/dist-packages (0.2.2)\n",
            "Requirement already satisfied: numpy in /usr/local/lib/python3.7/dist-packages (from mnist) (1.19.5)\n"
          ]
        }
      ],
      "source": [
        "!pip install mnist"
      ]
    },
    {
      "cell_type": "code",
      "execution_count": 2,
      "metadata": {
        "id": "WTcGx0QQ55hK"
      },
      "outputs": [],
      "source": [
        "import numpy as np\n",
        "import pandas as pd\n",
        "from scipy.optimize import linprog \n",
        "from sklearn.metrics import accuracy_score\n",
        "import random\n",
        "import sys\n",
        "import matplotlib.pyplot as plt\n",
        "from scipy.io import loadmat\n",
        "from sklearn.model_selection import train_test_split\n",
        "from pprint import pprint\n",
        "from sklearn.svm import SVC\n",
        "import math\n",
        "from sklearn.preprocessing import StandardScaler\n",
        "import cvxpy as cp\n",
        "import sys\n",
        "from random import seed\n",
        "np.random.seed(1)\n",
        "seed(1)\n",
        "import time\n",
        "import numpy as np\n",
        "import scipy as sp\n",
        "import matplotlib.pyplot as plt\n",
        "from scipy.optimize import linprog\n",
        "from sklearn import svm\n",
        "import math\n",
        "import cvxopt\n",
        "import mnist\n",
        "from matplotlib import pyplot as plt\n",
        "\n",
        "import cv2\n",
        "import numpy as np\n",
        "from PIL import Image"
      ]
    },
    {
      "cell_type": "code",
      "execution_count": 3,
      "metadata": {
        "id": "8_hvL5kbmibX"
      },
      "outputs": [],
      "source": [
        "import numpy as np\n",
        "import pandas as pd\n",
        "from scipy.optimize import linprog \n",
        "from sklearn.metrics import accuracy_score\n",
        "import random\n",
        "import sys\n",
        "import matplotlib.pyplot as plt\n",
        "from scipy.io import loadmat\n",
        "from sklearn.model_selection import train_test_split\n",
        "from pprint import pprint\n",
        "from sklearn.svm import SVC\n",
        "import math\n",
        "from sklearn.preprocessing import StandardScaler\n",
        "import cvxpy as cp\n",
        "import sys\n",
        "from random import seed\n",
        "np.random.seed(1)\n",
        "seed(1)\n",
        "import time\n",
        "import numpy as np\n",
        "import scipy as sp\n",
        "import matplotlib.pyplot as plt\n",
        "from scipy.optimize import linprog\n",
        "from sklearn import svm\n",
        "import math\n",
        "import cvxopt\n",
        "import mnist\n",
        "from matplotlib import pyplot as plt\n",
        "import cv2\n",
        "\n",
        "import torch\n",
        "import torch.nn as nn\n",
        "import torch.optim as optim\n",
        "from torch.optim import lr_scheduler\n",
        "import numpy as np\n",
        "import torchvision\n",
        "from torchvision import datasets, models, transforms\n",
        "import matplotlib.pyplot as plt\n",
        "import time\n",
        "import os\n",
        "import torch.nn.functional as F\n",
        "import copy\n",
        "from sklearn.utils import shuffle\n",
        "from torch.utils.data import random_split\n",
        "import pandas as pd\n",
        "from torch.utils.data import Dataset\n",
        "from torch.utils.data import DataLoader"
      ]
    },
    {
      "cell_type": "code",
      "execution_count": 3,
      "metadata": {
        "id": "AifyiYln5663"
      },
      "outputs": [],
      "source": [
        "def centroid(points):\n",
        "    c = np.zeros(points.shape[1:])\n",
        "    for i in range(points.shape[0]):\n",
        "        c = c + points[i]\n",
        "    return c/points.shape[0]\n",
        "\n",
        "\n",
        "def visualise(w,shape):\n",
        "    \n",
        "    wsq=w.copy()\n",
        "    wsq = (wsq - np.min(wsq)) / (np.max(wsq) - np.min(wsq))\n",
        "    wsq=np.reshape(wsq,shape)\n",
        "    plt.imshow(wsq, interpolation='nearest',cmap='gray')\n",
        "    plt.show()\n",
        "\n",
        "\n",
        "def visualise_pos(w,shape):\n",
        "    \n",
        "    wsq=w.copy()\n",
        "    wsq=np.maximum(wsq, 0)\n",
        "    wsq = (wsq - np.min(wsq)) / (np.max(wsq) - np.min(wsq))\n",
        "    wsq=np.reshape(wsq,shape)\n",
        "    plt.imshow(wsq, interpolation='nearest',cmap='gray')\n",
        "    plt.show()\n",
        "\n",
        "def visualise_neg(w,shape):\n",
        "    \n",
        "    wsq=w.copy()\n",
        "    wsq=np.minimum(wsq, 0)\n",
        "    wsq = (wsq - np.min(wsq)) / (np.max(wsq) - np.min(wsq))\n",
        "    wsq=np.reshape(wsq,shape)\n",
        "    plt.imshow(wsq, interpolation='nearest',cmap='gray')\n",
        "    plt.show()\n",
        "    \n",
        "\n",
        "def redoer(image, shape = (20,20), interpolation = cv2.INTER_CUBIC):\n",
        "    assert(len(shape)==2)\n",
        "    new_shape = (shape[1],shape[0])\n",
        "    shape=new_shape\n",
        "    reimage = cv2.resize(image, shape, interpolation=interpolation)\n",
        "    if len(reimage.shape)==3:\n",
        "        reimage = reimage.reshape((reimage.shape[0],reimage.shape[1]*reimage.shape[2]))\n",
        "    return reimage"
      ]
    },
    {
      "cell_type": "code",
      "execution_count": null,
      "metadata": {
        "id": "T1JtRfPm6H_U"
      },
      "outputs": [],
      "source": [
        "def predict(X, w, b):\n",
        "  return np.sign(inner_prod(w, X)+b).reshape(-1,1)\n",
        "def accuracy(a,b):\n",
        "  n=0\n",
        "  for i in range(len(a)):\n",
        "    if(a[i]==b[i]):\n",
        "      n=n+1\n",
        "  return n/len(a)\n",
        "def getHyperPlaneFromTwoPoints(x1, x2):\n",
        "  assert(x1.shape[0]==x2.shape[0])\n",
        "  d = x1.shape[0]\n",
        "  w = (2) * (x2 - x1) / (np.linalg.norm(x1 - x2) ** 2)\n",
        "  #b = - np.dot(w , (0.5 * (x1 + x2)))\n",
        "  b = -1 * inner_prod(w,(0.5 * (x1 + x2)))  \n",
        "  return w, b"
      ]
    },
    {
      "cell_type": "code",
      "execution_count": null,
      "metadata": {
        "id": "JCCfPOtt6JU6"
      },
      "outputs": [],
      "source": [
        "def inner_mat(A, B, M = None):\n",
        "    assert(A.shape==B.shape)\n",
        "    M = A.shape[0] if M is None else M\n",
        "    M = min(M, A.shape[0])\n",
        "    mat = np.ones((M,M))\n",
        "    for i in range(M):\n",
        "        for j in range(M):\n",
        "            xi = A[i]\n",
        "            xj = B[j]\n",
        "            mat[i,j] = np.sum(xi*xj)\n",
        "    return mat\n",
        "def inner_prod_cp(w,x):\n",
        "    return cp.sum(cp.multiply(w,x))\n",
        "def inner_prod(A, B):\n",
        "    if A.shape == B.shape:\n",
        "        return np.sum(A*B)\n",
        "    if A.shape == B.shape[1:]:\n",
        "        ans = []\n",
        "        for b in B:\n",
        "            ans.append(np.sum(A*b))\n",
        "        return ans\n",
        "def solver(X, y, C = 1, method='MCM_STM', r = None, flag = True, xa = None, xb = None, methodw = 'L2', methodq = 'L1'):\n",
        "    method = 'MCM_STM'\n",
        "    y = y.reshape(-1,1)\n",
        "    assert(X.shape[0]==y.shape[0])\n",
        "    if flag==False or len(X.shape)==2:\n",
        "        if method == 'STM' or method == 'SHTM' or method == 'MCM_STM':\n",
        "            w = np.ones(X.shape[1:])\n",
        "            b = np.ones(y.shape[1:])\n",
        "            M = X.shape[0]\n",
        "            if method == 'STM':\n",
        "                H = np.dot(y,y.T)*inner_mat(X,X)*1.0\n",
        "            elif method == 'SHTM':\n",
        "                r = r if r is not None else 1\n",
        "                H = np.dot(y,y.T)*inner_mat(X, X, r, method='SHTM')*1.0\n",
        "            P_ = cvxopt.matrix(H)\n",
        "            q_ = cvxopt.matrix(-np.ones((M,1)))\n",
        "            G_ = cvxopt.matrix(np.vstack((np.eye(M)*-1,np.eye(M))))\n",
        "            h_ = cvxopt.matrix(np.hstack((np.zeros(M), np.ones(M)*C)))\n",
        "            A_ = cvxopt.matrix(y.reshape(1,-1).astype('float'))\n",
        "            b_ = cvxopt.matrix(np.zeros(1)) \n",
        "            sol = cvxopt.solvers.qp(P_, q_, G_, h_, A_, b_, options={'show_progress': False})\n",
        "            alphas = np.array(sol['x'])\n",
        "            w = np.tensordot((y*alphas).T, X, axes = ((1),(0))).reshape(X.shape[1:]) \n",
        "            b = -0.5*(max(inner_prod(w, X[(y==-1).reshape(-1)])) + min(inner_prod(w, X[(y==1).reshape(-1)])))\n",
        "            return w, b\n",
        "    else:\n",
        "        #only works for greyscale right now\n",
        "        xa = xa if xa is not None else np.zeros(X.shape[0])\n",
        "        xb = xb if xb is not None else np.zeros(X.shape[0])\n",
        "        assert(xa is not None)\n",
        "        assert(xb is not None)\n",
        "        assert(len(X.shape)<=3)\n",
        "        if len(X.shape)==3:\n",
        "            if method == 'MCM_STM':\n",
        "                w = cp.Variable(X.shape[1:])\n",
        "                b = cp.Variable((1,1))\n",
        "                wa = cp.Variable((1,1))\n",
        "                wb = cp.Variable((1,1))\n",
        "                qi = cp.Variable(y.shape)\n",
        "                h = cp.Variable((1,1))\n",
        "                if methodq == 'L1':\n",
        "                    term2 = cp.sum(qi)*C\n",
        "                elif methodq == 'L0':\n",
        "                    term2 = 0\n",
        "                    for i in range(y.shape[0]):\n",
        "                        term2 += cp.maximum(0,cp.sign(qi[i]))*C\n",
        "                objfun = cp.Minimize(h + term2)\n",
        "                constraints = []\n",
        "                maxes = np.max(X, axis=0)\n",
        "                mines = np.min(X, axis= 0)\n",
        "                #for i in range(X.shape[1]):\n",
        "                    #for j in range(X.shape[2]):\n",
        "                        #mines[i][j] = -1 * maxes[i][j]\n",
        "                #print(mines)\n",
        "                for i in range(X.shape[1]):\n",
        "                    for j in range(X.shape[2]):\n",
        "                        constraints+=[w[i][j]<=maxes[i][j], mines[i][j]<=w[i][j]]\n",
        "                for i in range(X.shape[0]):\n",
        "                    constraints+=[cp.multiply(y[i],(inner_prod_cp(w,X[i]) + b + cp.multiply(wa,xa[i]) + cp.multiply(wb,xb[i])))+qi[i] >= 1.0, \\\n",
        "                        cp.multiply(y[i],(inner_prod_cp(w,X[i]) + b + cp.multiply(wa,xa[i]) + cp.multiply(wb,xb[i])))+qi[i] <= h, qi[i]>=0]\n",
        "                problem = cp.Problem(objfun,constraints)\n",
        "                problem.solve(verbose=False)\n",
        "                #print(w.value)\n",
        "                return w.value, b.value, wa.value, wb.value\n",
        "            if method == 'STM' or method == 'SHTM':\n",
        "                w = cp.Variable(X.shape[1:])\n",
        "                b = cp.Variable((1,1))\n",
        "                wa = cp.Variable((1,1))\n",
        "                wb = cp.Variable((1,1))\n",
        "                qi = cp.Variable(y.shape)\n",
        "                if methodq == 'L1':\n",
        "                    term2 = cp.sum(qi)*C\n",
        "                elif methodq == 'L0':\n",
        "                    term2 = 0\n",
        "                    for i in range(y.shape[0]):\n",
        "                        term2 += cp.maximum(0,cp.sign(qi[i]))*C\n",
        "                if methodw == 'L2':\n",
        "                    term1 = 1/2*cp.norm2(w)\n",
        "                    term3 = 1/2*(cp.square(wa)+cp.square(wb))\n",
        "                elif methodw == 'L1':\n",
        "                    term1 = cp.norm1(w)\n",
        "                    term3 = cp.abs(wa)+cp.abs(wb)\n",
        "                elif methodw == 'L0':\n",
        "                    term1 = 0\n",
        "                    for i in range(X.shape[1]):\n",
        "                        for j in range(X.shape[2]):\n",
        "                            term1 += cp.maximum(0,cp.sign(w[i][j]))\n",
        "                    term3 = cp.maximum(0,cp.sign(wa))+cp.maximum(0,cp.sign(wb))\n",
        "                objfun = cp.Minimize(term1+term2+term3)\n",
        "                constraints = []\n",
        "                #constraints = y*(inner_prod_cp(w,X) + b + wa*xa + wb*xb) + qi >= 1\n",
        "                #constraints += qi>=0\n",
        "                maxes = np.max(X, axis=0)\n",
        "                mines = np.min(X, axis= 0)\n",
        "                #for i in range(X.shape[1]):\n",
        "                    #for j in range(X.shape[2]):\n",
        "                        #mines[i][j] = 0\n",
        "                for i in range(X.shape[1]):\n",
        "                    for j in range(X.shape[2]):\n",
        "                        constraints+=[w[i][j]<=maxes[i][j], mines[i][j]<=w[i][j]]\n",
        "                for i in range(X.shape[0]):\n",
        "                    constraints+=[cp.multiply(y[i],(inner_prod_cp(w,X[i]) + b + cp.multiply(wa,xa[i]) + cp.multiply(wb,xb[i])))+qi[i]>=1, qi[i]>=0]\n",
        "                problem = cp.Problem(objfun,constraints)\n",
        "                problem.solve()\n",
        "                return w.value, b.value, wa.value, wb.value\n",
        "\n",
        "            \n"
      ]
    },
    {
      "cell_type": "code",
      "execution_count": null,
      "metadata": {
        "id": "POrftBPQ6KQJ"
      },
      "outputs": [],
      "source": [
        "class Node:\n",
        "  def __init__(self,inp_dimensions):\n",
        "    self.weight = np.zeros(inp_dimensions)\n",
        "    self.bias = 0\n",
        "    self.A = None\n",
        "    self.B = None\n",
        "    self.wA = 0\n",
        "    self.wB = 0\n",
        "    self.dim = inp_dimensions\n",
        "    self.C1=[]\n",
        "    self.C2=[]\n",
        "    self.C3=[]\n",
        "    self.C4=[]\n",
        "    self.labels = []\n",
        "    self.X = []\n",
        "    self.height = 0\n",
        "  def insert(self,neuron_type, weight=0, bias=0, w=0):     \n",
        "    if neuron_type == 'A':\n",
        "      self.A = Node(self.dim)\n",
        "      self.A.weight = weight\n",
        "      self.A.bias = bias\n",
        "      self.A.height = self.height+1\n",
        "      return self.A\n",
        "    else:\n",
        "      self.B = Node(self.dim)\n",
        "      self.B.weight = weight\n",
        "      self.B.bias = bias\n",
        "      self.B.height = self.height+1\n",
        "      return self.B\n",
        "  def update_weights_and_bias(self,weight, bias, wA = 0, wB = 0):  \n",
        "    self.weight = weight\n",
        "    self.bias = bias\n",
        "    self.wA = wA\n",
        "    self.wB = wB\n",
        "  def update_classes(self,ypred,ytrue):\n",
        "    ypred=ypred.copy()\n",
        "    ypred=np.reshape(ypred,(ypred.shape[0],1))    \n",
        "    yf  = np.add(2*ypred, ytrue)\n",
        "    self.C1 = np.argwhere(yf>2)[:,0] #1,1              #In order: predicted, true\n",
        "    self.C2 = np.argwhere(yf<-2)[:,0] #-1,-1\n",
        "    self.C3 = np.where((yf<2) & (yf>0))[0]   #1,-1\n",
        "    self.C4 = np.where((yf<0) & (yf>-2))[0] #-1,1\n",
        "  def forward(self, X): \n",
        "    \n",
        "    y=[]\n",
        "    X=X.copy()\n",
        "    w = self.weight \n",
        "    b = self.bias\n",
        "    wA = np.asarray([self.wA]).copy()\n",
        "    wB=np.asarray([self.wB]).copy()\n",
        "\n",
        "    if(self==None):\n",
        "      return [] \n",
        "    if(self.A==None and self.B==None):\n",
        "\n",
        "      y = np.sign(np.array(inner_prod(w, X))+np.array(b)).reshape(-1,1)\n",
        "    if(self.A==None):\n",
        "      xA = np.zeros((X.shape[0],1))\n",
        "    else:\n",
        "      xA = self.A.forward(X)\n",
        "      xA=np.reshape(xA,(xA.shape[0],1))\n",
        "    if(self.B==None):\n",
        "      xB = np.zeros((X.shape[0],1)) \n",
        "    else:\n",
        "      xB = self.B.forward(X)\n",
        "      xB=np.reshape(xB,(xB.shape[0],1))\n",
        "    if(self.A!=None and self.B!=None):\n",
        "\n",
        "      wA = np.asarray([np.asscalar(wA)])\n",
        "      wB = np.asarray([np.asscalar(wB)])\n",
        "\n",
        "      y = np.sign(np.asarray(inner_prod(w, X))+np.asarray(inner_prod(wA, xA))+np.asarray(inner_prod(wB, xB))+np.asarray(b)).reshape(-1,1)\n",
        "    if(self.A!=None and self.B==None):\n",
        "\n",
        "      wA = np.asarray([np.asscalar(wA)])\n",
        "      y = np.sign(np.asarray(inner_prod(w, X))+np.asarray(inner_prod(wA, xA))+np.asarray(b)).reshape(-1,1)\n",
        "    if(self.A==None and self.B!=None):\n",
        "\n",
        "      wB = np.asarray([np.asscalar(wB)])\n",
        "      y = np.sign(np.asarray(inner_prod(w, X))+np.asarray(inner_prod(wB, xB))+np.asarray(b)).reshape(-1,1)\n",
        "\n",
        "    return y\n",
        "    \n",
        "  def fine_tune_weights(self,C, methodw, methodq):\n",
        "    l=self.labels.copy()\n",
        "    X = self.X.copy()\n",
        "    xA = np.zeros((X.shape[0],1))\n",
        "    xB = np.zeros((X.shape[0],1))\n",
        "    if(self==None):\n",
        "      return   \n",
        "    if(self.A!=None):\n",
        "      self.A.fine_tune_weights(C, methodw=methodw, methodq=methodq)  \n",
        "      xA = self.A.forward(X)\n",
        "      xA=np.reshape(xA,(xA.shape[0],1))\n",
        "\n",
        "    if(self.B!=None):\n",
        "      self.B.fine_tune_weights(C, methodw=methodw, methodq=methodq) \n",
        "      xB = self.B.forward(X)\n",
        "      xB=np.reshape(xB,(xB.shape[0],1))\n",
        "    weight, bias, wA, wB = solver(X,l,C,'STM',None,True,xA,xB, methodw=methodw, methodq=methodq)\n",
        "    print(self.height)\n",
        "    visualise(weight,(X.shape[1],X.shape[2]))\n",
        "    visualise_pos(weight,(X.shape[1],X.shape[2]))\n",
        "    visualise_neg(weight,(X.shape[1],X.shape[2]))##THis is hard coded assuming Grayscale Images\n",
        "\n",
        "    self.update_weights_and_bias(weight, bias,wA,wB)\n",
        "\n",
        "\n",
        "  def recursive(self, X,labels, h,C, methodw, methodq):\n",
        "    \n",
        "    self.X = X\n",
        "    self.labels = labels\n",
        "    labels=labels.copy()\n",
        "    count_pos = np.count_nonzero(labels == 1)\n",
        "    count_neg = np.count_nonzero(labels == -1)\n",
        "    print(\"Imbalance at height \"+str(self.height))\n",
        "    print(count_pos)\n",
        "    print(count_neg)\n",
        "    X=X.copy()\n",
        "    weight, bias, _, _1_ = solver(X,labels,C, methodw=methodw, methodq=methodq)\n",
        "    self.update_weights_and_bias(weight, bias)\n",
        "    ypred=self.forward(X)\n",
        "    self.update_classes(ypred,labels)\n",
        "    C1=self.C1\n",
        "    C2=self.C2\n",
        "    C3=self.C3\n",
        "    C4=self.C4\n",
        "    if(len(C3)==0 and len(C4)==0):\n",
        "      return\n",
        "    if(self.height>h-1):\n",
        "      return\n",
        "    if(len(C1)==0 or len(C2)==0):\n",
        "      if(len(C1)!=0):\n",
        "        X_positive=np.take(X,np.hstack((C1,C4)),axis=0) \n",
        "        X_negative=np.take(X,np.hstack((C3)),axis=0)\n",
        "        #x1=X[C1[0]]\n",
        "        #x2=X[C3[0]]\n",
        "      elif(len(C2)!=0):\n",
        "        X_positive=np.take(X,np.hstack((C4)),axis=0)  \n",
        "        X_negative=np.take(X,np.hstack((C2,C3)),axis=0)\n",
        "        #x1=X[C2[0]]\n",
        "        #x2=X[C4[0]]\n",
        "      else:\n",
        "        #x1=X[C3[0]]\n",
        "        #x2=X[C4[0]]\n",
        "        X_positive=np.take(X,np.hstack((C4)),axis=0)  \n",
        "        X_negative=np.take(X,np.hstack((C3)),axis=0)\n",
        "      x1 = centroid(X_positive)\n",
        "      x2 = centroid(X_negative)\n",
        "      weight, bias = getHyperPlaneFromTwoPoints(x1, x2)\n",
        "      self.update_weights_and_bias(weight, bias)\n",
        "      ypred = self.forward(X)\n",
        "      self.update_classes(ypred,labels)\n",
        "      C1=self.C1\n",
        "      C2=self.C2\n",
        "      C3=self.C3\n",
        "      C4=self.C4\n",
        "\n",
        "    if(len(C3)!=0):\n",
        "      X_new=np.take(X,np.hstack((C1,C3,C4)),axis=0)\n",
        "      labels[C1]=-1\n",
        "      labels[C3]=1\n",
        "      labels[C4]=-1\n",
        "      y_new=np.take(labels,np.hstack((C1,C3,C4)),axis=0)\n",
        "      print(y_new.shape)\n",
        "      NodeA = self.insert('A')\n",
        "      NodeA.recursive(X_new,y_new,h,C, methodw=methodw, methodq=methodq)\n",
        "    if(len(C4)!=0):\n",
        "      X_new=np.take(X,np.hstack((C2,C3,C4)),axis=0)\n",
        "      labels[C2]=-1\n",
        "      labels[C3]=-1\n",
        "      labels[C4]=1\n",
        "      y_new=np.take(labels,np.hstack((C2,C3,C4)),axis=0)\n",
        "      NodeB = self.insert('B')\n",
        "      NodeB.recursive(X_new,y_new,h,C, methodw=methodw, methodq=methodq)\n"
      ]
    },
    {
      "cell_type": "code",
      "execution_count": null,
      "metadata": {
        "id": "ML8ln7mQ6Lm3"
      },
      "outputs": [],
      "source": [
        "def train(X,y,height = 1000,C=1000000, methodw = 'L2', methodq = 'L1'):\n",
        "  print(\"Start\")\n",
        "  Tree = Node(X.shape[1:])\n",
        "\n",
        "  Tree.recursive(X,y,height,C, methodw=methodw, methodq=methodq)\n",
        "  print(\"Recursion Done\")\n",
        "\n",
        "  Tree.fine_tune_weights(C, methodw=methodw, methodq=methodq)\n",
        "  print(\"End\")\n",
        "\n",
        "  ypred=Tree.forward(X)\n",
        "  print(\"Train accuracy:\")\n",
        "  print(accuracy(y,ypred))\n",
        "  return Tree"
      ]
    },
    {
      "cell_type": "code",
      "execution_count": null,
      "metadata": {
        "id": "o-Y5rxfw6Nt4"
      },
      "outputs": [],
      "source": [
        "XALL = mnist.train_images()[:10000]/255\n",
        "yALL = mnist.train_labels().reshape(-1,1)[:10000].astype(np.int8)\n",
        "y0 = (yALL == 3)\n",
        "y2 = (yALL == 8)\n",
        "ytot = y0 + y2\n",
        "Xtrain = XALL[ytot.reshape(-1)]\n",
        "ytrain = (yALL[ytot.reshape(-1)] -5.5)/2.5"
      ]
    },
    {
      "cell_type": "code",
      "execution_count": null,
      "metadata": {
        "id": "tMgktrzM6Oq-"
      },
      "outputs": [],
      "source": [
        "Xtrain = np.array(list(map(redoer,Xtrain)))"
      ]
    },
    {
      "cell_type": "code",
      "execution_count": null,
      "metadata": {
        "id": "Nvvb0NMbcWXD"
      },
      "outputs": [],
      "source": [
        "scaler = StandardScaler()\n",
        "Xtrain = scaler.fit_transform(Xtrain.reshape(Xtrain.shape[0],Xtrain.shape[1]*Xtrain.shape[2])).reshape(Xtrain.shape)\n"
      ]
    },
    {
      "cell_type": "code",
      "execution_count": null,
      "metadata": {
        "colab": {
          "base_uri": "https://localhost:8080/"
        },
        "id": "5zhFOr0Z6P7W",
        "outputId": "b9d09953-6186-4587-801a-2b574c104cf3"
      },
      "outputs": [
        {
          "name": "stdout",
          "output_type": "stream",
          "text": [
            "(1976, 20, 20)\n"
          ]
        }
      ],
      "source": [
        "print(Xtrain.shape)"
      ]
    },
    {
      "cell_type": "code",
      "execution_count": null,
      "metadata": {
        "colab": {
          "base_uri": "https://localhost:8080/"
        },
        "id": "TrToU8fAcaa3",
        "outputId": "b2d38b9e-d689-45bf-b929-3fa3e2a70c2a"
      },
      "outputs": [
        {
          "name": "stdout",
          "output_type": "stream",
          "text": [
            "[[ 0.00000000e+00  0.00000000e+00  0.00000000e+00  0.00000000e+00\n",
            "   0.00000000e+00  0.00000000e+00  0.00000000e+00  0.00000000e+00\n",
            "   0.00000000e+00 -2.25017580e-02  2.25017580e-02  2.19158123e-02\n",
            "   2.72140587e-02  3.18281411e-02  1.85991677e-02 -2.25017580e-02\n",
            "   0.00000000e+00  0.00000000e+00  0.00000000e+00  0.00000000e+00]\n",
            " [ 0.00000000e+00  0.00000000e+00  0.00000000e+00  1.38381390e-02\n",
            "   2.33211638e-02  3.13586949e-02  4.04500264e-02  7.15046189e-02\n",
            "   9.28983291e-02  1.16193051e-01  8.05362906e-02  5.66231141e-02\n",
            "   4.33586429e-02  1.64221002e-02  6.33392367e-02  2.45183150e-02\n",
            "   1.92374645e-02  0.00000000e+00  0.00000000e+00  0.00000000e+00]\n",
            " [ 0.00000000e+00  0.00000000e+00  0.00000000e+00 -1.38381390e-02\n",
            "  -2.33211638e-02 -3.13586949e-02 -4.04500264e-02 -7.15046189e-02\n",
            "  -9.28983291e-02 -1.15023042e-01 -1.28893558e-01 -1.28384875e-01\n",
            "  -1.19064309e-01 -8.77364285e-02 -6.34840868e-02 -2.37079006e-02\n",
            "  -1.92374645e-02  0.00000000e+00  0.00000000e+00  0.00000000e+00]\n",
            " [-2.81694327e-02  4.65067845e-02 -3.57413904e-02 -8.21923104e-02\n",
            "  -1.31456619e-01 -2.22809828e-01 -4.08743976e-01  1.87811127e-01\n",
            "   1.13923087e+00  1.90499544e+00  1.29325363e+00  1.14557935e+00\n",
            "  -6.28040926e-01 -6.80836874e-01 -4.33333583e-01 -2.59756708e-01\n",
            "  -1.42159765e-01 -5.86658742e-02 -1.83030781e-02 -6.06014055e-03]\n",
            " [ 3.52124691e-02  2.09627630e-02 -7.90171016e-02 -1.39693800e-01\n",
            "  -2.39175263e-01 -4.17901078e-01 -6.19759792e-01 -5.05426466e-01\n",
            "   1.32333483e+00  9.07964362e-01  8.03673991e-01  8.23326226e-01\n",
            "   4.17116862e-01 -9.90168414e-01 -7.75637153e-01 -4.60462606e-01\n",
            "  -2.76773165e-01 -1.37317953e-01 -4.88284259e-02 -3.77089455e-02]\n",
            " [-1.84577363e-02  4.51377660e-02 -1.05920276e-01 -1.94696518e-01\n",
            "  -3.11226811e-01 -4.98359411e-01 -7.08405031e-01 -1.01518360e+00\n",
            "   9.71756171e-02  1.09770150e+00  7.35092153e-01  1.04759105e+00\n",
            "   1.01406932e+00 -6.73498424e-01 -9.73013029e-01 -5.93797344e-01\n",
            "  -3.82332743e-01 -1.98488900e-01 -6.76660632e-02 -3.16643931e-02]\n",
            " [ 3.46412126e-02  4.41045535e-02 -1.02381807e-01 -1.84930206e-01\n",
            "  -2.90606280e-01 -4.55379436e-01 -6.35953380e-01 -8.34030026e-01\n",
            "  -5.09840886e-01  1.37478969e+00  1.64503664e+00  1.50381167e+00\n",
            "   1.22589541e+00 -1.31266093e+00 -9.55815068e-01 -6.20440106e-01\n",
            "  -3.98500703e-01 -2.20273358e-01 -5.34776465e-02 -9.13034237e-03]\n",
            " [ 3.53267120e-02 -1.82116760e-02 -6.42673250e-02 -1.40521824e-01\n",
            "  -2.25033497e-01 -3.80480342e-01 -5.40685465e-01 -7.16141228e-01\n",
            "  -7.98526590e-01 -7.34892766e-01  1.47923911e+00  1.36278443e+00\n",
            "   1.12925873e+00 -2.67893482e-01 -8.93566544e-01 -5.14230983e-01\n",
            "  -3.16475473e-01 -1.69583188e-01 -6.71870297e-02  3.28227599e-05]\n",
            " [ 3.02961295e-02 -1.78528050e-02 -4.84627867e-02 -1.13194598e-01\n",
            "  -1.81681928e-01 -3.27152798e-01 -5.25534221e-01 -6.71239052e-01\n",
            "   2.40023380e-02  5.26422114e-01  1.15528109e+00  9.73098764e-01\n",
            "   9.94394249e-01 -8.07464875e-01 -6.60424922e-01 -3.39872980e-01\n",
            "  -1.97898210e-01 -1.24701036e-01 -6.62114837e-02 -3.61913739e-02]\n",
            " [-2.08566222e-02  3.58389314e-02 -3.49244294e-02 -9.59666881e-02\n",
            "  -1.52458630e-01 -3.10418291e-01 -6.36957033e-01 -1.45369980e-01\n",
            "   1.19713893e+00  8.16591164e-01  7.22264520e-01  7.05277123e-01\n",
            "   1.01449435e+00 -2.42907973e-01 -5.41271244e-01 -2.52339437e-01\n",
            "  -1.47537695e-01 -9.90356307e-02 -4.80497796e-02 -3.16983366e-02]\n",
            " [ 1.97350286e-02 -1.06181361e-02  2.51934533e-02 -6.68891650e-02\n",
            "  -1.27160939e-01 -2.78575455e-01 -4.81404806e-01 -9.05492176e-01\n",
            "  -5.79507581e-02  5.27120738e-01  4.59590143e-01  7.30475430e-01\n",
            "   1.13520695e+00  1.38787565e-01 -5.50409307e-01 -2.68444992e-01\n",
            "  -1.32370051e-01 -7.58186729e-02 -6.28621971e-03  2.20703679e-02]\n",
            " [ 2.41620977e-03 -3.57113935e-02 -6.42492986e-02 -9.86557318e-02\n",
            "  -1.34373111e-01 -2.38813303e-01 -4.09942282e-01 -7.11421513e-01\n",
            "  -1.05394344e+00 -9.71677003e-01 -9.68888946e-01 -2.56518867e-01\n",
            "   1.25675338e+00  2.89100899e-01 -5.97990508e-01 -3.30804907e-01\n",
            "  -1.57392840e-01 -7.46047443e-02 -3.92256071e-03 -3.54534044e-03]\n",
            " [ 2.67228500e-02 -4.10167740e-02 -1.17203037e-01 -1.96436151e-01\n",
            "  -2.26122855e-01 -3.40936161e-01 -4.90477966e-01 -7.09014391e-01\n",
            "  -8.16835998e-01 -7.59987233e-01 -8.21164445e-01  6.14182170e-01\n",
            "   1.31155745e+00  3.35042176e-01 -6.50712008e-01 -3.84313883e-01\n",
            "  -2.12239258e-01 -8.34140964e-02  7.90514674e-02  3.30804115e-02]\n",
            " [ 9.03485676e-02 -3.16982985e-02 -1.85503193e-01 -2.98037167e-01\n",
            "  -5.16317659e-01  2.34934077e-01 -6.08051307e-01 -7.63597462e-01\n",
            "  -6.68619291e-01 -6.38713790e-01 -3.59012760e-01  1.37536112e+00\n",
            "   1.31886439e+00 -7.26062413e-01 -6.86768157e-01 -3.94817883e-01\n",
            "  -2.24393612e-01 -6.49881470e-02  6.42346972e-02  1.34076462e-02]\n",
            " [ 9.19054426e-02 -4.10687431e-02 -2.11018788e-01 -5.27674981e-01\n",
            "   7.34560496e-01  1.71459028e+00  3.82479195e-03 -7.16709678e-01\n",
            "  -7.50811682e-01 -2.58644932e-01  9.56556612e-01  1.35637824e+00\n",
            "   3.99106039e-01 -1.00965526e+00 -6.24030152e-01 -3.58050883e-01\n",
            "  -1.83014038e-01 -4.63087265e-02  4.71510429e-02 -2.25017580e-02]\n",
            " [ 4.82319985e-02 -2.68477426e-02 -1.79581873e-01 -3.90053815e-01\n",
            "  -4.30028256e-01  9.43715900e-01  1.23562900e+00  1.01061037e+00\n",
            "   8.59997766e-01  1.21231929e+00  1.01582446e+00  6.87631549e-01\n",
            "  -1.13906890e+00 -7.41108139e-01 -4.83757126e-01 -2.63101640e-01\n",
            "  -1.28731507e-01 -3.68113568e-02  3.24258836e-02  2.25017580e-02]\n",
            " [ 4.98584068e-02  3.08964795e-03 -1.19558673e-01 -2.32790421e-01\n",
            "  -5.83524036e-01 -2.83315265e-01  1.57125740e-02  1.92575347e-01\n",
            "   6.41160883e-01  1.03028499e+00  8.31040295e-01 -9.00337016e-01\n",
            "  -7.89972997e-01 -4.94865291e-01 -3.13242496e-01 -1.57392192e-01\n",
            "  -7.69015318e-02 -3.07657169e-02  3.38681016e-02  2.25017580e-02]\n",
            " [ 0.00000000e+00  6.30468551e-02 -6.30468551e-02 -1.20226478e-01\n",
            "  -2.20667598e-01 -3.71141770e-01 -5.05906194e-01 -6.62153713e-01\n",
            "  -7.84550939e-01 -7.96355570e-01 -6.75039559e-01 -5.15297976e-01\n",
            "  -3.52087932e-01 -2.21929011e-01 -1.42073463e-01 -7.47561831e-02\n",
            "  -3.38135076e-02  0.00000000e+00  0.00000000e+00  0.00000000e+00]\n",
            " [ 0.00000000e+00 -4.80514367e-02  4.80514367e-02 -9.21836855e-03\n",
            "  -2.05529490e-02  9.24074607e-03  5.79760824e-02  9.72832500e-02\n",
            "   1.36397253e-01  1.28960262e-01  1.22912135e-01  1.00450260e-01\n",
            "   5.43247310e-02 -1.70453665e-02 -1.49037147e-02  8.92956350e-03\n",
            "  -1.53952876e-02  0.00000000e+00  0.00000000e+00  0.00000000e+00]\n",
            " [ 0.00000000e+00 -2.25017580e-02  2.25017580e-02  4.39867506e-02\n",
            "   4.47054229e-02  8.77920958e-02  1.17294534e-01  9.15250043e-02\n",
            "   7.11057000e-02  7.54314680e-02  6.41482850e-02  1.19830418e-01\n",
            "   4.85990038e-02  1.00251964e-02 -1.03159082e-02 -2.58167930e-02\n",
            "  -1.45542236e-02  0.00000000e+00  0.00000000e+00  0.00000000e+00]]\n"
          ]
        }
      ],
      "source": [
        "print(Xtrain[1])"
      ]
    },
    {
      "cell_type": "code",
      "execution_count": null,
      "metadata": {
        "colab": {
          "base_uri": "https://localhost:8080/",
          "height": 1000
        },
        "id": "3OP3V3jW6Q_D",
        "outputId": "1bf77bbf-44a7-4743-98de-b57ce4b2a70b"
      },
      "outputs": [
        {
          "name": "stdout",
          "output_type": "stream",
          "text": [
            "Start\n",
            "Imbalance at height 0\n",
            "944\n",
            "1032\n",
            "(952, 1)\n",
            "Imbalance at height 1\n",
            "8\n",
            "944\n",
            "Imbalance at height 2\n",
            "4\n",
            "944\n",
            "Imbalance at height 1\n",
            "5\n",
            "1032\n",
            "Recursion Done\n",
            "2\n"
          ]
        },
        {
          "data": {
            "image/png": "[encoded data removed]",
            "text/plain": [
              "<Figure size 432x288 with 1 Axes>"
            ]
          },
          "metadata": {
            "needs_background": "light"
          },
          "output_type": "display_data"
        },
        {
          "data": {
            "image/png": "[encoded data removed]",
            "text/plain": [
              "<Figure size 432x288 with 1 Axes>"
            ]
          },
          "metadata": {
            "needs_background": "light"
          },
          "output_type": "display_data"
        },
        {
          "data": {
            "image/png": "[encoded data removed]",
            "text/plain": [
              "<Figure size 432x288 with 1 Axes>"
            ]
          },
          "metadata": {
            "needs_background": "light"
          },
          "output_type": "display_data"
        },
        {
          "name": "stdout",
          "output_type": "stream",
          "text": [
            "1\n"
          ]
        },
        {
          "data": {
            "image/png": "[encoded data removed]",
            "text/plain": [
              "<Figure size 432x288 with 1 Axes>"
            ]
          },
          "metadata": {
            "needs_background": "light"
          },
          "output_type": "display_data"
        },
        {
          "data": {
            "image/png": "[encoded data removed]",
            "text/plain": [
              "<Figure size 432x288 with 1 Axes>"
            ]
          },
          "metadata": {
            "needs_background": "light"
          },
          "output_type": "display_data"
        },
        {
          "data": {
            "image/png": "[encoded data removed]",
            "text/plain": [
              "<Figure size 432x288 with 1 Axes>"
            ]
          },
          "metadata": {
            "needs_background": "light"
          },
          "output_type": "display_data"
        },
        {
          "name": "stderr",
          "output_type": "stream",
          "text": [
            "/usr/local/lib/python3.7/dist-packages/ipykernel_launcher.py:79: DeprecationWarning: np.asscalar(a) is deprecated since NumPy v1.16, use a.item() instead\n"
          ]
        },
        {
          "name": "stdout",
          "output_type": "stream",
          "text": [
            "1\n"
          ]
        },
        {
          "data": {
            "image/png": "[encoded data removed]",
            "text/plain": [
              "<Figure size 432x288 with 1 Axes>"
            ]
          },
          "metadata": {
            "needs_background": "light"
          },
          "output_type": "display_data"
        },
        {
          "data": {
            "image/png": "[encoded data removed]",
            "text/plain": [
              "<Figure size 432x288 with 1 Axes>"
            ]
          },
          "metadata": {
            "needs_background": "light"
          },
          "output_type": "display_data"
        },
        {
          "data": {
            "image/png": "[encoded data removed]",
            "text/plain": [
              "<Figure size 432x288 with 1 Axes>"
            ]
          },
          "metadata": {
            "needs_background": "light"
          },
          "output_type": "display_data"
        },
        {
          "name": "stdout",
          "output_type": "stream",
          "text": [
            "0\n"
          ]
        },
        {
          "data": {
            "image/png": "[encoded data removed]",
            "text/plain": [
              "<Figure size 432x288 with 1 Axes>"
            ]
          },
          "metadata": {
            "needs_background": "light"
          },
          "output_type": "display_data"
        },
        {
          "data": {
            "image/png": "[encoded data removed]",
            "text/plain": [
              "<Figure size 432x288 with 1 Axes>"
            ]
          },
          "metadata": {
            "needs_background": "light"
          },
          "output_type": "display_data"
        },
        {
          "data": {
            "image/png": "[encoded data removed]",
            "text/plain": [
              "<Figure size 432x288 with 1 Axes>"
            ]
          },
          "metadata": {
            "needs_background": "light"
          },
          "output_type": "display_data"
        },
        {
          "name": "stdout",
          "output_type": "stream",
          "text": [
            "End\n",
            "Train accuracy:\n",
            "0.9984817813765182\n"
          ]
        },
        {
          "name": "stderr",
          "output_type": "stream",
          "text": [
            "/usr/local/lib/python3.7/dist-packages/ipykernel_launcher.py:69: DeprecationWarning: np.asscalar(a) is deprecated since NumPy v1.16, use a.item() instead\n",
            "/usr/local/lib/python3.7/dist-packages/ipykernel_launcher.py:70: DeprecationWarning: np.asscalar(a) is deprecated since NumPy v1.16, use a.item() instead\n"
          ]
        }
      ],
      "source": [
        "model = train(Xtrain,ytrain,2,0.1,'L1','L1')"
      ]
    },
    {
      "cell_type": "code",
      "execution_count": null,
      "metadata": {
        "colab": {
          "base_uri": "https://localhost:8080/"
        },
        "id": "TBb1Oslo6SOI",
        "outputId": "b81aa517-fe61-442e-8078-ac4e052eea92"
      },
      "outputs": [
        {
          "name": "stdout",
          "output_type": "stream",
          "text": [
            "(1976, 1)\n",
            "0.9984817813765182\n"
          ]
        },
        {
          "name": "stderr",
          "output_type": "stream",
          "text": [
            "/usr/local/lib/python3.7/dist-packages/ipykernel_launcher.py:79: DeprecationWarning: np.asscalar(a) is deprecated since NumPy v1.16, use a.item() instead\n",
            "/usr/local/lib/python3.7/dist-packages/ipykernel_launcher.py:69: DeprecationWarning: np.asscalar(a) is deprecated since NumPy v1.16, use a.item() instead\n",
            "/usr/local/lib/python3.7/dist-packages/ipykernel_launcher.py:70: DeprecationWarning: np.asscalar(a) is deprecated since NumPy v1.16, use a.item() instead\n"
          ]
        }
      ],
      "source": [
        "y=model.forward(Xtrain)\n",
        "print(y.shape)\n",
        "print(accuracy(y,ytrain))"
      ]
    },
    {
      "cell_type": "code",
      "execution_count": null,
      "metadata": {
        "id": "SBWiSIC76UVM"
      },
      "outputs": [],
      "source": [
        "XALL_test = mnist.train_images()[10000:20000]/255\n",
        "yALL_test = mnist.train_labels().reshape(-1,1)[10000:20000].astype(np.int8)\n",
        "y0_test = (yALL_test == 3)\n",
        "y2_test = (yALL_test == 8)\n",
        "ytot_test = y0_test + y2_test\n",
        "Xtest = XALL_test[ytot_test.reshape(-1)]\n",
        "ytest = (yALL_test[ytot_test.reshape(-1)] -5.5)/2.5"
      ]
    },
    {
      "cell_type": "code",
      "execution_count": null,
      "metadata": {
        "id": "voLX7yhw6VkM"
      },
      "outputs": [],
      "source": [
        "Xtest_resized = np.array(list(map(redoer,Xtest)))"
      ]
    },
    {
      "cell_type": "code",
      "execution_count": null,
      "metadata": {
        "id": "x9AK3KZQ6Wq5"
      },
      "outputs": [],
      "source": [
        "y=model.forward(Xtest_resized)\n",
        "print(y.shape)\n",
        "print(accuracy(y,ytest))"
      ]
    },
    {
      "cell_type": "code",
      "execution_count": null,
      "metadata": {
        "id": "qOIHNIF-6X--"
      },
      "outputs": [],
      "source": [
        "a=np.asarray([1,-2,3,4])"
      ]
    },
    {
      "cell_type": "code",
      "execution_count": null,
      "metadata": {
        "colab": {
          "base_uri": "https://localhost:8080/"
        },
        "id": "wjmFCVb4e53a",
        "outputId": "b8a41693-f5ac-48b7-a551-75db2d1053fc"
      },
      "outputs": [
        {
          "name": "stdout",
          "output_type": "stream",
          "text": [
            "[1 0 3 4]\n"
          ]
        }
      ],
      "source": [
        "print(np.maximum(a,0))"
      ]
    },
    {
      "cell_type": "code",
      "execution_count": 5,
      "metadata": {
        "id": "iIfaemKye8mS"
      },
      "outputs": [],
      "source": [
        "transform = transforms.Compose([transforms.ToTensor(),])"
      ]
    },
    {
      "cell_type": "code",
      "execution_count": 7,
      "metadata": {
        "colab": {
          "base_uri": "https://localhost:8080/",
          "height": 84,
          "referenced_widgets": [
            "ee1b1639e167483d81d7cd849aae00dc",
            "3f928765bc1b4204a85e786a889b32cf",
            "128f858024354f8fbba9f94b9d05c331",
            "d1b5b204cc7341acab06f7b8eed83858",
            "56eb2354420940bb99dada90293492fa",
            "9ddf603c4b63450987cbcceacd6952f1",
            "bc2545a1b610410eb116e1f8f432f288",
            "8d8be81f008c4c0bbd3c180c6c63335b",
            "1904026abd334287b98f302a7f261633",
            "3dd479601dbb48a0bdf17f144c8ba1eb",
            "89e4081939f5458b92fad30029c5ef46"
          ]
        },
        "id": "sfxleK3nmn68",
        "outputId": "1bb7168b-b674-4bf0-f3ef-a3f4562527f9"
      },
      "outputs": [],
      "source": [
        "train_dataset = torchvision.datasets.CIFAR10(root = '. / data', train = True, download = False,transform=transform) #Training data set\n"
      ]
    },
    {
      "cell_type": "code",
      "execution_count": 14,
      "metadata": {
        "id": "TMqzbDrzmwSC"
      },
      "outputs": [],
      "source": [
        "train_loader = DataLoader(train_dataset, batch_size=len(train_dataset))"
      ]
    },
    {
      "cell_type": "code",
      "execution_count": 8,
      "metadata": {
        "id": "ns_f-O5Pmyqv"
      },
      "outputs": [],
      "source": [
        "train_dataset_array = next(iter(train_loader))[0].numpy().transpose((0,2,3,1))\n",
        "train_labels = next(iter(train_loader))[1].numpy().reshape((-1,1))"
      ]
    },
    {
      "cell_type": "code",
      "execution_count": 24,
      "metadata": {},
      "outputs": [
        {
          "data": {
            "text/plain": [
              "9"
            ]
          },
          "execution_count": 24,
          "metadata": {},
          "output_type": "execute_result"
        }
      ],
      "source": [
        "np.max(train_labels)"
      ]
    },
    {
      "cell_type": "code",
      "execution_count": null,
      "metadata": {
        "colab": {
          "base_uri": "https://localhost:8080/"
        },
        "id": "AiEo4H6bmz_Q",
        "outputId": "8797b7a8-d696-42a9-e091-ebb6c21c5d1d"
      },
      "outputs": [
        {
          "name": "stdout",
          "output_type": "stream",
          "text": [
            "(50000, 32, 32, 3)\n",
            "(50000, 1)\n"
          ]
        }
      ],
      "source": [
        "print(train_dataset_array.shape)\n",
        "print(train_labels.shape)"
      ]
    },
    {
      "cell_type": "code",
      "execution_count": null,
      "metadata": {
        "id": "-nHyVti9m08v"
      },
      "outputs": [],
      "source": [
        "XALL = train_dataset_array\n",
        "yALL  = train_labels"
      ]
    },
    {
      "cell_type": "code",
      "execution_count": null,
      "metadata": {
        "id": "G9ctrfj5m25W"
      },
      "outputs": [],
      "source": [
        "y0 = (yALL == 3)\n",
        "y2 = (yALL == 8)\n",
        "ytot = y0 + y2\n",
        "Xtrain = XALL[ytot.reshape(-1)]\n",
        "ytrain = (yALL[ytot.reshape(-1)] -5.5)/2.5"
      ]
    },
    {
      "cell_type": "code",
      "execution_count": null,
      "metadata": {
        "colab": {
          "base_uri": "https://localhost:8080/",
          "height": 764
        },
        "id": "0BeMTP_Jm34n",
        "outputId": "4ce920b7-0e76-4889-da31-0aabf9b24046"
      },
      "outputs": [
        {
          "data": {
            "image/png": "[encoded data removed]",
            "text/plain": [
              "<Figure size 432x288 with 1 Axes>"
            ]
          },
          "metadata": {
            "needs_background": "light"
          },
          "output_type": "display_data"
        },
        {
          "data": {
            "image/png": "[encoded data removed]",
            "text/plain": [
              "<Figure size 432x288 with 1 Axes>"
            ]
          },
          "metadata": {
            "needs_background": "light"
          },
          "output_type": "display_data"
        },
        {
          "data": {
            "image/png": "[encoded data removed]",
            "text/plain": [
              "<Figure size 432x288 with 1 Axes>"
            ]
          },
          "metadata": {
            "needs_background": "light"
          },
          "output_type": "display_data"
        }
      ],
      "source": [
        "Xtrain\n",
        "plt.imshow(Xtrain[0], interpolation='nearest')\n",
        "plt.show()\n",
        "plt.imshow(Xtrain[2], interpolation='nearest')\n",
        "plt.show()\n",
        "plt.imshow(Xtrain[3], interpolation='nearest')\n",
        "plt.show()"
      ]
    },
    {
      "cell_type": "code",
      "execution_count": null,
      "metadata": {
        "id": "QMs3vgFOm5gj"
      },
      "outputs": [],
      "source": [
        "def redoer(image, shape = (32,32), interpolation = cv2.INTER_CUBIC):\n",
        "    assert(len(shape)==2)\n",
        "    new_shape = (shape[1],shape[0])\n",
        "    shape=new_shape\n",
        "    reimage = cv2.resize(image, shape, interpolation=interpolation)\n",
        "    if len(reimage.shape)==3:\n",
        "        reimage = np.squeeze(np.sum(reimage,axis = 2))\n",
        "        reimage = reimage.reshape((reimage.shape[0],reimage.shape[1]))\n",
        "    return reimage"
      ]
    },
    {
      "cell_type": "code",
      "execution_count": null,
      "metadata": {
        "id": "_jmVAWqHm8DE"
      },
      "outputs": [],
      "source": [
        "Xtrain_resized = np.array(list(map(redoer,Xtrain)))"
      ]
    },
    {
      "cell_type": "code",
      "execution_count": null,
      "metadata": {
        "colab": {
          "base_uri": "https://localhost:8080/",
          "height": 266
        },
        "id": "axyDkJ9fm9yA",
        "outputId": "eb79212f-3c63-4842-9ec9-c1fba52aa781"
      },
      "outputs": [
        {
          "data": {
            "image/png": "[encoded data removed]",
            "text/plain": [
              "<Figure size 432x288 with 1 Axes>"
            ]
          },
          "metadata": {
            "needs_background": "light"
          },
          "output_type": "display_data"
        }
      ],
      "source": [
        "plt.imshow(Xtrain_resized[3], interpolation='nearest')\n",
        "plt.show()"
      ]
    },
    {
      "cell_type": "code",
      "execution_count": null,
      "metadata": {
        "id": "14sfVTUkplwz"
      },
      "outputs": [],
      "source": [
        "scaler = StandardScaler()\n",
        "Xtrain_resized = scaler.fit_transform(Xtrain_resized.reshape(Xtrain_resized.shape[0],Xtrain_resized.shape[1]*Xtrain_resized.shape[2])).reshape(Xtrain_resized.shape)"
      ]
    },
    {
      "cell_type": "code",
      "execution_count": null,
      "metadata": {
        "colab": {
          "base_uri": "https://localhost:8080/",
          "height": 920
        },
        "id": "xUqL1OCNm-9f",
        "outputId": "dbb3463d-119b-41d3-cbf3-43ab49daf364"
      },
      "outputs": [
        {
          "name": "stdout",
          "output_type": "stream",
          "text": [
            "Start\n",
            "Imbalance at height 0\n",
            "517\n",
            "483\n",
            "Recursion Done\n",
            "0\n"
          ]
        },
        {
          "data": {
            "image/png": "[encoded data removed]",
            "text/plain": [
              "<Figure size 432x288 with 1 Axes>"
            ]
          },
          "metadata": {
            "needs_background": "light"
          },
          "output_type": "display_data"
        },
        {
          "data": {
            "image/png": "[encoded data removed]",
            "text/plain": [
              "<Figure size 432x288 with 1 Axes>"
            ]
          },
          "metadata": {
            "needs_background": "light"
          },
          "output_type": "display_data"
        },
        {
          "data": {
            "image/png": "[encoded data removed]",
            "text/plain": [
              "<Figure size 432x288 with 1 Axes>"
            ]
          },
          "metadata": {
            "needs_background": "light"
          },
          "output_type": "display_data"
        },
        {
          "name": "stdout",
          "output_type": "stream",
          "text": [
            "End\n",
            "Train accuracy:\n",
            "1.0\n"
          ]
        }
      ],
      "source": [
        "model = train(Xtrain_resized[0:1000],ytrain[0:1000],2,0.1,'L1','L1')"
      ]
    },
    {
      "cell_type": "code",
      "execution_count": null,
      "metadata": {
        "id": "OOYDl9uqnIfK"
      },
      "outputs": [],
      "source": []
    }
  ],
  "metadata": {
    "colab": {
      "name": "Testing.ipynb",
      "provenance": []
    },
    "kernelspec": {
      "display_name": "Python 3",
      "name": "python3"
    },
    "language_info": {
      "codemirror_mode": {
        "name": "ipython",
        "version": 3
      },
      "file_extension": ".py",
      "mimetype": "text/x-python",
      "name": "python",
      "nbconvert_exporter": "python",
      "pygments_lexer": "ipython3",
      "version": "3.8.2"
    },
    "widgets": {
      "application/vnd.jupyter.widget-state+json": {
        "128f858024354f8fbba9f94b9d05c331": {
          "model_module": "@jupyter-widgets/controls",
          "model_module_version": "1.5.0",
          "model_name": "HTMLModel",
          "state": {
            "_dom_classes": [],
            "_model_module": "@jupyter-widgets/controls",
            "_model_module_version": "1.5.0",
            "_model_name": "HTMLModel",
            "_view_count": null,
            "_view_module": "@jupyter-widgets/controls",
            "_view_module_version": "1.5.0",
            "_view_name": "HTMLView",
            "description": "",
            "description_tooltip": null,
            "layout": "IPY_MODEL_bc2545a1b610410eb116e1f8f432f288",
            "placeholder": "​",
            "style": "IPY_MODEL_9ddf603c4b63450987cbcceacd6952f1",
            "value": ""
          }
        },
        "1904026abd334287b98f302a7f261633": {
          "model_module": "@jupyter-widgets/base",
          "model_module_version": "1.2.0",
          "model_name": "LayoutModel",
          "state": {
            "_model_module": "@jupyter-widgets/base",
            "_model_module_version": "1.2.0",
            "_model_name": "LayoutModel",
            "_view_count": null,
            "_view_module": "@jupyter-widgets/base",
            "_view_module_version": "1.2.0",
            "_view_name": "LayoutView",
            "align_content": null,
            "align_items": null,
            "align_self": null,
            "border": null,
            "bottom": null,
            "display": null,
            "flex": null,
            "flex_flow": null,
            "grid_area": null,
            "grid_auto_columns": null,
            "grid_auto_flow": null,
            "grid_auto_rows": null,
            "grid_column": null,
            "grid_gap": null,
            "grid_row": null,
            "grid_template_areas": null,
            "grid_template_columns": null,
            "grid_template_rows": null,
            "height": null,
            "justify_content": null,
            "justify_items": null,
            "left": null,
            "margin": null,
            "max_height": null,
            "max_width": null,
            "min_height": null,
            "min_width": null,
            "object_fit": null,
            "object_position": null,
            "order": null,
            "overflow": null,
            "overflow_x": null,
            "overflow_y": null,
            "padding": null,
            "right": null,
            "top": null,
            "visibility": null,
            "width": null
          }
        },
        "3dd479601dbb48a0bdf17f144c8ba1eb": {
          "model_module": "@jupyter-widgets/controls",
          "model_module_version": "1.5.0",
          "model_name": "DescriptionStyleModel",
          "state": {
            "_model_module": "@jupyter-widgets/controls",
            "_model_module_version": "1.5.0",
            "_model_name": "DescriptionStyleModel",
            "_view_count": null,
            "_view_module": "@jupyter-widgets/base",
            "_view_module_version": "1.2.0",
            "_view_name": "StyleView",
            "description_width": ""
          }
        },
        "3f928765bc1b4204a85e786a889b32cf": {
          "model_module": "@jupyter-widgets/base",
          "model_module_version": "1.2.0",
          "model_name": "LayoutModel",
          "state": {
            "_model_module": "@jupyter-widgets/base",
            "_model_module_version": "1.2.0",
            "_model_name": "LayoutModel",
            "_view_count": null,
            "_view_module": "@jupyter-widgets/base",
            "_view_module_version": "1.2.0",
            "_view_name": "LayoutView",
            "align_content": null,
            "align_items": null,
            "align_self": null,
            "border": null,
            "bottom": null,
            "display": null,
            "flex": null,
            "flex_flow": null,
            "grid_area": null,
            "grid_auto_columns": null,
            "grid_auto_flow": null,
            "grid_auto_rows": null,
            "grid_column": null,
            "grid_gap": null,
            "grid_row": null,
            "grid_template_areas": null,
            "grid_template_columns": null,
            "grid_template_rows": null,
            "height": null,
            "justify_content": null,
            "justify_items": null,
            "left": null,
            "margin": null,
            "max_height": null,
            "max_width": null,
            "min_height": null,
            "min_width": null,
            "object_fit": null,
            "object_position": null,
            "order": null,
            "overflow": null,
            "overflow_x": null,
            "overflow_y": null,
            "padding": null,
            "right": null,
            "top": null,
            "visibility": null,
            "width": null
          }
        },
        "56eb2354420940bb99dada90293492fa": {
          "model_module": "@jupyter-widgets/controls",
          "model_module_version": "1.5.0",
          "model_name": "HTMLModel",
          "state": {
            "_dom_classes": [],
            "_model_module": "@jupyter-widgets/controls",
            "_model_module_version": "1.5.0",
            "_model_name": "HTMLModel",
            "_view_count": null,
            "_view_module": "@jupyter-widgets/controls",
            "_view_module_version": "1.5.0",
            "_view_name": "HTMLView",
            "description": "",
            "description_tooltip": null,
            "layout": "IPY_MODEL_89e4081939f5458b92fad30029c5ef46",
            "placeholder": "​",
            "style": "IPY_MODEL_3dd479601dbb48a0bdf17f144c8ba1eb",
            "value": " 170499072/? [00:03&lt;00:00, 45950625.74it/s]"
          }
        },
        "89e4081939f5458b92fad30029c5ef46": {
          "model_module": "@jupyter-widgets/base",
          "model_module_version": "1.2.0",
          "model_name": "LayoutModel",
          "state": {
            "_model_module": "@jupyter-widgets/base",
            "_model_module_version": "1.2.0",
            "_model_name": "LayoutModel",
            "_view_count": null,
            "_view_module": "@jupyter-widgets/base",
            "_view_module_version": "1.2.0",
            "_view_name": "LayoutView",
            "align_content": null,
            "align_items": null,
            "align_self": null,
            "border": null,
            "bottom": null,
            "display": null,
            "flex": null,
            "flex_flow": null,
            "grid_area": null,
            "grid_auto_columns": null,
            "grid_auto_flow": null,
            "grid_auto_rows": null,
            "grid_column": null,
            "grid_gap": null,
            "grid_row": null,
            "grid_template_areas": null,
            "grid_template_columns": null,
            "grid_template_rows": null,
            "height": null,
            "justify_content": null,
            "justify_items": null,
            "left": null,
            "margin": null,
            "max_height": null,
            "max_width": null,
            "min_height": null,
            "min_width": null,
            "object_fit": null,
            "object_position": null,
            "order": null,
            "overflow": null,
            "overflow_x": null,
            "overflow_y": null,
            "padding": null,
            "right": null,
            "top": null,
            "visibility": null,
            "width": null
          }
        },
        "8d8be81f008c4c0bbd3c180c6c63335b": {
          "model_module": "@jupyter-widgets/controls",
          "model_module_version": "1.5.0",
          "model_name": "ProgressStyleModel",
          "state": {
            "_model_module": "@jupyter-widgets/controls",
            "_model_module_version": "1.5.0",
            "_model_name": "ProgressStyleModel",
            "_view_count": null,
            "_view_module": "@jupyter-widgets/base",
            "_view_module_version": "1.2.0",
            "_view_name": "StyleView",
            "bar_color": null,
            "description_width": ""
          }
        },
        "9ddf603c4b63450987cbcceacd6952f1": {
          "model_module": "@jupyter-widgets/controls",
          "model_module_version": "1.5.0",
          "model_name": "DescriptionStyleModel",
          "state": {
            "_model_module": "@jupyter-widgets/controls",
            "_model_module_version": "1.5.0",
            "_model_name": "DescriptionStyleModel",
            "_view_count": null,
            "_view_module": "@jupyter-widgets/base",
            "_view_module_version": "1.2.0",
            "_view_name": "StyleView",
            "description_width": ""
          }
        },
        "bc2545a1b610410eb116e1f8f432f288": {
          "model_module": "@jupyter-widgets/base",
          "model_module_version": "1.2.0",
          "model_name": "LayoutModel",
          "state": {
            "_model_module": "@jupyter-widgets/base",
            "_model_module_version": "1.2.0",
            "_model_name": "LayoutModel",
            "_view_count": null,
            "_view_module": "@jupyter-widgets/base",
            "_view_module_version": "1.2.0",
            "_view_name": "LayoutView",
            "align_content": null,
            "align_items": null,
            "align_self": null,
            "border": null,
            "bottom": null,
            "display": null,
            "flex": null,
            "flex_flow": null,
            "grid_area": null,
            "grid_auto_columns": null,
            "grid_auto_flow": null,
            "grid_auto_rows": null,
            "grid_column": null,
            "grid_gap": null,
            "grid_row": null,
            "grid_template_areas": null,
            "grid_template_columns": null,
            "grid_template_rows": null,
            "height": null,
            "justify_content": null,
            "justify_items": null,
            "left": null,
            "margin": null,
            "max_height": null,
            "max_width": null,
            "min_height": null,
            "min_width": null,
            "object_fit": null,
            "object_position": null,
            "order": null,
            "overflow": null,
            "overflow_x": null,
            "overflow_y": null,
            "padding": null,
            "right": null,
            "top": null,
            "visibility": null,
            "width": null
          }
        },
        "d1b5b204cc7341acab06f7b8eed83858": {
          "model_module": "@jupyter-widgets/controls",
          "model_module_version": "1.5.0",
          "model_name": "FloatProgressModel",
          "state": {
            "_dom_classes": [],
            "_model_module": "@jupyter-widgets/controls",
            "_model_module_version": "1.5.0",
            "_model_name": "FloatProgressModel",
            "_view_count": null,
            "_view_module": "@jupyter-widgets/controls",
            "_view_module_version": "1.5.0",
            "_view_name": "ProgressView",
            "bar_style": "success",
            "description": "",
            "description_tooltip": null,
            "layout": "IPY_MODEL_1904026abd334287b98f302a7f261633",
            "max": 170498071,
            "min": 0,
            "orientation": "horizontal",
            "style": "IPY_MODEL_8d8be81f008c4c0bbd3c180c6c63335b",
            "value": 170498071
          }
        },
        "ee1b1639e167483d81d7cd849aae00dc": {
          "model_module": "@jupyter-widgets/controls",
          "model_module_version": "1.5.0",
          "model_name": "HBoxModel",
          "state": {
            "_dom_classes": [],
            "_model_module": "@jupyter-widgets/controls",
            "_model_module_version": "1.5.0",
            "_model_name": "HBoxModel",
            "_view_count": null,
            "_view_module": "@jupyter-widgets/controls",
            "_view_module_version": "1.5.0",
            "_view_name": "HBoxView",
            "box_style": "",
            "children": [
              "IPY_MODEL_128f858024354f8fbba9f94b9d05c331",
              "IPY_MODEL_d1b5b204cc7341acab06f7b8eed83858",
              "IPY_MODEL_56eb2354420940bb99dada90293492fa"
            ],
            "layout": "IPY_MODEL_3f928765bc1b4204a85e786a889b32cf"
          }
        }
      }
    }
  },
  "nbformat": 4,
  "nbformat_minor": 0
}
